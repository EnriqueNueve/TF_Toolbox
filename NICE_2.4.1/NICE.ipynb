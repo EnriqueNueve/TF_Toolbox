{
 "cells": [
  {
   "cell_type": "markdown",
   "metadata": {},
   "source": [
    "# NICE with tf==2.4.1 & tfp==0.12.1\n"
   ]
  },
  {
   "cell_type": "markdown",
   "metadata": {},
   "source": [
    "### Paper: https://arxiv.org/pdf/1410.8516.pdf\n",
    "### Implementation inspiration: https://github.com/DakshIdnani/pytorch-nice"
   ]
  },
  {
   "cell_type": "markdown",
   "metadata": {},
   "source": [
    "## Import modules"
   ]
  },
  {
   "cell_type": "code",
   "execution_count": 1,
   "metadata": {},
   "outputs": [],
   "source": [
    "from os import path\n",
    "import numpy as np \n",
    "import pandas as pd\n",
    "\n",
    "import tensorflow as tf \n",
    "from tensorflow import keras\n",
    "import tensorflow_probability as tfp\n",
    "tfd = tfp.distributions\n",
    "\n",
    "from sklearn.datasets import fetch_openml\n",
    "from sklearn.model_selection import train_test_split\n",
    "\n",
    "%matplotlib inline\n",
    "import matplotlib.pyplot as plt"
   ]
  },
  {
   "cell_type": "code",
   "execution_count": 2,
   "metadata": {},
   "outputs": [],
   "source": [
    "np.random.seed(42)\n",
    "tf.random.set_seed(42)"
   ]
  },
  {
   "cell_type": "markdown",
   "metadata": {},
   "source": [
    "## Load data"
   ]
  },
  {
   "cell_type": "code",
   "execution_count": 3,
   "metadata": {},
   "outputs": [],
   "source": [
    "data_path = \"mnist_784.csv\""
   ]
  },
  {
   "cell_type": "code",
   "execution_count": 4,
   "metadata": {},
   "outputs": [],
   "source": [
    "if path.exists(data_path):\n",
    "    data = pd.read_csv(data_path)\n",
    "    X, y = data.iloc[:,:-1].values/255, data.iloc[:,-1].values/255\n",
    "    X, y = X+np.random.uniform(0,1/256,(X.shape[0],X.shape[1])), y+np.random.uniform(0,1/256,y.shape)\n",
    "else:\n",
    "    X, y = fetch_openml('mnist_784', version=1, return_X_y=True)\n",
    "    X, y = X/255, y.astype(np.float)/255\n",
    "    X, y = X+np.random.uniform(0,1/256,(X.shape[0],X.shape[1])), y+np.random.uniform(0,1/256,y.shape)\n",
    "\n",
    "X_train, X_test, y_train, y_test = train_test_split(X, y, test_size=0.33, random_state=42)\n",
    "X_train, X_val, y_train, y_val = train_test_split(X_train, y_train, test_size=0.3, random_state=42)"
   ]
  },
  {
   "cell_type": "code",
   "execution_count": 5,
   "metadata": {},
   "outputs": [
    {
     "data": {
      "image/png": "[encoded data removed]",
      "text/plain": [
       "<Figure size 432x288 with 1 Axes>"
      ]
     },
     "metadata": {
      "needs_background": "light"
     },
     "output_type": "display_data"
    }
   ],
   "source": [
    "plt.imshow(X_train[0,:].reshape(28,28),cmap='gray')\n",
    "plt.show()"
   ]
  },
  {
   "cell_type": "markdown",
   "metadata": {},
   "source": [
    "## Model"
   ]
  },
  {
   "cell_type": "code",
   "execution_count": 6,
   "metadata": {},
   "outputs": [],
   "source": [
    "class ScaleLayer(tf.keras.layers.Layer):\n",
    "    \"\"\"Layer that performs scaling.\"\"\"\n",
    "    def __init__(self,dim):\n",
    "        super(ScaleLayer, self).__init__()\n",
    "        w_init = tf.ones_initializer()\n",
    "        self.S = tf.Variable(\n",
    "            initial_value=w_init(shape=(dim), dtype=\"float32\"),\n",
    "            trainable=True,\n",
    "        )\n",
    "\n",
    "    def call(self, h,log_det_jacob=0, inverse=False):\n",
    "        if inverse == True:\n",
    "            y = tf.multiply(tf.math.exp(-self.S),h)\n",
    "            return y\n",
    "        h = tf.multiply(tf.math.exp(self.S),h)\n",
    "        log_det_jacob = tf.math.reduce_sum(self.S)\n",
    "        return h, log_det_jacob"
   ]
  },
  {
   "cell_type": "code",
   "execution_count": 7,
   "metadata": {},
   "outputs": [],
   "source": [
    "class Linear(keras.layers.Layer):\n",
    "    \"\"\"y = w.x + b\"\"\"\n",
    "    def __init__(self,name,units=32, input_dim=32):\n",
    "        super(Linear, self).__init__()\n",
    "        self.w = self.add_weight(name + \"_weight\",\n",
    "                               shape=[input_dim, units],\n",
    "                               regularizer=tf.keras.regularizers.l1_l2(.0001))\n",
    "        self.b = self.add_weight(name + \"_bias\",\n",
    "                               shape=[units],\n",
    "                               regularizer=tf.keras.regularizers.l1_l2(.0001))\n",
    "\n",
    "    def call(self, inputs):\n",
    "        return tf.matmul(inputs, self.w) + self.b"
   ]
  },
  {
   "cell_type": "code",
   "execution_count": 8,
   "metadata": {},
   "outputs": [],
   "source": [
    "class AdditiveCouple(tf.keras.layers.Layer):\n",
    "    def __init__(self,name, dim, mask,couple_dim):\n",
    "        super(AdditiveCouple, self).__init__()\n",
    "        \n",
    "        self.dim = dim\n",
    "        self.couple_dim = couple_dim\n",
    "        self.mask = mask\n",
    "        \n",
    "        # Declare layers of NeuralNet~m\n",
    "        self.l1 = Linear(name+'1',self.couple_dim,self.dim)\n",
    "        self.l2 = Linear(name+'2',self.couple_dim,self.couple_dim)\n",
    "        self.l3 = Linear(name+'3',self.couple_dim,self.couple_dim)\n",
    "        self.l4 = Linear(name+'4',self.couple_dim,self.couple_dim)\n",
    "        self.l5 = Linear(name+'5',self.dim,self.couple_dim)\n",
    "\n",
    "    def m(self,x):\n",
    "        x = self.l1(x)\n",
    "        x = tf.nn.leaky_relu(x)\n",
    "        x = self.l2(x)\n",
    "        x = tf.nn.leaky_relu(x)\n",
    "        x = self.l3(x)\n",
    "        x = tf.nn.leaky_relu(x)\n",
    "        x = self.l4(x)\n",
    "        x = tf.nn.leaky_relu(x)\n",
    "        return self.l5(x)\n",
    "\n",
    "    def call(self, x, inverse=False):\n",
    "        if inverse == True:\n",
    "            y1, y2 = self.mask*x, (1-self.mask)*x \n",
    "            x1, x2 = y1, y2-(self.m(y1)*(1-self.mask))\n",
    "            return x1+x2\n",
    "        else:\n",
    "            x1, x2 = self.mask*x, (1-self.mask)*x\n",
    "            y1, y2 = x1, x2+(self.m(x1)*(1-self.mask))\n",
    "            return y1+y2"
   ]
  },
  {
   "cell_type": "code",
   "execution_count": 9,
   "metadata": {},
   "outputs": [],
   "source": [
    "class NICE(keras.Model):\n",
    "    def __init__(self,input_dim,n_couple, couple_dim,**kwargs):\n",
    "        super(NICE, self).__init__(**kwargs)\n",
    "\n",
    "        self.loss_tracker = keras.metrics.Mean(name=\"loss\")\n",
    "        self.prior = tfp.distributions.Logistic(0,1)\n",
    "        \n",
    "        self.input_dim = input_dim\n",
    "        self.n_couple = n_couple\n",
    "        self.couple_dim = couple_dim\n",
    "\n",
    "        masks = [self._get_mask(self.input_dim, orientation=(i % 2 == 0)) for i in range(self.n_couple)]\n",
    "        \n",
    "        # Declare coupling layers\n",
    "        self.coupling_layers = []\n",
    "        for i in range(self.n_couple-1):\n",
    "            add_couple = AdditiveCouple(str(i) ,self.input_dim,masks[i],self.couple_dim)\n",
    "            self.coupling_layers.append(add_couple)\n",
    "        \n",
    "        # Declare Scaling layer\n",
    "        self.S = ScaleLayer(dim=input_dim)\n",
    "\n",
    "    @property\n",
    "    def metrics(self):\n",
    "        \"\"\"List of the model's metrics.\n",
    "        We make sure the loss tracker is listed as part of `model.metrics`\n",
    "        so that `fit()` and `evaluate()` are able to `reset()` the loss tracker\n",
    "        at the start of each epoch and at the start of an `evaluate()` call.\n",
    "        \"\"\"\n",
    "        return [self.loss_tracker]\n",
    "\n",
    "    def _get_mask(self, dim, orientation=True):\n",
    "        mask = np.zeros(dim)\n",
    "        mask[::2] = 1.\n",
    "        if orientation:\n",
    "            mask = 1. - mask  # flip mask orientation\n",
    "        return mask\n",
    "        \n",
    "    def train_step(self, data):\n",
    "        X, y = data[0], data[1]\n",
    "        with tf.GradientTape() as tape:\n",
    "            # Feed input through model \n",
    "            h, s_vals = self(X)\n",
    "            \n",
    "            # Caculate loss, prior is standard logistic\n",
    "            loss = s_vals + tf.math.reduce_sum(self.prior.log_prob(h),axis=1)\n",
    "            loss = -tf.math.reduce_mean(loss)\n",
    "            \n",
    "        grads = tape.gradient(loss, self.trainable_weights)\n",
    "        #grads = [tf.clip_by_norm(g, 1)for g in grads]\n",
    "        self.optimizer.apply_gradients(zip(grads, self.trainable_weights))\n",
    "        self.loss_tracker.update_state(loss)\n",
    "        return {\n",
    "            \"log_likelihood\": self.loss_tracker.result(),\n",
    "        }\n",
    "\n",
    "    def test_step(self, data):\n",
    "        X, y = data[0], data[1]\n",
    "        h, s_vals = self(X)\n",
    "        loss = s_vals + tf.math.reduce_sum(self.prior.log_prob(h),axis=1)\n",
    "        loss = -tf.math.reduce_mean(loss)\n",
    "        self.loss_tracker.update_state(loss)\n",
    "\n",
    "        return {\"loss\": self.loss_tracker.result()}\n",
    "    \n",
    "    def call(self,x,inverse=False,pass_inv=False):\n",
    "        log_det_jacob = 0\n",
    "        if inverse == True:\n",
    "            if pass_inv == False:\n",
    "                h = np.random.logistic(x,1, self.input_dim)\n",
    "                h = np.reshape(h,(1,self.input_dim))\n",
    "            elif pass_inv == True:\n",
    "                h = x\n",
    "\n",
    "            x = self.S(h,inverse=True)\n",
    "            for layer in reversed(self.coupling_layers):\n",
    "                x = layer(x,inverse=True)\n",
    "            return x\n",
    "        else:\n",
    "            for layer in self.coupling_layers:\n",
    "                x = layer(x)\n",
    "            h, log_det_jacob = self.S(x,log_det_jacob)\n",
    "            return h, log_det_jacob"
   ]
  },
  {
   "cell_type": "markdown",
   "metadata": {},
   "source": [
    "## Fit model"
   ]
  },
  {
   "cell_type": "code",
   "execution_count": 10,
   "metadata": {},
   "outputs": [],
   "source": [
    "lr_schedule = keras.optimizers.schedules.ExponentialDecay(\n",
    "    initial_learning_rate=3e-4,\n",
    "    decay_steps=10000,\n",
    "    decay_rate=0.9)\n",
    "opt = keras.optimizers.Adam(learning_rate=lr_schedule)\n",
    "\n",
    "model = NICE(input_dim=784,n_couple=4,couple_dim=1000)\n",
    "model.compile(optimizer=opt)"
   ]
  },
  {
   "cell_type": "code",
   "execution_count": 11,
   "metadata": {},
   "outputs": [
    {
     "name": "stdout",
     "output_type": "stream",
     "text": [
      "Epoch 1/100\n",
      "165/165 [==============================] - 21s 114ms/step - log_likelihood: 348.5646 - val_loss: 288.4555\n",
      "Epoch 2/100\n",
      "165/165 [==============================] - 19s 113ms/step - log_likelihood: 276.3573 - val_loss: 245.3453\n",
      "Epoch 3/100\n",
      "165/165 [==============================] - 19s 113ms/step - log_likelihood: 233.9475 - val_loss: 204.2001\n",
      "Epoch 4/100\n",
      "165/165 [==============================] - 18s 110ms/step - log_likelihood: 193.5849 - val_loss: 164.7307\n",
      "Epoch 5/100\n",
      "165/165 [==============================] - 18s 108ms/step - log_likelihood: 154.2091 - val_loss: 126.9213\n",
      "Epoch 6/100\n",
      "165/165 [==============================] - 18s 107ms/step - log_likelihood: 115.7094 - val_loss: 89.3609\n",
      "Epoch 7/100\n",
      "165/165 [==============================] - 18s 107ms/step - log_likelihood: 77.5973 - val_loss: 50.7586\n",
      "Epoch 8/100\n",
      "165/165 [==============================] - 18s 108ms/step - log_likelihood: 39.6195 - val_loss: 14.0384\n",
      "Epoch 9/100\n",
      "165/165 [==============================] - 17s 106ms/step - log_likelihood: 2.2288 - val_loss: -21.7761\n",
      "Epoch 10/100\n",
      "165/165 [==============================] - 17s 106ms/step - log_likelihood: -34.9272 - val_loss: -60.3326\n",
      "Epoch 11/100\n",
      "165/165 [==============================] - 19s 114ms/step - log_likelihood: -71.7449 - val_loss: -96.4715\n",
      "Epoch 12/100\n",
      "165/165 [==============================] - 20s 119ms/step - log_likelihood: -108.5325 - val_loss: -131.8102\n",
      "Epoch 13/100\n",
      "165/165 [==============================] - 21s 130ms/step - log_likelihood: -144.9166 - val_loss: -168.5978\n",
      "Epoch 14/100\n",
      "165/165 [==============================] - 18s 111ms/step - log_likelihood: -181.3147 - val_loss: -202.3109\n",
      "Epoch 15/100\n",
      "165/165 [==============================] - 19s 116ms/step - log_likelihood: -216.8583 - val_loss: -238.2890\n",
      "Epoch 16/100\n",
      "165/165 [==============================] - 19s 117ms/step - log_likelihood: -252.4522 - val_loss: -275.3740\n",
      "Epoch 17/100\n",
      "165/165 [==============================] - 18s 109ms/step - log_likelihood: -287.7295 - val_loss: -308.8166\n",
      "Epoch 18/100\n",
      "165/165 [==============================] - 18s 107ms/step - log_likelihood: -322.7908 - val_loss: -343.4009\n",
      "Epoch 19/100\n",
      "165/165 [==============================] - 18s 111ms/step - log_likelihood: -357.3789 - val_loss: -378.2722\n",
      "Epoch 20/100\n",
      "165/165 [==============================] - 18s 110ms/step - log_likelihood: -392.1655 - val_loss: -409.2511\n",
      "Epoch 21/100\n",
      "165/165 [==============================] - 18s 110ms/step - log_likelihood: -425.9120 - val_loss: -442.8587\n",
      "Epoch 22/100\n",
      "165/165 [==============================] - 17s 105ms/step - log_likelihood: -459.4673 - val_loss: -475.6628\n",
      "Epoch 23/100\n",
      "165/165 [==============================] - 17s 106ms/step - log_likelihood: -493.1190 - val_loss: -508.9717\n",
      "Epoch 24/100\n",
      "165/165 [==============================] - 19s 115ms/step - log_likelihood: -526.3876 - val_loss: -540.7330\n",
      "Epoch 25/100\n",
      "165/165 [==============================] - 19s 117ms/step - log_likelihood: -559.1693 - val_loss: -572.4152\n",
      "Epoch 26/100\n",
      "165/165 [==============================] - 19s 113ms/step - log_likelihood: -591.8093 - val_loss: -602.0764\n",
      "Epoch 27/100\n",
      "165/165 [==============================] - 18s 107ms/step - log_likelihood: -623.4984 - val_loss: -634.4042\n",
      "Epoch 28/100\n",
      "165/165 [==============================] - 18s 109ms/step - log_likelihood: -655.9299 - val_loss: -665.4746\n",
      "Epoch 29/100\n",
      "165/165 [==============================] - 18s 110ms/step - log_likelihood: -686.7509 - val_loss: -688.9531\n",
      "Epoch 30/100\n",
      "165/165 [==============================] - 18s 110ms/step - log_likelihood: -717.5381 - val_loss: -716.9341\n",
      "Epoch 31/100\n",
      "165/165 [==============================] - 21s 127ms/step - log_likelihood: -747.8154 - val_loss: -753.1954\n",
      "Epoch 32/100\n",
      "165/165 [==============================] - 18s 111ms/step - log_likelihood: -778.1038 - val_loss: -770.2105\n",
      "Epoch 33/100\n",
      "165/165 [==============================] - 19s 117ms/step - log_likelihood: -805.6904 - val_loss: -804.1744\n",
      "Epoch 34/100\n",
      "165/165 [==============================] - 19s 117ms/step - log_likelihood: -836.3515 - val_loss: -829.6872\n",
      "Epoch 35/100\n",
      "165/165 [==============================] - 19s 114ms/step - log_likelihood: -864.1776 - val_loss: -856.7096\n",
      "Epoch 36/100\n",
      "165/165 [==============================] - 19s 113ms/step - log_likelihood: -893.3129 - val_loss: -884.0015\n",
      "Epoch 37/100\n",
      "165/165 [==============================] - 19s 113ms/step - log_likelihood: -918.6851 - val_loss: -916.8663\n",
      "Epoch 38/100\n",
      "165/165 [==============================] - 18s 108ms/step - log_likelihood: -947.9355 - val_loss: -931.6383\n",
      "Epoch 39/100\n",
      "165/165 [==============================] - 18s 109ms/step - log_likelihood: -972.5196 - val_loss: -939.5765\n",
      "Epoch 40/100\n",
      "165/165 [==============================] - 19s 114ms/step - log_likelihood: -997.1662 - val_loss: -981.4394\n",
      "Epoch 41/100\n",
      "165/165 [==============================] - 19s 113ms/step - log_likelihood: -1023.0775 - val_loss: -1001.6589\n",
      "Epoch 42/100\n",
      "165/165 [==============================] - 19s 117ms/step - log_likelihood: -1049.0677 - val_loss: -1023.1494\n",
      "Epoch 43/100\n",
      "165/165 [==============================] - 18s 110ms/step - log_likelihood: -1072.1807 - val_loss: -1037.5912\n",
      "Epoch 44/100\n",
      "165/165 [==============================] - 20s 119ms/step - log_likelihood: -1096.9276 - val_loss: -1076.7781\n",
      "Epoch 45/100\n",
      "165/165 [==============================] - 20s 119ms/step - log_likelihood: -1119.9478 - val_loss: -1077.7700\n",
      "Epoch 46/100\n",
      "165/165 [==============================] - 19s 112ms/step - log_likelihood: -1142.8989 - val_loss: -1114.3468\n",
      "Epoch 47/100\n",
      "165/165 [==============================] - 20s 119ms/step - log_likelihood: -1164.8944 - val_loss: -1129.7837\n",
      "Epoch 48/100\n",
      "165/165 [==============================] - 20s 120ms/step - log_likelihood: -1187.5978 - val_loss: -1131.3108\n",
      "Epoch 49/100\n",
      "165/165 [==============================] - 20s 119ms/step - log_likelihood: -1205.3787 - val_loss: -1164.7892\n",
      "Epoch 50/100\n",
      "165/165 [==============================] - 20s 120ms/step - log_likelihood: -1229.5645 - val_loss: -1160.9744\n",
      "Epoch 51/100\n",
      "165/165 [==============================] - 20s 119ms/step - log_likelihood: -1244.7072 - val_loss: -1194.4882\n",
      "Epoch 52/100\n",
      "165/165 [==============================] - 19s 116ms/step - log_likelihood: -1266.2564 - val_loss: -1201.0234\n",
      "Epoch 53/100\n",
      "165/165 [==============================] - 18s 111ms/step - log_likelihood: -1282.9313 - val_loss: -1230.3928\n",
      "Epoch 54/100\n",
      "165/165 [==============================] - 18s 111ms/step - log_likelihood: -1305.2444 - val_loss: -1234.7128\n",
      "Epoch 55/100\n",
      "165/165 [==============================] - 18s 112ms/step - log_likelihood: -1319.8928 - val_loss: -1252.5094\n",
      "Epoch 56/100\n",
      "165/165 [==============================] - 18s 111ms/step - log_likelihood: -1336.5225 - val_loss: -1271.6791\n",
      "Epoch 57/100\n",
      "165/165 [==============================] - 18s 111ms/step - log_likelihood: -1355.5226 - val_loss: -1280.6643\n",
      "Epoch 58/100\n",
      "165/165 [==============================] - 18s 111ms/step - log_likelihood: -1372.1137 - val_loss: -1300.3529\n",
      "Epoch 59/100\n",
      "165/165 [==============================] - 18s 111ms/step - log_likelihood: -1390.4645 - val_loss: -1308.0947\n",
      "Epoch 60/100\n",
      "165/165 [==============================] - 18s 112ms/step - log_likelihood: -1406.6686 - val_loss: -1321.5323\n",
      "Epoch 61/100\n",
      "165/165 [==============================] - 18s 112ms/step - log_likelihood: -1415.0763 - val_loss: -1335.6278\n",
      "Epoch 62/100\n",
      "165/165 [==============================] - 18s 111ms/step - log_likelihood: -1435.0956 - val_loss: -1353.5084\n",
      "Epoch 63/100\n",
      "165/165 [==============================] - 18s 111ms/step - log_likelihood: -1444.9450 - val_loss: -1364.5034\n",
      "Epoch 64/100\n",
      "165/165 [==============================] - 21s 125ms/step - log_likelihood: -1461.0056 - val_loss: -1376.9509\n",
      "Epoch 65/100\n",
      "165/165 [==============================] - 19s 112ms/step - log_likelihood: -1477.5895 - val_loss: -1379.5186\n",
      "Epoch 66/100\n",
      "165/165 [==============================] - 18s 112ms/step - log_likelihood: -1489.8370 - val_loss: -1396.4604\n",
      "Epoch 67/100\n",
      "165/165 [==============================] - 18s 112ms/step - log_likelihood: -1503.6740 - val_loss: -1414.4578\n",
      "Epoch 68/100\n"
     ]
    },
    {
     "name": "stdout",
     "output_type": "stream",
     "text": [
      "165/165 [==============================] - 18s 110ms/step - log_likelihood: -1515.2243 - val_loss: -1412.5121\n",
      "Epoch 69/100\n",
      "165/165 [==============================] - 18s 111ms/step - log_likelihood: -1526.8308 - val_loss: -1416.5039\n",
      "Epoch 70/100\n",
      "165/165 [==============================] - 18s 110ms/step - log_likelihood: -1538.9439 - val_loss: -1421.8021\n",
      "Epoch 71/100\n",
      "165/165 [==============================] - 18s 110ms/step - log_likelihood: -1547.3010 - val_loss: -1436.7897\n",
      "Epoch 72/100\n",
      "165/165 [==============================] - 18s 110ms/step - log_likelihood: -1559.1950 - val_loss: -1453.8265\n",
      "Epoch 73/100\n",
      "165/165 [==============================] - 18s 110ms/step - log_likelihood: -1574.7733 - val_loss: -1460.1418\n",
      "Epoch 74/100\n",
      "165/165 [==============================] - 18s 112ms/step - log_likelihood: -1582.3375 - val_loss: -1452.4431\n",
      "Epoch 75/100\n",
      "165/165 [==============================] - 18s 110ms/step - log_likelihood: -1589.7883 - val_loss: -1487.5355\n",
      "Epoch 76/100\n",
      "165/165 [==============================] - 18s 110ms/step - log_likelihood: -1604.0270 - val_loss: -1488.3459\n",
      "Epoch 77/100\n",
      "165/165 [==============================] - 18s 111ms/step - log_likelihood: -1614.7571 - val_loss: -1486.2203\n",
      "Epoch 78/100\n",
      "165/165 [==============================] - 18s 110ms/step - log_likelihood: -1623.6934 - val_loss: -1503.8451\n",
      "Epoch 79/100\n",
      "165/165 [==============================] - 18s 110ms/step - log_likelihood: -1629.9291 - val_loss: -1460.7069\n",
      "Epoch 80/100\n",
      "165/165 [==============================] - 18s 110ms/step - log_likelihood: -1639.4479 - val_loss: -1514.1033\n",
      "Epoch 81/100\n",
      "165/165 [==============================] - 18s 111ms/step - log_likelihood: -1651.3978 - val_loss: -1521.5104\n",
      "Epoch 82/100\n",
      "165/165 [==============================] - 18s 110ms/step - log_likelihood: -1659.3796 - val_loss: -1502.8588\n",
      "Epoch 83/100\n",
      "165/165 [==============================] - 18s 111ms/step - log_likelihood: -1663.0211 - val_loss: -1514.5835\n",
      "Epoch 84/100\n",
      "165/165 [==============================] - 18s 110ms/step - log_likelihood: -1666.8502 - val_loss: -1542.2528\n",
      "Epoch 85/100\n",
      "165/165 [==============================] - 18s 110ms/step - log_likelihood: -1681.9873 - val_loss: -1559.2854\n",
      "Epoch 86/100\n",
      "165/165 [==============================] - 18s 111ms/step - log_likelihood: -1694.9466 - val_loss: -1564.4436\n",
      "Epoch 87/100\n",
      "165/165 [==============================] - 18s 111ms/step - log_likelihood: -1704.2150 - val_loss: -1560.0432\n",
      "Epoch 88/100\n",
      "165/165 [==============================] - 18s 112ms/step - log_likelihood: -1708.9803 - val_loss: -1555.6643\n",
      "Epoch 89/100\n",
      "165/165 [==============================] - 18s 110ms/step - log_likelihood: -1709.3268 - val_loss: -1569.7725\n",
      "Epoch 90/100\n",
      "165/165 [==============================] - 18s 110ms/step - log_likelihood: -1719.9439 - val_loss: -1570.6873\n",
      "Epoch 91/100\n",
      "165/165 [==============================] - 18s 110ms/step - log_likelihood: -1721.6379 - val_loss: -1578.3300\n",
      "Epoch 92/100\n",
      "165/165 [==============================] - 18s 110ms/step - log_likelihood: -1732.2562 - val_loss: -1592.5938\n",
      "Epoch 93/100\n",
      "165/165 [==============================] - 18s 111ms/step - log_likelihood: -1735.1524 - val_loss: -1541.6647\n",
      "Epoch 94/100\n",
      "165/165 [==============================] - 18s 110ms/step - log_likelihood: -1735.2986 - val_loss: -1590.2595\n",
      "Epoch 95/100\n",
      "165/165 [==============================] - 18s 111ms/step - log_likelihood: -1749.2902 - val_loss: -1593.2108\n",
      "Epoch 96/100\n",
      "165/165 [==============================] - 18s 111ms/step - log_likelihood: -1757.5825 - val_loss: -1593.4158\n",
      "Epoch 97/100\n",
      "165/165 [==============================] - 18s 110ms/step - log_likelihood: -1763.3828 - val_loss: -1579.8032\n",
      "Epoch 98/100\n",
      "165/165 [==============================] - 18s 111ms/step - log_likelihood: -1753.4018 - val_loss: -1622.5248\n",
      "Epoch 99/100\n",
      "165/165 [==============================] - 18s 111ms/step - log_likelihood: -1783.2775 - val_loss: -1622.6631\n",
      "Epoch 100/100\n",
      "165/165 [==============================] - 18s 111ms/step - log_likelihood: -1785.5256 - val_loss: -1619.2731\n"
     ]
    }
   ],
   "source": [
    "history = model.fit(X_train, y_train, validation_data=(X_val, y_val),\\\n",
    "                    epochs=100, batch_size=200)"
   ]
  },
  {
   "cell_type": "code",
   "execution_count": 12,
   "metadata": {},
   "outputs": [],
   "source": [
    "model.save_weights(\"NICE_weights.h5\")"
   ]
  },
  {
   "cell_type": "markdown",
   "metadata": {},
   "source": [
    "## Sample Model"
   ]
  },
  {
   "cell_type": "code",
   "execution_count": 13,
   "metadata": {},
   "outputs": [],
   "source": [
    "model = NICE(input_dim=784,n_couple=4,couple_dim=1000)\n",
    "x = np.ones((1,784))\n",
    "x = model(x, inverse=True, pass_inv=True)\n",
    "model.load_weights(\"nice_weights.h5\")"
   ]
  },
  {
   "cell_type": "code",
   "execution_count": 68,
   "metadata": {},
   "outputs": [
    {
     "data": {
      "image/png": "[encoded data removed]",
      "text/plain": [
       "<Figure size 432x288 with 1 Axes>"
      ]
     },
     "metadata": {
      "needs_background": "light"
     },
     "output_type": "display_data"
    }
   ],
   "source": [
    "x = np.random.logistic(0,.2, 784)\n",
    "x = np.reshape(x,(1,784))\n",
    "x = model(x, inverse=True, pass_inv=True)\n",
    "x = x.numpy()\n",
    "plt.imshow(x.reshape(28,28),cmap='gray')\n",
    "plt.show()"
   ]
  },
  {
   "cell_type": "code",
   "execution_count": null,
   "metadata": {},
   "outputs": [],
   "source": [
    "\n"
   ]
  },
  {
   "cell_type": "code",
   "execution_count": null,
   "metadata": {},
   "outputs": [],
   "source": []
  },
  {
   "cell_type": "code",
   "execution_count": null,
   "metadata": {},
   "outputs": [],
   "source": []
  },
  {
   "cell_type": "code",
   "execution_count": null,
   "metadata": {},
   "outputs": [],
   "source": []
  },
  {
   "cell_type": "code",
   "execution_count": null,
   "metadata": {},
   "outputs": [],
   "source": []
  },
  {
   "cell_type": "code",
   "execution_count": null,
   "metadata": {},
   "outputs": [],
   "source": []
  }
 ],
 "metadata": {
  "celltoolbar": "Raw Cell Format",
  "kernelspec": {
   "display_name": "tfp-env",
   "language": "python",
   "name": "anaconda-tfp_env"
  },
  "language_info": {
   "codemirror_mode": {
    "name": "ipython",
    "version": 3
   },
   "file_extension": ".py",
   "mimetype": "text/x-python",
   "name": "python",
   "nbconvert_exporter": "python",
   "pygments_lexer": "ipython3",
   "version": "3.6.12"
  },
  "nteract": {
   "version": "0.27.0"
  }
 },
 "nbformat": 4,
 "nbformat_minor": 4
}
