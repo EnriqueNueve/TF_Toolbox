{
 "cells": [
  {
   "cell_type": "markdown",
   "id": "8ebf7624",
   "metadata": {},
   "source": [
    "# Implicit Rank-Minmizing Autoencoder\n",
    "IRMAE paper: [https://arxiv.org/abs/2010.00679](https://arxiv.org/abs/2010.00679)\n",
    "\n",
    "Implicit Bias of Gradient Descent of Linear Convolutional Networks: [https://arxiv.org/abs/1806.00468](https://arxiv.org/abs/1806.00468)"
   ]
  },
  {
   "cell_type": "markdown",
   "id": "6c6d31a7",
   "metadata": {},
   "source": [
    "![irmae_diagram](notes/irmae_diagram.png)"
   ]
  },
  {
   "cell_type": "markdown",
   "id": "f4e86ba1",
   "metadata": {},
   "source": [
    "## Import modules "
   ]
  },
  {
   "cell_type": "code",
   "execution_count": 1,
   "id": "79b9780f",
   "metadata": {},
   "outputs": [],
   "source": [
    "import os \n",
    "import numpy as np \n",
    "from sklearn.model_selection import train_test_split\n",
    "from scipy.linalg import svd\n",
    "\n",
    "import tensorflow as tf \n",
    "from tensorflow import keras\n",
    "from math import sqrt\n",
    "\n",
    "import matplotlib.pyplot as plt\n",
    "import seaborn as sns\n",
    "sns.set_style(\"whitegrid\")\n",
    "%matplotlib inline"
   ]
  },
  {
   "cell_type": "markdown",
   "id": "ed66f1de",
   "metadata": {},
   "source": [
    "## Load data"
   ]
  },
  {
   "cell_type": "code",
   "execution_count": 2,
   "id": "e9ada481",
   "metadata": {},
   "outputs": [
    {
     "name": "stdout",
     "output_type": "stream",
     "text": [
      "X_train shape: (48000, 32, 32, 1)\n",
      "y_train shape: (48000, 10)\n",
      "X_val shape: (12000, 32, 32, 1)\n",
      "y_val shape: (12000, 10)\n",
      "X_test shape: (10000, 32, 32, 1)\n",
      "y_test shape: (10000, 10)\n"
     ]
    }
   ],
   "source": [
    "(X_train, y_train), (X_test, y_test) = keras.datasets.mnist.load_data()\n",
    "\n",
    "# Scale data \n",
    "X_train, X_test = X_train/255, X_test/255\n",
    "\n",
    "# Add channel dim \n",
    "X_train, X_test = X_train[...,np.newaxis], X_test[...,np.newaxis]\n",
    "\n",
    "# Resize\n",
    "X_train = tf.image.resize(X_train,(32,32)).numpy()\n",
    "X_test = tf.image.resize(X_test,(32,32)).numpy()\n",
    "\n",
    "# One-hot encode target \n",
    "y_train = tf.one_hot(y_train, 10).numpy()\n",
    "y_test = tf.one_hot(y_test, 10).numpy()\n",
    "\n",
    "X_train, X_val, y_train, y_val = train_test_split(X_train, y_train, test_size=0.2, random_state=42)\n",
    "\n",
    "print(\"X_train shape: {}\".format(X_train.shape))\n",
    "print(\"y_train shape: {}\".format(y_train.shape))\n",
    "print(\"X_val shape: {}\".format(X_val.shape))\n",
    "print(\"y_val shape: {}\".format(y_val.shape))\n",
    "print(\"X_test shape: {}\".format(X_test.shape))\n",
    "print(\"y_test shape: {}\".format(y_test.shape))"
   ]
  },
  {
   "cell_type": "code",
   "execution_count": 3,
   "id": "b2c67b1e",
   "metadata": {},
   "outputs": [
    {
     "data": {
      "image/png": "[encoded data removed]",
      "text/plain": [
       "<Figure size 576x576 with 10 Axes>"
      ]
     },
     "metadata": {
      "needs_background": "light"
     },
     "output_type": "display_data"
    }
   ],
   "source": [
    "w=10\n",
    "h=10\n",
    "fig=plt.figure(figsize=(8, 8))\n",
    "columns = 5\n",
    "rows = 2\n",
    "j = 0\n",
    "for i in range(1, columns*rows +1):\n",
    "    fig.add_subplot(rows, columns, i).set_axis_off()\n",
    "    plt.imshow(X_train[j,:,:,:],cmap='gray')\n",
    "    plt.tight_layout()\n",
    "    j += 1\n",
    "plt.tight_layout()\n",
    "plt.show()"
   ]
  },
  {
   "cell_type": "markdown",
   "id": "c59956e6",
   "metadata": {},
   "source": [
    "## Model "
   ]
  },
  {
   "cell_type": "code",
   "execution_count": 4,
   "id": "c222f27d",
   "metadata": {},
   "outputs": [],
   "source": [
    "class AutoEncoder(keras.Model):\n",
    "    def __init__(self, input_shape,latent_dim=144,c_intial=8):\n",
    "        super(AutoEncoder, self).__init__()\n",
    "        self.c_intial = c_intial \n",
    "        self.latent_dim = latent_dim\n",
    "        self.reshape_dim = int(sqrt(latent_dim))\n",
    "        \n",
    "        self.encoder = self.getEncoder(input_shape)\n",
    "        self.decoder = self.getDecoder(self.latent_dim)\n",
    "        print(self.encoder.summary())\n",
    "        print(self.decoder.summary())\n",
    "        \n",
    "        self.loss_tracker = keras.metrics.Mean(name=\"loss\")\n",
    "        \n",
    "    def getEncoder(self,input_shape):\n",
    "        inputs = tf.keras.Input(shape=input_shape)\n",
    "        x = tf.keras.layers.Conv2D(self.c_intial ,4,strides=(2, 2),activation='relu')(inputs)\n",
    "        x = tf.keras.layers.Conv2D(self.c_intial*2 ,4,strides=(2, 2),activation='relu')(x)\n",
    "        x = tf.keras.layers.Conv2D(self.c_intial*4 ,1,strides=(1, 1),activation='relu')(x)\n",
    "        x = tf.keras.layers.Flatten()(x)\n",
    "        z = tf.keras.layers.Dense(self.latent_dim, activation='linear')(x)\n",
    "        encoder = tf.keras.Model(inputs, [z])\n",
    "        return encoder\n",
    "\n",
    "    def getDecoder(self,input_shape):\n",
    "        inputs = tf.keras.Input(shape=input_shape)\n",
    "        x = tf.keras.layers.Reshape((self.reshape_dim,self.reshape_dim,1))(inputs)\n",
    "        x = tf.keras.layers.Conv2DTranspose(self.c_intial*2 ,4,strides=(2, 2),activation='relu')(x)\n",
    "        x = tf.keras.layers.Conv2DTranspose(self.c_intial*4 ,5,strides=(1, 1),activation='relu')(x)\n",
    "        x = tf.keras.layers.Conv2DTranspose(1,3,strides=(1, 1),activation='sigmoid')(x)\n",
    "        decoder = tf.keras.Model(inputs, [x])\n",
    "        return decoder\n",
    "\n",
    "    def call(self,inputs):\n",
    "        z = self.encoder(inputs)\n",
    "        Xh = self.decoder(z)\n",
    "        return Xh, z\n",
    "        \n",
    "    def train_step(self, inputs):\n",
    "        X,_ = inputs\n",
    "        with tf.GradientTape() as tape:\n",
    "            z = self.encoder(X)\n",
    "            Xh = self.decoder(z)\n",
    "            loss = tf.keras.losses.MSE(X,Xh)\n",
    "            \n",
    "        trainable_vars = self.trainable_variables\n",
    "        gradients = tape.gradient(loss, trainable_vars)\n",
    "        self.optimizer.apply_gradients(zip(gradients, trainable_vars))\n",
    "        self.loss_tracker.update_state(loss)\n",
    "        \n",
    "        return {\n",
    "            \"mse\": self.loss_tracker.result(),\n",
    "        }\n",
    "    \n",
    "    @property\n",
    "    def metrics(self):\n",
    "        \"\"\"List of the model's metrics.\n",
    "        We make sure the loss tracker is listed as part of `model.metrics`\n",
    "        so that `fit()` and `evaluate()` are able to `reset()` the loss tracker\n",
    "        at the start of each epoch and at the start of an `evaluate()` call.\n",
    "        \"\"\"\n",
    "        return [self.loss_tracker]\n",
    "\n",
    "    def test_step(self, inputs):\n",
    "        X,_ = inputs\n",
    "        z = self.encoder(X)\n",
    "        Xh = self.decoder(z)\n",
    "        loss = tf.keras.losses.MSE(X,Xh)\n",
    "        self.loss_tracker.update_state(loss)\n",
    "        return {\n",
    "            \"mse\": self.loss_tracker.result(),\n",
    "        }"
   ]
  },
  {
   "cell_type": "markdown",
   "id": "71e64b00",
   "metadata": {},
   "source": [
    "## Fit AutoEncoder"
   ]
  },
  {
   "cell_type": "code",
   "execution_count": 5,
   "id": "4b068c50",
   "metadata": {},
   "outputs": [
    {
     "name": "stdout",
     "output_type": "stream",
     "text": [
      "Model: \"model\"\n",
      "_________________________________________________________________\n",
      "Layer (type)                 Output Shape              Param #   \n",
      "=================================================================\n",
      "input_1 (InputLayer)         [(None, 32, 32, 1)]       0         \n",
      "_________________________________________________________________\n",
      "conv2d (Conv2D)              (None, 15, 15, 8)         136       \n",
      "_________________________________________________________________\n",
      "conv2d_1 (Conv2D)            (None, 6, 6, 16)          2064      \n",
      "_________________________________________________________________\n",
      "conv2d_2 (Conv2D)            (None, 6, 6, 32)          544       \n",
      "_________________________________________________________________\n",
      "flatten (Flatten)            (None, 1152)              0         \n",
      "_________________________________________________________________\n",
      "dense (Dense)                (None, 144)               166032    \n",
      "=================================================================\n",
      "Total params: 168,776\n",
      "Trainable params: 168,776\n",
      "Non-trainable params: 0\n",
      "_________________________________________________________________\n",
      "None\n",
      "Model: \"model_1\"\n",
      "_________________________________________________________________\n",
      "Layer (type)                 Output Shape              Param #   \n",
      "=================================================================\n",
      "input_2 (InputLayer)         [(None, 144)]             0         \n",
      "_________________________________________________________________\n",
      "reshape (Reshape)            (None, 12, 12, 1)         0         \n",
      "_________________________________________________________________\n",
      "conv2d_transpose (Conv2DTran (None, 26, 26, 16)        272       \n",
      "_________________________________________________________________\n",
      "conv2d_transpose_1 (Conv2DTr (None, 30, 30, 32)        12832     \n",
      "_________________________________________________________________\n",
      "conv2d_transpose_2 (Conv2DTr (None, 32, 32, 1)         289       \n",
      "=================================================================\n",
      "Total params: 13,393\n",
      "Trainable params: 13,393\n",
      "Non-trainable params: 0\n",
      "_________________________________________________________________\n",
      "None\n"
     ]
    }
   ],
   "source": [
    "ae = AutoEncoder((32,32,1))\n",
    "ae.compile(optimizer='adam')"
   ]
  },
  {
   "cell_type": "code",
   "execution_count": 6,
   "id": "79ddf98c",
   "metadata": {},
   "outputs": [
    {
     "name": "stdout",
     "output_type": "stream",
     "text": [
      "Epoch 1/10\n",
      "1500/1500 [==============================] - 70s 46ms/step - mse: 0.0355 - val_mse: 0.0027\n",
      "Epoch 2/10\n",
      "1500/1500 [==============================] - 76s 50ms/step - mse: 0.0024 - val_mse: 0.0018\n",
      "Epoch 3/10\n",
      "1500/1500 [==============================] - 76s 51ms/step - mse: 0.0017 - val_mse: 0.0015\n",
      "Epoch 4/10\n",
      "1500/1500 [==============================] - 76s 51ms/step - mse: 0.0014 - val_mse: 0.0013\n",
      "Epoch 5/10\n",
      "1500/1500 [==============================] - 72s 48ms/step - mse: 0.0012 - val_mse: 0.0011\n",
      "Epoch 6/10\n",
      "1500/1500 [==============================] - 72s 48ms/step - mse: 0.0011 - val_mse: 0.0010\n",
      "Epoch 7/10\n",
      "1500/1500 [==============================] - 72s 48ms/step - mse: 0.0010 - val_mse: 9.7687e-04\n",
      "Epoch 8/10\n",
      "1500/1500 [==============================] - 73s 49ms/step - mse: 9.6309e-04 - val_mse: 9.3752e-04\n",
      "Epoch 9/10\n",
      "1500/1500 [==============================] - 72s 48ms/step - mse: 9.0700e-04 - val_mse: 8.7693e-04\n",
      "Epoch 10/10\n",
      "1500/1500 [==============================] - 72s 48ms/step - mse: 8.7294e-04 - val_mse: 8.4950e-04\n"
     ]
    }
   ],
   "source": [
    "history = ae.fit(X_train, X_train, validation_data=(X_val, X_val),\\\n",
    "                    epochs=10, batch_size=32)"
   ]
  },
  {
   "cell_type": "markdown",
   "id": "4f46dd04",
   "metadata": {},
   "source": [
    "## Fit IRMAE"
   ]
  },
  {
   "cell_type": "code",
   "execution_count": 7,
   "id": "b9ca2aa2",
   "metadata": {},
   "outputs": [],
   "source": [
    "class IRMAE(keras.Model):\n",
    "    def __init__(self, input_shape,latent_dim=144,c_intial=8,n_layers=2):\n",
    "        super(IRMAE, self).__init__()\n",
    "        self.c_intial = c_intial \n",
    "        self.latent_dim = latent_dim\n",
    "        self.reshape_dim = int(sqrt(latent_dim))\n",
    "        \n",
    "        self.encoder = self.getEncoder(input_shape)\n",
    "        self.denseBlock = self.getDenseBlock(self.latent_dim,n_layers)\n",
    "        self.decoder = self.getDecoder(self.latent_dim)\n",
    "        print(self.encoder.summary())\n",
    "        print(self.denseBlock.summary())\n",
    "        print(self.decoder.summary())\n",
    "        \n",
    "        self.loss_tracker = keras.metrics.Mean(name=\"loss\")\n",
    "        \n",
    "    def getEncoder(self,input_shape):\n",
    "        inputs = tf.keras.Input(shape=input_shape)\n",
    "        x = tf.keras.layers.Conv2D(self.c_intial ,4,strides=(2, 2),activation='relu')(inputs)\n",
    "        x = tf.keras.layers.Conv2D(self.c_intial*2 ,4,strides=(2, 2),activation='relu')(x)\n",
    "        x = tf.keras.layers.Conv2D(self.c_intial*4 ,1,strides=(1, 1),activation='relu')(x)\n",
    "        x = tf.keras.layers.Flatten()(x)\n",
    "        z = tf.keras.layers.Dense(self.latent_dim, activation='linear')(x)\n",
    "        encoder = tf.keras.Model(inputs, [z])\n",
    "        return encoder\n",
    "    \n",
    "    def getDenseBlock(self,input_shape,n_layers):\n",
    "        inputs = tf.keras.Input(shape=input_shape)\n",
    "        for i in range(n_layers):\n",
    "            if i == 0:\n",
    "                x = tf.keras.layers.Dense(input_shape, activation='linear',use_bias=False)(inputs)\n",
    "            else:\n",
    "                x = tf.keras.layers.Dense(input_shape, activation='linear',use_bias=False)(x)\n",
    "        linearblock = tf.keras.Model(inputs, [x])\n",
    "        return linearblock\n",
    "\n",
    "    def getDecoder(self,input_shape):\n",
    "        inputs = tf.keras.Input(shape=input_shape)\n",
    "        x = tf.keras.layers.Reshape((self.reshape_dim,self.reshape_dim,1))(inputs)\n",
    "        x = tf.keras.layers.Conv2DTranspose(self.c_intial*2 ,4,strides=(2, 2),activation='relu')(x)\n",
    "        x = tf.keras.layers.Conv2DTranspose(self.c_intial*4 ,5,strides=(1, 1),activation='relu')(x)\n",
    "        x = tf.keras.layers.Conv2DTranspose(1,3,strides=(1, 1),activation='sigmoid')(x)\n",
    "        decoder = tf.keras.Model(inputs, [x])\n",
    "        return decoder\n",
    "        \n",
    "    def call(self,inputs):\n",
    "        z = self.encoder(inputs)\n",
    "        z = self.denseBlock(z)\n",
    "        Xh = self.decoder(z)\n",
    "        return Xh, z\n",
    "        \n",
    "    def train_step(self, inputs):\n",
    "        X,_ = inputs\n",
    "        with tf.GradientTape() as tape:\n",
    "            z = self.encoder(X)\n",
    "            z = self.denseBlock(z)\n",
    "            Xh = self.decoder(z)\n",
    "            loss = tf.keras.losses.MSE(X,Xh)\n",
    "            \n",
    "        trainable_vars = self.trainable_variables\n",
    "        gradients = tape.gradient(loss, trainable_vars)\n",
    "        self.optimizer.apply_gradients(zip(gradients, trainable_vars))\n",
    "        self.loss_tracker.update_state(loss)\n",
    "        \n",
    "        return {\n",
    "            \"mse\": self.loss_tracker.result(),\n",
    "        }\n",
    "    \n",
    "    @property\n",
    "    def metrics(self):\n",
    "        \"\"\"List of the model's metrics.\n",
    "        We make sure the loss tracker is listed as part of `model.metrics`\n",
    "        so that `fit()` and `evaluate()` are able to `reset()` the loss tracker\n",
    "        at the start of each epoch and at the start of an `evaluate()` call.\n",
    "        \"\"\"\n",
    "        return [self.loss_tracker]\n",
    "\n",
    "    def test_step(self, inputs):\n",
    "        X,_ = inputs\n",
    "        z = self.encoder(X)\n",
    "        z = self.denseBlock(z)\n",
    "        Xh = self.decoder(z)\n",
    "        loss = tf.keras.losses.MSE(X,Xh)\n",
    "        self.loss_tracker.update_state(loss)\n",
    "        return {\n",
    "            \"mse\": self.loss_tracker.result(),\n",
    "        }"
   ]
  },
  {
   "cell_type": "code",
   "execution_count": 8,
   "id": "2833b483",
   "metadata": {},
   "outputs": [
    {
     "name": "stdout",
     "output_type": "stream",
     "text": [
      "Model: \"model_2\"\n",
      "_________________________________________________________________\n",
      "Layer (type)                 Output Shape              Param #   \n",
      "=================================================================\n",
      "input_3 (InputLayer)         [(None, 32, 32, 1)]       0         \n",
      "_________________________________________________________________\n",
      "conv2d_3 (Conv2D)            (None, 15, 15, 8)         136       \n",
      "_________________________________________________________________\n",
      "conv2d_4 (Conv2D)            (None, 6, 6, 16)          2064      \n",
      "_________________________________________________________________\n",
      "conv2d_5 (Conv2D)            (None, 6, 6, 32)          544       \n",
      "_________________________________________________________________\n",
      "flatten_1 (Flatten)          (None, 1152)              0         \n",
      "_________________________________________________________________\n",
      "dense_1 (Dense)              (None, 144)               166032    \n",
      "=================================================================\n",
      "Total params: 168,776\n",
      "Trainable params: 168,776\n",
      "Non-trainable params: 0\n",
      "_________________________________________________________________\n",
      "None\n",
      "Model: \"model_3\"\n",
      "_________________________________________________________________\n",
      "Layer (type)                 Output Shape              Param #   \n",
      "=================================================================\n",
      "input_4 (InputLayer)         [(None, 144)]             0         \n",
      "_________________________________________________________________\n",
      "dense_2 (Dense)              (None, 144)               20736     \n",
      "_________________________________________________________________\n",
      "dense_3 (Dense)              (None, 144)               20736     \n",
      "=================================================================\n",
      "Total params: 41,472\n",
      "Trainable params: 41,472\n",
      "Non-trainable params: 0\n",
      "_________________________________________________________________\n",
      "None\n",
      "Model: \"model_4\"\n",
      "_________________________________________________________________\n",
      "Layer (type)                 Output Shape              Param #   \n",
      "=================================================================\n",
      "input_5 (InputLayer)         [(None, 144)]             0         \n",
      "_________________________________________________________________\n",
      "reshape_1 (Reshape)          (None, 12, 12, 1)         0         \n",
      "_________________________________________________________________\n",
      "conv2d_transpose_3 (Conv2DTr (None, 26, 26, 16)        272       \n",
      "_________________________________________________________________\n",
      "conv2d_transpose_4 (Conv2DTr (None, 30, 30, 32)        12832     \n",
      "_________________________________________________________________\n",
      "conv2d_transpose_5 (Conv2DTr (None, 32, 32, 1)         289       \n",
      "=================================================================\n",
      "Total params: 13,393\n",
      "Trainable params: 13,393\n",
      "Non-trainable params: 0\n",
      "_________________________________________________________________\n",
      "None\n"
     ]
    }
   ],
   "source": [
    "irmae = IRMAE((32,32,1))\n",
    "irmae.compile(optimizer='adam')"
   ]
  },
  {
   "cell_type": "code",
   "execution_count": 9,
   "id": "af54aa6e",
   "metadata": {},
   "outputs": [
    {
     "name": "stdout",
     "output_type": "stream",
     "text": [
      "Epoch 1/10\n",
      "1500/1500 [==============================] - 72s 48ms/step - mse: 0.0362 - val_mse: 0.0030\n",
      "Epoch 2/10\n",
      "1500/1500 [==============================] - 71s 47ms/step - mse: 0.0026 - val_mse: 0.0019\n",
      "Epoch 3/10\n",
      "1500/1500 [==============================] - 71s 47ms/step - mse: 0.0018 - val_mse: 0.0015\n",
      "Epoch 4/10\n",
      "1500/1500 [==============================] - 71s 47ms/step - mse: 0.0015 - val_mse: 0.0013\n",
      "Epoch 5/10\n",
      "1500/1500 [==============================] - 71s 47ms/step - mse: 0.0013 - val_mse: 0.0013\n",
      "Epoch 6/10\n",
      "1500/1500 [==============================] - 73s 49ms/step - mse: 0.0012 - val_mse: 0.0012\n",
      "Epoch 7/10\n",
      "1500/1500 [==============================] - 73s 48ms/step - mse: 0.0011 - val_mse: 0.0011\n",
      "Epoch 8/10\n",
      "1500/1500 [==============================] - 72s 48ms/step - mse: 0.0010 - val_mse: 0.0010\n",
      "Epoch 9/10\n",
      "1500/1500 [==============================] - 72s 48ms/step - mse: 9.8047e-04 - val_mse: 9.7061e-04\n",
      "Epoch 10/10\n",
      "1500/1500 [==============================] - 73s 48ms/step - mse: 9.4107e-04 - val_mse: 9.1914e-04\n"
     ]
    }
   ],
   "source": [
    "history = irmae.fit(X_train, X_train, validation_data=(X_val, X_val),\\\n",
    "                    epochs=10, batch_size=32)"
   ]
  },
  {
   "cell_type": "markdown",
   "id": "503a95a8",
   "metadata": {},
   "source": [
    "## Compare Rank of Latent Space"
   ]
  },
  {
   "cell_type": "code",
   "execution_count": 10,
   "id": "1b69f0e1",
   "metadata": {},
   "outputs": [],
   "source": [
    "_ ,z_val_ae = ae(X_val)\n",
    "_ ,z_val_irmae = irmae(X_val)"
   ]
  },
  {
   "cell_type": "code",
   "execution_count": 11,
   "id": "e9a19df9",
   "metadata": {},
   "outputs": [],
   "source": [
    "_, ae_z_singluar_values, _ = svd(z_val_ae.numpy())\n",
    "_, irmae_z_singluar_values, _ = svd(z_val_irmae.numpy())"
   ]
  },
  {
   "cell_type": "code",
   "execution_count": 12,
   "id": "7ef7b8a4",
   "metadata": {},
   "outputs": [],
   "source": [
    "ae_z_singluar_values_scaled = ae_z_singluar_values/np.max(ae_z_singluar_values)\n",
    "irmae_z_singluar_values_scaled = irmae_z_singluar_values/np.max(irmae_z_singluar_values)\n",
    "\n",
    "ae_z_singluar_values_scaled[::-1].sort()\n",
    "irmae_z_singluar_values_scaled[::-1].sort()"
   ]
  },
  {
   "cell_type": "code",
   "execution_count": 14,
   "id": "3faea132",
   "metadata": {},
   "outputs": [
    {
     "data": {
      "text/plain": [
       "<matplotlib.legend.Legend at 0x7ff33c1c9f28>"
      ]
     },
     "execution_count": 14,
     "metadata": {},
     "output_type": "execute_result"
    },
    {
     "data": {
      "image/png": "[encoded data removed]",
      "text/plain": [
       "<Figure size 720x720 with 1 Axes>"
      ]
     },
     "metadata": {
      "needs_background": "light"
     },
     "output_type": "display_data"
    }
   ],
   "source": [
    "x_ticks = np.arange(0,len(ae_z_singluar_values_scaled))\n",
    "fig, ax = plt.subplots(figsize=(10,10))\n",
    "\n",
    "ax.scatter(x_ticks, ae_z_singluar_values_scaled,label='AE',color='g',alpha=.5)\n",
    "ax.scatter(x_ticks, irmae_z_singluar_values_scaled,label='IRMAE, l=4',color='b',alpha=.5)\n",
    "\n",
    "ax.set(xlabel='Singular Value Rank', ylabel='Normalized Singular Values',\n",
    "       title='MNIST Latent Space Singular Values')\n",
    "ax.legend()"
   ]
  },
  {
   "cell_type": "code",
   "execution_count": null,
   "id": "409e4509",
   "metadata": {},
   "outputs": [],
   "source": []
  },
  {
   "cell_type": "code",
   "execution_count": null,
   "id": "926a3b10",
   "metadata": {},
   "outputs": [],
   "source": []
  },
  {
   "cell_type": "code",
   "execution_count": null,
   "id": "4e5db54b",
   "metadata": {},
   "outputs": [],
   "source": []
  },
  {
   "cell_type": "code",
   "execution_count": null,
   "id": "63038496",
   "metadata": {},
   "outputs": [],
   "source": []
  },
  {
   "cell_type": "code",
   "execution_count": null,
   "id": "9c99d863",
   "metadata": {},
   "outputs": [],
   "source": []
  }
 ],
 "metadata": {
  "kernelspec": {
   "display_name": "tfp-env",
   "language": "python",
   "name": "anaconda-tfp_env"
  },
  "language_info": {
   "codemirror_mode": {
    "name": "ipython",
    "version": 3
   },
   "file_extension": ".py",
   "mimetype": "text/x-python",
   "name": "python",
   "nbconvert_exporter": "python",
   "pygments_lexer": "ipython3",
   "version": "3.6.12"
  }
 },
 "nbformat": 4,
 "nbformat_minor": 5
}
