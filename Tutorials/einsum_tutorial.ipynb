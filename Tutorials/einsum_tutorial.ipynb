{
 "cells": [
  {
   "cell_type": "markdown",
   "id": "9124f365",
   "metadata": {},
   "source": [
    "# Einsum Tutorial "
   ]
  },
  {
   "cell_type": "code",
   "execution_count": 1,
   "id": "a8aaf996",
   "metadata": {},
   "outputs": [],
   "source": [
    "import numpy as np"
   ]
  },
  {
   "cell_type": "code",
   "execution_count": 2,
   "id": "32645196",
   "metadata": {},
   "outputs": [],
   "source": [
    "def prettyPrint(x):\n",
    "    with np.printoptions(precision=4, suppress=True, formatter={'float': '{:0.4f}'.format}, linewidth=100):\n",
    "        print(x)\n",
    "        print(\"\")"
   ]
  },
  {
   "cell_type": "markdown",
   "id": "9bf4a5d9",
   "metadata": {},
   "source": [
    "## Rules\n",
    "* Free indices: indices specified in output. \n",
    "* Summation indices: all other indices. Thosee that appear in the input argument but NOT in output specification.\n",
    "\n",
    "1. Repeating letters in different inputs means thoses values will be \n",
    "   mulitplied and those products will be the output.\n",
    "2. Omitting a letter means axis will be summed.\n",
    "3. We can return unsummed axis in any order.\n",
    "\n",
    "Example: np.einsum('ij,jk -> ik', A,B). Left side ij,jk corresponds to the axis of A\\~ij, and B\\~jk. The right side correpsonds to the output with axis and dims of ik.\n"
   ]
  },
  {
   "cell_type": "code",
   "execution_count": 3,
   "id": "e605632b",
   "metadata": {},
   "outputs": [
    {
     "name": "stdout",
     "output_type": "stream",
     "text": [
      "x shape:  (2, 2)\n",
      "[[1 2]\n",
      " [3 4]]\n",
      "\n",
      "y shape:  (2, 1)\n",
      "[[5]\n",
      " [6]]\n",
      "\n"
     ]
    }
   ],
   "source": [
    "x = np.array([[1,2],[3,4]])\n",
    "print('x shape: ',x.shape)\n",
    "prettyPrint(x)\n",
    "y = np.array([[5],[6]])\n",
    "print('y shape: ',y.shape)\n",
    "prettyPrint(y)"
   ]
  },
  {
   "cell_type": "markdown",
   "id": "7c03ce9f",
   "metadata": {},
   "source": [
    "## Permute"
   ]
  },
  {
   "cell_type": "code",
   "execution_count": 4,
   "id": "70767fbc",
   "metadata": {},
   "outputs": [
    {
     "name": "stdout",
     "output_type": "stream",
     "text": [
      "z shape:  (2, 2)\n",
      "[[1 3]\n",
      " [2 4]]\n",
      "\n"
     ]
    }
   ],
   "source": [
    "z = np.einsum('ij -> ji', x)\n",
    "print('z shape: ',z.shape)\n",
    "prettyPrint(z)"
   ]
  },
  {
   "cell_type": "markdown",
   "id": "0132c977",
   "metadata": {},
   "source": [
    "## Sum all "
   ]
  },
  {
   "cell_type": "code",
   "execution_count": 5,
   "id": "b492a2c9",
   "metadata": {},
   "outputs": [
    {
     "name": "stdout",
     "output_type": "stream",
     "text": [
      "z shape:  ()\n",
      "10\n",
      "\n"
     ]
    }
   ],
   "source": [
    "z = np.einsum('ij -> ', x)\n",
    "print('z shape: ',z.shape)\n",
    "prettyPrint(z)"
   ]
  },
  {
   "cell_type": "markdown",
   "id": "0c1feac3",
   "metadata": {},
   "source": [
    "## Sum row"
   ]
  },
  {
   "cell_type": "code",
   "execution_count": 6,
   "id": "c4842b88",
   "metadata": {},
   "outputs": [
    {
     "name": "stdout",
     "output_type": "stream",
     "text": [
      "z shape:  (2,)\n",
      "[3 7]\n",
      "\n"
     ]
    }
   ],
   "source": [
    "z = np.einsum('ij -> i ', x)\n",
    "print('z shape: ',z.shape)\n",
    "prettyPrint(z)"
   ]
  },
  {
   "cell_type": "markdown",
   "id": "56e7f993",
   "metadata": {},
   "source": [
    "## Sum col "
   ]
  },
  {
   "cell_type": "code",
   "execution_count": 7,
   "id": "90974e14",
   "metadata": {},
   "outputs": [
    {
     "name": "stdout",
     "output_type": "stream",
     "text": [
      "z shape:  (2,)\n",
      "[4 6]\n",
      "\n"
     ]
    }
   ],
   "source": [
    "z = np.einsum('ij -> j ', x)\n",
    "print('z shape: ',z.shape)\n",
    "prettyPrint(z)"
   ]
  },
  {
   "cell_type": "markdown",
   "id": "f4782ce8",
   "metadata": {},
   "source": [
    "## Matrix Vect Mult"
   ]
  },
  {
   "cell_type": "code",
   "execution_count": 8,
   "id": "85ebe04d",
   "metadata": {},
   "outputs": [
    {
     "name": "stdout",
     "output_type": "stream",
     "text": [
      "z shape:  (2,)\n",
      "[15 42]\n",
      "\n"
     ]
    }
   ],
   "source": [
    "z = np.einsum('ij,ij -> i ', x, y)\n",
    "print('z shape: ',z.shape)\n",
    "prettyPrint(z)"
   ]
  },
  {
   "cell_type": "markdown",
   "id": "c5728651",
   "metadata": {},
   "source": [
    "## Dot product "
   ]
  },
  {
   "cell_type": "code",
   "execution_count": 9,
   "id": "f3467d79",
   "metadata": {},
   "outputs": [
    {
     "name": "stdout",
     "output_type": "stream",
     "text": [
      "z shape:  ()\n",
      "61\n",
      "\n"
     ]
    }
   ],
   "source": [
    "z = np.einsum('ij,ij ->  ', y, y)\n",
    "print('z shape: ',z.shape)\n",
    "prettyPrint(z)"
   ]
  },
  {
   "cell_type": "markdown",
   "id": "a78d9500",
   "metadata": {},
   "source": [
    "## Hadamard"
   ]
  },
  {
   "cell_type": "code",
   "execution_count": 10,
   "id": "daa37628",
   "metadata": {},
   "outputs": [
    {
     "name": "stdout",
     "output_type": "stream",
     "text": [
      "z shape:  (2, 2)\n",
      "[[ 1  4]\n",
      " [ 9 16]]\n",
      "\n"
     ]
    }
   ],
   "source": [
    "z = np.einsum('ij,ij -> ij', x, x)\n",
    "print('z shape: ',z.shape)\n",
    "prettyPrint(z)"
   ]
  },
  {
   "cell_type": "markdown",
   "id": "2cfe1372",
   "metadata": {},
   "source": [
    "## Outter Product "
   ]
  },
  {
   "cell_type": "code",
   "execution_count": 11,
   "id": "7fd41cb3",
   "metadata": {},
   "outputs": [
    {
     "name": "stdout",
     "output_type": "stream",
     "text": [
      "b shape:  (2,)\n",
      "[1 5]\n",
      "\n",
      "z shape:  (2, 2)\n",
      "[[ 1  5]\n",
      " [ 5 25]]\n",
      "\n"
     ]
    }
   ],
   "source": [
    "b = np.array([1,5])\n",
    "print('b shape: ',b.shape)\n",
    "prettyPrint(b)\n",
    "\n",
    "z = np.einsum('i,j -> ij', b, b)\n",
    "print('z shape: ',z.shape)\n",
    "prettyPrint(z)"
   ]
  },
  {
   "cell_type": "markdown",
   "id": "8101bcb7",
   "metadata": {},
   "source": [
    "## Batch Matrix Multiplication "
   ]
  },
  {
   "cell_type": "code",
   "execution_count": 12,
   "id": "1d97d08a",
   "metadata": {},
   "outputs": [
    {
     "name": "stdout",
     "output_type": "stream",
     "text": [
      "c shape:  (2, 3, 2)\n",
      "[[[0.8832 0.3920]\n",
      "  [0.4225 0.8603]\n",
      "  [0.5957 0.9276]]\n",
      "\n",
      " [[0.6047 0.5411]\n",
      "  [0.3407 0.0153]\n",
      "  [0.6460 0.0249]]]\n",
      "\n",
      "d shape:  (2, 2, 3)\n",
      "[[[0.1002 0.1918 0.4342]\n",
      "  [0.4898 0.6019 0.4387]]\n",
      "\n",
      " [[0.6598 0.0907 0.1521]\n",
      "  [0.6551 0.3510 0.4693]]]\n",
      "\n",
      "z shape:  (2, 3, 3)\n",
      "[[[0.2806 0.4053 0.5554]\n",
      "  [0.4637 0.5988 0.5608]\n",
      "  [0.5141 0.6725 0.6656]]\n",
      "\n",
      " [[0.7534 0.2447 0.3459]\n",
      "  [0.2348 0.0363 0.0590]\n",
      "  [0.4426 0.0673 0.1099]]]\n",
      "\n"
     ]
    }
   ],
   "source": [
    "c = np.random.uniform(0,1,(2,3,2))\n",
    "print('c shape: ',c.shape)\n",
    "prettyPrint(c)\n",
    "\n",
    "d = np.random.uniform(0,1,(2,2,3))\n",
    "print('d shape: ',d.shape)\n",
    "prettyPrint(d)\n",
    "\n",
    "z = np.einsum('ijk,ikl -> ijl', c, d)\n",
    "print('z shape: ',z.shape)\n",
    "prettyPrint(z)"
   ]
  },
  {
   "cell_type": "markdown",
   "id": "ed3e75a5",
   "metadata": {},
   "source": [
    "## Matrix diagonal "
   ]
  },
  {
   "cell_type": "code",
   "execution_count": 13,
   "id": "a0d39b65",
   "metadata": {},
   "outputs": [
    {
     "name": "stdout",
     "output_type": "stream",
     "text": [
      "z shape:  (2,)\n",
      "[1 4]\n",
      "\n"
     ]
    }
   ],
   "source": [
    "z = np.einsum('ii ->i', x)\n",
    "print('z shape: ',z.shape)\n",
    "prettyPrint(z)"
   ]
  },
  {
   "cell_type": "markdown",
   "id": "42b0b0aa",
   "metadata": {},
   "source": [
    "## Matrix trace "
   ]
  },
  {
   "cell_type": "code",
   "execution_count": 14,
   "id": "b00b9c18",
   "metadata": {},
   "outputs": [
    {
     "name": "stdout",
     "output_type": "stream",
     "text": [
      "z shape:  ()\n",
      "5\n",
      "\n"
     ]
    }
   ],
   "source": [
    "z = np.einsum('ii ->', x)\n",
    "print('z shape: ',z.shape)\n",
    "prettyPrint(z)"
   ]
  },
  {
   "cell_type": "code",
   "execution_count": null,
   "id": "6abb94e2",
   "metadata": {},
   "outputs": [],
   "source": []
  }
 ],
 "metadata": {
  "kernelspec": {
   "display_name": "tfp-env",
   "language": "python",
   "name": "anaconda-tfp_env"
  },
  "language_info": {
   "codemirror_mode": {
    "name": "ipython",
    "version": 3
   },
   "file_extension": ".py",
   "mimetype": "text/x-python",
   "name": "python",
   "nbconvert_exporter": "python",
   "pygments_lexer": "ipython3",
   "version": "3.6.12"
  }
 },
 "nbformat": 4,
 "nbformat_minor": 5
}
