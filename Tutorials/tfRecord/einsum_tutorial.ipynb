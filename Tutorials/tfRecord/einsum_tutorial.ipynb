{
 "cells": [
  {
   "cell_type": "markdown",
   "id": "9124f365",
   "metadata": {},
   "source": [
    "# Einsum Tutorial "
   ]
  },
  {
   "cell_type": "code",
   "execution_count": 1,
   "id": "a8aaf996",
   "metadata": {},
   "outputs": [],
   "source": [
    "import numpy as np"
   ]
  },
  {
   "cell_type": "code",
   "execution_count": 2,
   "id": "32645196",
   "metadata": {},
   "outputs": [],
   "source": [
    "def prettyPrint(x):\n",
    "    with np.printoptions(precision=4, suppress=True, formatter={'float': '{:0.4f}'.format}, linewidth=100):\n",
    "        print(x)\n",
    "        print(\"\")"
   ]
  },
  {
   "cell_type": "markdown",
   "id": "9bf4a5d9",
   "metadata": {},
   "source": [
    "## Rules\n",
    "* Free indices: indices specified in output. \n",
    "* Summation indices: all other indices. Thosee that appear in the input argument but NOT in output specification.\n",
    "\n",
    "1. Repeating letters in different inputs means thoses values will be \n",
    "   mulitplied and those products will be the output.\n",
    "   $$ ik, k \\rightarrow ij$$\n",
    "\n",
    "2. Omitting a letter means axis will be summed.\n",
    "    $$ i \\rightarrow $$\n",
    "\n",
    "3. We can return unsummed axis in any order.\n",
    "    $$ ijk \\rightarrow kji $$"
   ]
  },
  {
   "cell_type": "markdown",
   "id": "7c03ce9f",
   "metadata": {},
   "source": [
    "## Permute"
   ]
  },
  {
   "cell_type": "code",
   "execution_count": 3,
   "id": "70767fbc",
   "metadata": {},
   "outputs": [
    {
     "ename": "NameError",
     "evalue": "name 'x' is not defined",
     "output_type": "error",
     "traceback": [
      "\u001b[0;31m---------------------------------------------------------------------------\u001b[0m",
      "\u001b[0;31mNameError\u001b[0m                                 Traceback (most recent call last)",
      "\u001b[0;32m<ipython-input-3-147b669d5971>\u001b[0m in \u001b[0;36m<module>\u001b[0;34m\u001b[0m\n\u001b[0;32m----> 1\u001b[0;31m \u001b[0mz\u001b[0m \u001b[0;34m=\u001b[0m \u001b[0mnp\u001b[0m\u001b[0;34m.\u001b[0m\u001b[0meinsum\u001b[0m\u001b[0;34m(\u001b[0m\u001b[0;34m'ij -> ji'\u001b[0m\u001b[0;34m,\u001b[0m \u001b[0mx\u001b[0m\u001b[0;34m)\u001b[0m\u001b[0;34m\u001b[0m\u001b[0;34m\u001b[0m\u001b[0m\n\u001b[0m\u001b[1;32m      2\u001b[0m \u001b[0mprint\u001b[0m\u001b[0;34m(\u001b[0m\u001b[0;34m'z shape: '\u001b[0m\u001b[0;34m,\u001b[0m\u001b[0mz\u001b[0m\u001b[0;34m.\u001b[0m\u001b[0mshape\u001b[0m\u001b[0;34m)\u001b[0m\u001b[0;34m\u001b[0m\u001b[0;34m\u001b[0m\u001b[0m\n\u001b[1;32m      3\u001b[0m \u001b[0mprettyPrint\u001b[0m\u001b[0;34m(\u001b[0m\u001b[0mz\u001b[0m\u001b[0;34m)\u001b[0m\u001b[0;34m\u001b[0m\u001b[0;34m\u001b[0m\u001b[0m\n",
      "\u001b[0;31mNameError\u001b[0m: name 'x' is not defined"
     ]
    }
   ],
   "source": [
    "z = np.einsum('ij -> ji', x)\n",
    "print('z shape: ',z.shape)\n",
    "prettyPrint(z)"
   ]
  },
  {
   "cell_type": "markdown",
   "id": "0132c977",
   "metadata": {},
   "source": [
    "## Sum all "
   ]
  },
  {
   "cell_type": "code",
   "execution_count": null,
   "id": "b492a2c9",
   "metadata": {},
   "outputs": [],
   "source": [
    "z = np.einsum('ij -> ', x)\n",
    "print('z shape: ',z.shape)\n",
    "prettyPrint(z)"
   ]
  },
  {
   "cell_type": "markdown",
   "id": "0c1feac3",
   "metadata": {},
   "source": [
    "## Sum row"
   ]
  },
  {
   "cell_type": "code",
   "execution_count": null,
   "id": "c4842b88",
   "metadata": {},
   "outputs": [],
   "source": [
    "z = np.einsum('ij ->i ', x)\n",
    "print('z shape: ',z.shape)\n",
    "prettyPrint(z)"
   ]
  },
  {
   "cell_type": "markdown",
   "id": "56e7f993",
   "metadata": {},
   "source": [
    "## Sum col "
   ]
  },
  {
   "cell_type": "code",
   "execution_count": null,
   "id": "90974e14",
   "metadata": {},
   "outputs": [],
   "source": [
    "z = np.einsum('ij ->j ', x)\n",
    "print('z shape: ',z.shape)\n",
    "prettyPrint(z)"
   ]
  },
  {
   "cell_type": "markdown",
   "id": "f4782ce8",
   "metadata": {},
   "source": [
    "## Matrix Vect Mult"
   ]
  },
  {
   "cell_type": "code",
   "execution_count": null,
   "id": "85ebe04d",
   "metadata": {},
   "outputs": [],
   "source": [
    "z = np.einsum('ij, ij -> i ', x, y)\n",
    "print('z shape: ',z.shape)\n",
    "prettyPrint(z)"
   ]
  },
  {
   "cell_type": "markdown",
   "id": "c5728651",
   "metadata": {},
   "source": [
    "## Dot product "
   ]
  },
  {
   "cell_type": "code",
   "execution_count": null,
   "id": "f3467d79",
   "metadata": {},
   "outputs": [],
   "source": [
    "z = np.einsum('ij, ij ->  ', y, y)\n",
    "print('z shape: ',z.shape)\n",
    "prettyPrint(z)"
   ]
  },
  {
   "cell_type": "markdown",
   "id": "a78d9500",
   "metadata": {},
   "source": [
    "## Hadamard"
   ]
  },
  {
   "cell_type": "code",
   "execution_count": null,
   "id": "daa37628",
   "metadata": {},
   "outputs": [],
   "source": [
    "z = np.einsum('ij, ij -> ij', x, x)\n",
    "print('z shape: ',z.shape)\n",
    "prettyPrint(z)"
   ]
  },
  {
   "cell_type": "markdown",
   "id": "2cfe1372",
   "metadata": {},
   "source": [
    "## Outter Product "
   ]
  },
  {
   "cell_type": "code",
   "execution_count": null,
   "id": "7fd41cb3",
   "metadata": {},
   "outputs": [],
   "source": [
    "b = np.array([1,5])\n",
    "print('b shape: ',b.shape)\n",
    "prettyPrint(b)\n",
    "\n",
    "z = np.einsum('i,j->ij', b, b)\n",
    "print('z shape: ',z.shape)\n",
    "prettyPrint(z)"
   ]
  },
  {
   "cell_type": "markdown",
   "id": "8101bcb7",
   "metadata": {},
   "source": [
    "## Batch Matrix Multiplication "
   ]
  },
  {
   "cell_type": "code",
   "execution_count": null,
   "id": "1d97d08a",
   "metadata": {},
   "outputs": [],
   "source": [
    "c = np.random.uniform(0,1,(2,3,2))\n",
    "print('c shape: ',c.shape)\n",
    "prettyPrint(c)\n",
    "\n",
    "d = np.random.uniform(0,1,(2,2,3))\n",
    "print('d shape: ',d.shape)\n",
    "prettyPrint(d)\n",
    "\n",
    "z = np.einsum('ijk, ikl->ijl', c, d)\n",
    "print('z shape: ',z.shape)\n",
    "prettyPrint(z)"
   ]
  },
  {
   "cell_type": "markdown",
   "id": "ed3e75a5",
   "metadata": {},
   "source": [
    "## Matrix diagonal "
   ]
  },
  {
   "cell_type": "code",
   "execution_count": null,
   "id": "a0d39b65",
   "metadata": {},
   "outputs": [],
   "source": [
    "z = np.einsum('ii->i', x)\n",
    "print('z shape: ',z.shape)\n",
    "prettyPrint(z)"
   ]
  },
  {
   "cell_type": "markdown",
   "id": "42b0b0aa",
   "metadata": {},
   "source": [
    "## Matrix trace "
   ]
  },
  {
   "cell_type": "code",
   "execution_count": null,
   "id": "b00b9c18",
   "metadata": {},
   "outputs": [],
   "source": [
    "z = np.einsum('ii->', x)\n",
    "print('z shape: ',z.shape)\n",
    "prettyPrint(z)"
   ]
  }
 ],
 "metadata": {
  "kernelspec": {
   "display_name": "tfp-env",
   "language": "python",
   "name": "anaconda-tfp_env"
  },
  "language_info": {
   "codemirror_mode": {
    "name": "ipython",
    "version": 3
   },
   "file_extension": ".py",
   "mimetype": "text/x-python",
   "name": "python",
   "nbconvert_exporter": "python",
   "pygments_lexer": "ipython3",
   "version": "3.6.12"
  }
 },
 "nbformat": 4,
 "nbformat_minor": 5
}
