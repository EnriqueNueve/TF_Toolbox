{
 "cells": [
  {
   "cell_type": "markdown",
   "metadata": {},
   "source": [
    "# MADE: Masked Autoencoder for Distribution Estimation "
   ]
  },
  {
   "cell_type": "markdown",
   "metadata": {},
   "source": [
    "## Import modules"
   ]
  },
  {
   "cell_type": "code",
   "execution_count": 1,
   "metadata": {},
   "outputs": [],
   "source": [
    "from os import path\n",
    "\n",
    "import numpy as np \n",
    "import pandas as pd\n",
    "from random import shuffle, choices, choice\n",
    "\n",
    "import tensorflow as tf\n",
    "from tensorflow import keras\n",
    "from tensorflow.keras import layers\n",
    "from tensorflow.keras import Model\n",
    "\n",
    "from sklearn.datasets import fetch_openml\n",
    "from sklearn.model_selection import train_test_split\n",
    "\n",
    "%matplotlib inline\n",
    "import matplotlib.pyplot as plt"
   ]
  },
  {
   "cell_type": "code",
   "execution_count": 2,
   "metadata": {},
   "outputs": [],
   "source": [
    "np.random.seed(42)\n",
    "tf.random.set_seed(42)"
   ]
  },
  {
   "cell_type": "markdown",
   "metadata": {},
   "source": [
    "## Load data"
   ]
  },
  {
   "cell_type": "code",
   "execution_count": 3,
   "metadata": {},
   "outputs": [],
   "source": [
    "mnist = np.load('binarized_mnist.npz')\n",
    "X_train, X_val = mnist['train_data'], mnist['valid_data']"
   ]
  },
  {
   "cell_type": "code",
   "execution_count": 4,
   "metadata": {},
   "outputs": [
    {
     "data": {
      "image/png": "[encoded data removed]",
      "text/plain": [
       "<Figure size 432x288 with 1 Axes>"
      ]
     },
     "metadata": {
      "needs_background": "light"
     },
     "output_type": "display_data"
    }
   ],
   "source": [
    "plt.imshow(X_train[4,:].reshape(28,28),cmap='gray')\n",
    "plt.show()"
   ]
  },
  {
   "cell_type": "markdown",
   "metadata": {},
   "source": [
    "## Model "
   ]
  },
  {
   "cell_type": "code",
   "execution_count": 5,
   "metadata": {},
   "outputs": [],
   "source": [
    "class MaskLinear(keras.layers.Layer):\n",
    "    \"\"\"y = w.x + b\"\"\"\n",
    "    def __init__(self,name,units=32, input_dim=32,hidden=False):\n",
    "        super(MaskLinear, self).__init__()\n",
    "        self.w = self.add_weight(str(name) + \"_weight\",\n",
    "                               shape=[input_dim, units],\n",
    "                               regularizer=tf.keras.regularizers.l1_l2(.0001))\n",
    "        self.b = self.add_weight(str(name) + \"_bias\",\n",
    "                               shape=[units],\n",
    "                               regularizer=tf.keras.regularizers.l1_l2(.0001))\n",
    "\n",
    "        self.hidden = hidden\n",
    "        if self.hidden == True:\n",
    "            self.u = self.add_weight(str(name) + \"_u_weight\",\n",
    "                shape=[input_dim, units],\n",
    "                regularizer=tf.keras.regularizers.l1_l2(.0001))\n",
    "            self.id_vect = tf.ones(input_dim)\n",
    "\n",
    "    def call(self, inputs,mask):\n",
    "        if self.hidden == True:\n",
    "            return tf.matmul(inputs, tf.math.multiply(self.w,mask)) + self.b + tf.tensordot(self.id_vect,tf.math.multiply(self.u,mask), 1)\n",
    "        else:\n",
    "            return tf.matmul(inputs, tf.math.multiply(self.w,mask)) + self.b"
   ]
  },
  {
   "cell_type": "code",
   "execution_count": 6,
   "metadata": {},
   "outputs": [],
   "source": [
    "class MADE(Model):\n",
    "    def __init__(self,n_mask,input_dim,hidden_dim,hid_layers):\n",
    "        super(MADE, self).__init__()\n",
    "        \n",
    "        self.n_mask = n_mask\n",
    "        self.input_dim = input_dim\n",
    "        self.hidden_dim = hidden_dim\n",
    "        self.hid_layers = hid_layers\n",
    "        \n",
    "        # Make list of ids for each layer\n",
    "        print('Starting to make mask')\n",
    "        self.masks_ids = self.makeMasksIds()\n",
    "        self.masks = []\n",
    "        for m_id in self.masks_ids:\n",
    "            self.masks.append(self.makeMasks(m_id))\n",
    "        print('Finshed making mask')\n",
    "        \n",
    "        # Declare model layers\n",
    "        self.model_layers = []\n",
    "        layer = MaskLinear(0,self.hidden_dim,self.input_dim,hidden=True)\n",
    "        self.model_layers.append(layer)\n",
    "        for i in range(self.hid_layers):\n",
    "            layer = MaskLinear(i+1,self.hidden_dim,self.hidden_dim,hidden=True)\n",
    "            self.model_layers.append(layer)\n",
    "        layer = MaskLinear(self.hid_layers+2,self.input_dim,self.hidden_dim)\n",
    "        self.model_layers.append(layer)\n",
    "                \n",
    "        # Declare loss tracker \n",
    "        self.loss_tracker = keras.metrics.Mean(name=\"loss\")\n",
    "        \n",
    "    @property\n",
    "    def metrics(self):\n",
    "        \"\"\"List of the model's metrics.\n",
    "        We make sure the loss tracker is listed as part of `model.metrics`\n",
    "        so that `fit()` and `evaluate()` are able to `reset()` the loss tracker\n",
    "        at the start of each epoch and at the start of an `evaluate()` call.\n",
    "        \"\"\"\n",
    "        return [self.loss_tracker]\n",
    "    \n",
    "    def makeMasksIds(self):\n",
    "        masks_ids = []\n",
    "        for i in range(self.n_mask):\n",
    "            ids = list(range(1,self.input_dim+1))\n",
    "            shuffle(ids)\n",
    "            dict_mask = {'ids':ids}\n",
    "            for j in range(1,self.hid_layers+2):\n",
    "                h_ids = [1] + choices(list(range(1, self.input_dim)), k=self.hidden_dim-1)\n",
    "                dict_mask[\"W\"+str(j)] = h_ids\n",
    "            masks_ids.append(dict_mask)\n",
    "        return masks_ids\n",
    "    \n",
    "    def maskLogic(self,input_ids,output_ids,hidden=True):\n",
    "        masks = np.ones((len(input_ids),len(output_ids)))\n",
    "        if hidden == True:\n",
    "            return np.abs(np.less(np.array(output_ids),\\\n",
    "                        np.array(input_ids)[:,np.newaxis]).astype(int)-1)\n",
    "        else:\n",
    "            return np.abs(np.greater(np.array(output_ids),\\\n",
    "                        np.array(input_ids)[:,np.newaxis]).astype(int)) \n",
    "\n",
    "    def makeMasks(self,masks_ids):\n",
    "        masks = []\n",
    "\n",
    "        # Make input mask\n",
    "        input_m = self.maskLogic(masks_ids['ids'],masks_ids['W1'])\n",
    "        masks.append(input_m)\n",
    "        # Make hidden masks \n",
    "        for i in range(1,self.hid_layers+1):\n",
    "            hidden_m = self.maskLogic(masks_ids['W'+str(i)],masks_ids['W'+str(i+1)])\n",
    "            masks.append(hidden_m)\n",
    "        # Make output mask\n",
    "        output_m = self.maskLogic(masks_ids['W'+str(self.hid_layers)],masks_ids['ids'],hidden=False)\n",
    "        masks.append(output_m)\n",
    "\n",
    "        return masks\n",
    "    \n",
    "    def call(self,X,masks=None):\n",
    "        if masks == None:\n",
    "            masks = choice(self.masks)\n",
    "        \n",
    "        for i in range(len(self.model_layers)):\n",
    "            X = self.model_layers[i](X,masks[i])\n",
    "            if i < len(self.model_layers)-1:\n",
    "                X = tf.nn.relu(X)\n",
    "        return X\n",
    "\n",
    "    def prob(self,X):\n",
    "        predictions = []\n",
    "        for m in self.masks:\n",
    "            yh = self(X,m)\n",
    "            yh = tf.math.sigmoid(yh)\n",
    "            yh = tf.math.reduce_mean(X*tf.math.log(yh)+(1-X)*tf.math.log(1-yh), axis=1)\n",
    "            yh = tf.math.exp(yh)\n",
    "            predictions.append(yh)\n",
    "        probs =  tf.math.reduce_mean(predictions,axis=0)\n",
    "        return probs \n",
    "\n",
    "    def train_step(self, data):\n",
    "        X, y = data\n",
    "        m_id = choice(range(len(self.masks)))\n",
    "        mask = self.masks[m_id]\n",
    "        \n",
    "        with tf.GradientTape() as tape:\n",
    "            X = self(X,mask)\n",
    "            y = tf.math.reduce_sum(tf.nn.sigmoid_cross_entropy_with_logits(y,X),axis=1)\n",
    "            loss = tf.math.reduce_mean(y)\n",
    "            \n",
    "        # Compute gradients\n",
    "        trainable_vars = self.trainable_variables\n",
    "        gradients = tape.gradient(loss, trainable_vars)\n",
    "        \n",
    "        # Update weights\n",
    "        self.optimizer.apply_gradients(zip(gradients, trainable_vars))\n",
    "        \n",
    "        # Return a dict mapping metric names to current value   \n",
    "        self.loss_tracker.update_state(loss)\n",
    "        return {\"loss\": self.loss_tracker.result()}\n",
    "    \n",
    "    def test_step(self, data):\n",
    "        X, y = data\n",
    "        predictions = []\n",
    "        for m in self.masks:\n",
    "            yh = self(X,m)\n",
    "            loss = tf.math.reduce_mean(tf.math.reduce_sum(tf.nn.sigmoid_cross_entropy_with_logits(X,yh),axis=1))\n",
    "            predictions.append(loss)\n",
    "        loss =  tf.math.reduce_mean(predictions)\n",
    "        self.loss_tracker.update_state(loss)\n",
    "        return {\"loss\": self.loss_tracker.result()}"
   ]
  },
  {
   "cell_type": "code",
   "execution_count": 7,
   "metadata": {},
   "outputs": [
    {
     "name": "stdout",
     "output_type": "stream",
     "text": [
      "Starting to make mask\n",
      "Finshed making mask\n"
     ]
    }
   ],
   "source": [
    "n_mask = 8\n",
    "input_dim = 784\n",
    "hidden_dim = 500\n",
    "hid_layers = 1\n",
    "\n",
    "lr_schedule = keras.optimizers.schedules.ExponentialDecay(\n",
    "    initial_learning_rate=1e-3,\n",
    "    decay_steps=10000,\n",
    "    decay_rate=0.9)\n",
    "opt = keras.optimizers.Adam(learning_rate=lr_schedule)\n",
    "\n",
    "model = MADE(n_mask,input_dim,hidden_dim,hid_layers)\n",
    "#model.compile(optimizer=opt)\n",
    "model.compile(optimizer=opt,run_eagerly=True)"
   ]
  },
  {
   "cell_type": "markdown",
   "metadata": {},
   "source": [
    "## Fit model "
   ]
  },
  {
   "cell_type": "code",
   "execution_count": 8,
   "metadata": {},
   "outputs": [
    {
     "name": "stdout",
     "output_type": "stream",
     "text": [
      "Epoch 1/25\n",
      "500/500 [==============================] - 45s 90ms/step - loss: 210.1022 - val_loss: 171.4082\n",
      "Epoch 2/25\n",
      "500/500 [==============================] - 43s 87ms/step - loss: 159.5924 - val_loss: 143.6367\n",
      "Epoch 3/25\n",
      "500/500 [==============================] - 43s 85ms/step - loss: 139.2717 - val_loss: 132.2524\n",
      "Epoch 4/25\n",
      "500/500 [==============================] - 43s 86ms/step - loss: 129.2717 - val_loss: 122.5943\n",
      "Epoch 5/25\n",
      "500/500 [==============================] - 44s 88ms/step - loss: 121.9169 - val_loss: 120.4038\n",
      "Epoch 6/25\n",
      "500/500 [==============================] - 44s 88ms/step - loss: 115.1231 - val_loss: 113.9991\n",
      "Epoch 7/25\n",
      "500/500 [==============================] - 43s 87ms/step - loss: 111.8451 - val_loss: 115.4792\n",
      "Epoch 8/25\n",
      "500/500 [==============================] - 44s 87ms/step - loss: 109.5304 - val_loss: 107.3285\n",
      "Epoch 9/25\n",
      "500/500 [==============================] - 44s 87ms/step - loss: 105.7610 - val_loss: 101.2263\n",
      "Epoch 10/25\n",
      "500/500 [==============================] - 44s 87ms/step - loss: 102.9729 - val_loss: 103.8633\n",
      "Epoch 11/25\n",
      "500/500 [==============================] - 44s 87ms/step - loss: 101.8875 - val_loss: 97.1969\n",
      "Epoch 12/25\n",
      "500/500 [==============================] - 44s 87ms/step - loss: 100.3372 - val_loss: 106.8492\n",
      "Epoch 13/25\n",
      "500/500 [==============================] - 44s 87ms/step - loss: 97.6034 - val_loss: 100.6571\n",
      "Epoch 14/25\n",
      "500/500 [==============================] - 44s 87ms/step - loss: 98.3930 - val_loss: 96.1261\n",
      "Epoch 15/25\n",
      "500/500 [==============================] - 44s 87ms/step - loss: 95.6361 - val_loss: 97.6326\n",
      "Epoch 16/25\n",
      "500/500 [==============================] - 44s 87ms/step - loss: 94.9091 - val_loss: 92.7176\n",
      "Epoch 17/25\n",
      "500/500 [==============================] - 44s 88ms/step - loss: 93.1721 - val_loss: 96.2120\n",
      "Epoch 18/25\n",
      "500/500 [==============================] - 44s 89ms/step - loss: 93.7038 - val_loss: 89.3783\n",
      "Epoch 19/25\n",
      "500/500 [==============================] - 45s 89ms/step - loss: 90.4722 - val_loss: 90.3735\n",
      "Epoch 20/25\n",
      "500/500 [==============================] - 45s 89ms/step - loss: 89.5631 - val_loss: 91.5460\n",
      "Epoch 21/25\n",
      "500/500 [==============================] - 44s 88ms/step - loss: 90.9498 - val_loss: 88.0313\n",
      "Epoch 22/25\n",
      "500/500 [==============================] - 44s 89ms/step - loss: 88.4416 - val_loss: 89.5646\n",
      "Epoch 23/25\n",
      "500/500 [==============================] - 45s 90ms/step - loss: 89.4559 - val_loss: 93.0341\n",
      "Epoch 24/25\n",
      "500/500 [==============================] - 45s 89ms/step - loss: 89.0217 - val_loss: 90.7941\n",
      "Epoch 25/25\n",
      "500/500 [==============================] - 45s 89ms/step - loss: 88.4457 - val_loss: 83.6611\n"
     ]
    }
   ],
   "source": [
    "history = model.fit(X_train, X_train, epochs=25, batch_size=100,validation_data=(X_val, X_val))"
   ]
  },
  {
   "cell_type": "code",
   "execution_count": 9,
   "metadata": {},
   "outputs": [
    {
     "data": {
      "text/plain": [
       "Text(0.5, 0, 'epoch')"
      ]
     },
     "execution_count": 9,
     "metadata": {},
     "output_type": "execute_result"
    },
    {
     "data": {
      "image/png": "[encoded data removed]",
      "text/plain": [
       "<Figure size 1080x720 with 1 Axes>"
      ]
     },
     "metadata": {
      "needs_background": "light"
     },
     "output_type": "display_data"
    }
   ],
   "source": [
    "plt.figure(figsize=(15, 10))\n",
    "plt.plot(history.history[\"loss\"])\n",
    "plt.plot(history.history[\"val_loss\"])\n",
    "plt.title(\"model loss\")\n",
    "plt.legend([\"train\", \"validation\"], loc=\"upper right\")\n",
    "plt.ylabel(\"loss\")\n",
    "plt.xlabel(\"epoch\")"
   ]
  },
  {
   "cell_type": "code",
   "execution_count": 10,
   "metadata": {},
   "outputs": [
    {
     "name": "stdout",
     "output_type": "stream",
     "text": [
      "tf.Tensor([0.8828966  0.92842627 0.87001306 ... 0.8802528  0.9307288  0.87794685], shape=(10000,), dtype=float32)\n"
     ]
    }
   ],
   "source": [
    "probs = model.prob(X_val)\n",
    "print(probs)"
   ]
  },
  {
   "cell_type": "code",
   "execution_count": null,
   "metadata": {},
   "outputs": [],
   "source": []
  },
  {
   "cell_type": "code",
   "execution_count": null,
   "metadata": {},
   "outputs": [],
   "source": []
  },
  {
   "cell_type": "code",
   "execution_count": null,
   "metadata": {},
   "outputs": [],
   "source": []
  },
  {
   "cell_type": "code",
   "execution_count": null,
   "metadata": {},
   "outputs": [],
   "source": []
  },
  {
   "cell_type": "code",
   "execution_count": null,
   "metadata": {},
   "outputs": [],
   "source": []
  }
 ],
 "metadata": {
  "kernelspec": {
   "display_name": "tfp-env",
   "language": "python",
   "name": "anaconda-tfp_env"
  },
  "language_info": {
   "codemirror_mode": {
    "name": "ipython",
    "version": 3
   },
   "file_extension": ".py",
   "mimetype": "text/x-python",
   "name": "python",
   "nbconvert_exporter": "python",
   "pygments_lexer": "ipython3",
   "version": "3.6.12"
  }
 },
 "nbformat": 4,
 "nbformat_minor": 4
}
