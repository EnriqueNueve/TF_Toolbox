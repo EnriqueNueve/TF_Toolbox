{
 "cells": [
  {
   "cell_type": "markdown",
   "id": "9d07da15",
   "metadata": {},
   "source": [
    "# Transformer Example "
   ]
  },
  {
   "cell_type": "code",
   "execution_count": 1,
   "id": "667394f8",
   "metadata": {},
   "outputs": [],
   "source": [
    "import pandas as pd \n",
    "import numpy as np \n",
    "\n",
    "import tensorflow as tf\n",
    "from tensorflow import keras\n",
    "from tensorflow.keras import layers\n",
    "from tensorflow.keras.preprocessing.sequence import TimeseriesGenerator\n",
    "\n",
    "import matplotlib.pyplot as plt \n",
    "import seaborn as sns \n",
    "sns.set()"
   ]
  },
  {
   "cell_type": "markdown",
   "id": "896a3bb8",
   "metadata": {},
   "source": [
    "## Resourcs\n",
    "\n",
    "* https://trungtran.io/2019/04/29/create-the-transformer-with-tensorflow-2-0/\n",
    "* https://keras.io/examples/nlp/text_classification_with_transformer/\n",
    "* https://kazemnejad.com/blog/transformer_architecture_positional_encoding/\n",
    "* https://arxiv.org/abs/1706.03762\n",
    "* https://www.tensorflow.org/text/tutorials/transformer\n",
    "* https://www.youtube.com/watch?v=dichIcUZfOw\n"
   ]
  },
  {
   "cell_type": "markdown",
   "id": "09f4819e",
   "metadata": {},
   "source": [
    "## Transformer"
   ]
  },
  {
   "cell_type": "markdown",
   "id": "062738fa",
   "metadata": {},
   "source": [
    "![transformer](https://miro.medium.com/max/2880/1*BHzGVskWGS_3jEcYYi6miQ.png)"
   ]
  },
  {
   "cell_type": "markdown",
   "id": "d3d879b7",
   "metadata": {},
   "source": [
    "![multihead](https://miro.medium.com/max/4548/1*ETe4WrKJ1lS1MKDgBPIM0g.png)"
   ]
  },
  {
   "cell_type": "code",
   "execution_count": 2,
   "id": "195a74a5",
   "metadata": {},
   "outputs": [],
   "source": [
    "class TransformerBlock(layers.Layer):\n",
    "    def __init__(self, key_dim, num_heads, ff_dim, rate=0.1):\n",
    "        super(TransformerBlock, self).__init__()\n",
    "        self.att = layers.MultiHeadAttention(num_heads=num_heads, key_dim=key_dim)\n",
    "        self.ffn = keras.Sequential(\n",
    "            [layers.Dense(ff_dim, activation=\"relu\"), layers.Dense(key_dim),]\n",
    "        )\n",
    "        self.layernorm1 = layers.LayerNormalization(epsilon=1e-6)\n",
    "        self.layernorm2 = layers.LayerNormalization(epsilon=1e-6)\n",
    "        self.dropout1 = layers.Dropout(rate)\n",
    "        self.dropout2 = layers.Dropout(rate)\n",
    "\n",
    "    def call(self, inputs):\n",
    "        attn_output = self.att(inputs,inputs)\n",
    "        attn_output = self.dropout1(attn_output)\n",
    "        out1 = self.layernorm1(inputs + attn_output)\n",
    "        ffn_output = self.ffn(out1)\n",
    "        ffn_output = self.dropout2(ffn_output)\n",
    "        return self.layernorm2(out1 + ffn_output)"
   ]
  },
  {
   "cell_type": "markdown",
   "id": "6f5dc32d",
   "metadata": {},
   "source": [
    "## Positional encoding\n",
    "$$\n",
    "PE_{(pos,2i)} = \\sin (pos/10000^{2i/d_{model}})\n",
    "$$\n",
    "\n",
    "$$\n",
    "PE_{(pos,2i+1)} = \\cos (pos/10000^{2i/d_{model}})\n",
    "$$"
   ]
  },
  {
   "cell_type": "code",
   "execution_count": 3,
   "id": "faa9c5c3",
   "metadata": {},
   "outputs": [],
   "source": [
    "class PositionEmbedding(layers.Layer):\n",
    "    def __init__(self,n,d):\n",
    "        super(PositionEmbedding, self).__init__()\n",
    "        self.n, self.d = n, d\n",
    "        self.pos_encoding = self.positional_encoding(n,d)\n",
    "        \n",
    "    def get_angles(self,pos, i, d_model):\n",
    "        angle_rates = 1 / np.power(10000, (2 * (i//2)) / np.float32(d_model))\n",
    "        return pos * angle_rates\n",
    "    \n",
    "    def positional_encoding(self,position, d_model):\n",
    "        angle_rads = self.get_angles(np.arange(position)[:, np.newaxis],\n",
    "                              np.arange(d_model)[np.newaxis, :],\n",
    "                              d_model)\n",
    "\n",
    "        # apply sin to even indices in the array; 2i\n",
    "        angle_rads[:, 0::2] = np.sin(angle_rads[:, 0::2])\n",
    "\n",
    "        # apply cos to odd indices in the array; 2i+1\n",
    "        angle_rads[:, 1::2] = np.cos(angle_rads[:, 1::2])\n",
    "\n",
    "        pos_encoding = angle_rads[np.newaxis, ...]\n",
    "\n",
    "        return tf.cast(pos_encoding, dtype=tf.float32)\n",
    "    \n",
    "    def call(self, x):\n",
    "        x += self.pos_encoding[:, :self.n, :]\n",
    "        return x "
   ]
  },
  {
   "cell_type": "code",
   "execution_count": 4,
   "id": "358459d6",
   "metadata": {},
   "outputs": [],
   "source": [
    "def getModel(input_shape=(50)):\n",
    "    inputs = tf.keras.Input(input_shape)\n",
    "    \n",
    "    pos_embed = PositionEmbedding(10,5)\n",
    "    transformer = TransformerBlock(5,10,10)\n",
    "    \n",
    "    # reshape seq of len 50 into 10 seq of len 5 each\n",
    "    x = tf.keras.layers.Reshape((10,5))(inputs)\n",
    "    x = pos_embed(x)\n",
    "    x = transformer(x)\n",
    "    x = layers.GlobalAveragePooling1D()(x)\n",
    "    x = layers.Dropout(0.1)(x)\n",
    "    yh = layers.Dense(1, activation=\"linear\")(x)\n",
    "    model = tf.keras.Model(inputs,yh)\n",
    "    print(model.summary())\n",
    "    return model"
   ]
  },
  {
   "cell_type": "markdown",
   "id": "36a22eb9",
   "metadata": {},
   "source": [
    "## Demo "
   ]
  },
  {
   "cell_type": "code",
   "execution_count": 5,
   "id": "723ee124",
   "metadata": {},
   "outputs": [
    {
     "data": {
      "text/plain": [
       "<matplotlib.legend.Legend at 0x7fde260e6eb8>"
      ]
     },
     "execution_count": 5,
     "metadata": {},
     "output_type": "execute_result"
    },
    {
     "data": {
      "image/png": "[encoded data removed]",
      "text/plain": [
       "<Figure size 432x288 with 1 Axes>"
      ]
     },
     "metadata": {},
     "output_type": "display_data"
    }
   ],
   "source": [
    "df = pd.read_csv('stock_data.csv')\n",
    "df['1. open'].plot(title='Open Price')\n",
    "plt.legend()"
   ]
  },
  {
   "cell_type": "code",
   "execution_count": 6,
   "id": "d8c231a3",
   "metadata": {},
   "outputs": [],
   "source": [
    "N_TEST = 100\n",
    "BATCH_SIZE = 12\n",
    "N_INPUT = 50\n",
    "\n",
    "train_series = df['1. open'].iloc[:].values\n",
    "test_series = df['1. open'].iloc[N_TEST:].values\n",
    "\n",
    "train_generator = TimeseriesGenerator(train_series, train_series, length=N_INPUT , batch_size=BATCH_SIZE)\n",
    "test_generator = TimeseriesGenerator(test_series, test_series, length=N_INPUT , batch_size=BATCH_SIZE)"
   ]
  },
  {
   "cell_type": "code",
   "execution_count": 7,
   "id": "076e7637",
   "metadata": {},
   "outputs": [
    {
     "name": "stdout",
     "output_type": "stream",
     "text": [
      "Model: \"model\"\n",
      "_________________________________________________________________\n",
      "Layer (type)                 Output Shape              Param #   \n",
      "=================================================================\n",
      "input_1 (InputLayer)         [(None, 50)]              0         \n",
      "_________________________________________________________________\n",
      "reshape (Reshape)            (None, 10, 5)             0         \n",
      "_________________________________________________________________\n",
      "position_embedding (Position (None, 10, 5)             0         \n",
      "_________________________________________________________________\n",
      "transformer_block (Transform (None, 10, 5)             1290      \n",
      "_________________________________________________________________\n",
      "global_average_pooling1d (Gl (None, 5)                 0         \n",
      "_________________________________________________________________\n",
      "dropout_2 (Dropout)          (None, 5)                 0         \n",
      "_________________________________________________________________\n",
      "dense_2 (Dense)              (None, 1)                 6         \n",
      "=================================================================\n",
      "Total params: 1,296\n",
      "Trainable params: 1,296\n",
      "Non-trainable params: 0\n",
      "_________________________________________________________________\n",
      "None\n"
     ]
    }
   ],
   "source": [
    "model = getModel()\n",
    "opt = tf.keras.optimizers.Adam(learning_rate = 1e-3)\n",
    "model.compile(optimizer=opt,loss=tf.keras.losses.MeanSquaredError(),metrics=['MSE'])"
   ]
  },
  {
   "cell_type": "code",
   "execution_count": 8,
   "id": "e611a8e7",
   "metadata": {},
   "outputs": [
    {
     "name": "stdout",
     "output_type": "stream",
     "text": [
      "Epoch 1/100\n",
      "449/449 [==============================] - 2s 2ms/step - loss: 1965.8839 - MSE: 1965.8839\n",
      "Epoch 2/100\n",
      "449/449 [==============================] - 1s 2ms/step - loss: 1268.1438 - MSE: 1268.1438\n",
      "Epoch 3/100\n",
      "449/449 [==============================] - 1s 2ms/step - loss: 587.0464 - MSE: 587.0464\n",
      "Epoch 4/100\n",
      "449/449 [==============================] - 1s 2ms/step - loss: 242.6558 - MSE: 242.6558\n",
      "Epoch 5/100\n",
      "449/449 [==============================] - 1s 2ms/step - loss: 153.2721 - MSE: 153.2721\n",
      "Epoch 6/100\n",
      "449/449 [==============================] - 1s 2ms/step - loss: 142.9143 - MSE: 142.9143\n",
      "Epoch 7/100\n",
      "449/449 [==============================] - 1s 2ms/step - loss: 138.9700 - MSE: 138.9700\n",
      "Epoch 8/100\n",
      "449/449 [==============================] - 1s 2ms/step - loss: 138.3191 - MSE: 138.3191\n",
      "Epoch 9/100\n",
      "449/449 [==============================] - 1s 2ms/step - loss: 140.1749 - MSE: 140.1749\n",
      "Epoch 10/100\n",
      "449/449 [==============================] - 1s 2ms/step - loss: 137.0968 - MSE: 137.0968\n",
      "Epoch 11/100\n",
      "449/449 [==============================] - 1s 2ms/step - loss: 139.2803 - MSE: 139.2803\n",
      "Epoch 12/100\n",
      "449/449 [==============================] - 1s 2ms/step - loss: 137.5439 - MSE: 137.5439\n",
      "Epoch 13/100\n",
      "449/449 [==============================] - 1s 2ms/step - loss: 133.6225 - MSE: 133.6225\n",
      "Epoch 14/100\n",
      "449/449 [==============================] - 1s 2ms/step - loss: 134.3457 - MSE: 134.3457\n",
      "Epoch 15/100\n",
      "449/449 [==============================] - 1s 2ms/step - loss: 132.6328 - MSE: 132.6328\n",
      "Epoch 16/100\n",
      "449/449 [==============================] - 1s 2ms/step - loss: 137.7972 - MSE: 137.7972\n",
      "Epoch 17/100\n",
      "449/449 [==============================] - 1s 2ms/step - loss: 138.0696 - MSE: 138.0696\n",
      "Epoch 18/100\n",
      "449/449 [==============================] - 1s 2ms/step - loss: 134.7263 - MSE: 134.7263\n",
      "Epoch 19/100\n",
      "449/449 [==============================] - 1s 2ms/step - loss: 135.0562 - MSE: 135.0562\n",
      "Epoch 20/100\n",
      "449/449 [==============================] - 1s 2ms/step - loss: 136.9769 - MSE: 136.9769\n",
      "Epoch 21/100\n",
      "449/449 [==============================] - 1s 2ms/step - loss: 134.8830 - MSE: 134.8830\n",
      "Epoch 22/100\n",
      "449/449 [==============================] - 1s 2ms/step - loss: 134.7509 - MSE: 134.7509\n",
      "Epoch 23/100\n",
      "449/449 [==============================] - 1s 3ms/step - loss: 129.4278 - MSE: 129.4278\n",
      "Epoch 24/100\n",
      "449/449 [==============================] - 1s 2ms/step - loss: 119.6786 - MSE: 119.6786\n",
      "Epoch 25/100\n",
      "449/449 [==============================] - 1s 2ms/step - loss: 122.3378 - MSE: 122.3378\n",
      "Epoch 26/100\n",
      "449/449 [==============================] - 1s 2ms/step - loss: 98.8859 - MSE: 98.8859\n",
      "Epoch 27/100\n",
      "449/449 [==============================] - 1s 2ms/step - loss: 90.5487 - MSE: 90.5487\n",
      "Epoch 28/100\n",
      "449/449 [==============================] - 1s 2ms/step - loss: 85.2882 - MSE: 85.2882\n",
      "Epoch 29/100\n",
      "449/449 [==============================] - 1s 2ms/step - loss: 75.6880 - MSE: 75.6880\n",
      "Epoch 30/100\n",
      "449/449 [==============================] - 1s 2ms/step - loss: 79.8767 - MSE: 79.8767\n",
      "Epoch 31/100\n",
      "449/449 [==============================] - 1s 2ms/step - loss: 72.7965 - MSE: 72.7965\n",
      "Epoch 32/100\n",
      "449/449 [==============================] - 1s 2ms/step - loss: 73.3380 - MSE: 73.3380\n",
      "Epoch 33/100\n",
      "449/449 [==============================] - 1s 2ms/step - loss: 71.2489 - MSE: 71.2489\n",
      "Epoch 34/100\n",
      "449/449 [==============================] - 1s 2ms/step - loss: 71.6732 - MSE: 71.6732\n",
      "Epoch 35/100\n",
      "449/449 [==============================] - 1s 2ms/step - loss: 67.8819 - MSE: 67.8819\n",
      "Epoch 36/100\n",
      "449/449 [==============================] - 1s 2ms/step - loss: 65.6843 - MSE: 65.6843\n",
      "Epoch 37/100\n",
      "449/449 [==============================] - 1s 2ms/step - loss: 66.6744 - MSE: 66.6744\n",
      "Epoch 38/100\n",
      "449/449 [==============================] - 1s 2ms/step - loss: 63.6460 - MSE: 63.6460\n",
      "Epoch 39/100\n",
      "449/449 [==============================] - 1s 2ms/step - loss: 60.0620 - MSE: 60.0620\n",
      "Epoch 40/100\n",
      "449/449 [==============================] - 1s 2ms/step - loss: 66.5724 - MSE: 66.5724\n",
      "Epoch 41/100\n",
      "449/449 [==============================] - 1s 2ms/step - loss: 63.1776 - MSE: 63.1776\n",
      "Epoch 42/100\n",
      "449/449 [==============================] - 1s 2ms/step - loss: 62.6956 - MSE: 62.6956\n",
      "Epoch 43/100\n",
      "449/449 [==============================] - 1s 2ms/step - loss: 61.6069 - MSE: 61.6069\n",
      "Epoch 44/100\n",
      "449/449 [==============================] - 1s 2ms/step - loss: 58.5929 - MSE: 58.5929\n",
      "Epoch 45/100\n",
      "449/449 [==============================] - 1s 2ms/step - loss: 62.3960 - MSE: 62.3960\n",
      "Epoch 46/100\n",
      "449/449 [==============================] - 1s 2ms/step - loss: 62.6104 - MSE: 62.6104\n",
      "Epoch 47/100\n",
      "449/449 [==============================] - 1s 2ms/step - loss: 59.7940 - MSE: 59.7940\n",
      "Epoch 48/100\n",
      "449/449 [==============================] - 1s 2ms/step - loss: 58.8160 - MSE: 58.8160\n",
      "Epoch 49/100\n",
      "449/449 [==============================] - 1s 2ms/step - loss: 62.6068 - MSE: 62.6068\n",
      "Epoch 50/100\n",
      "449/449 [==============================] - 1s 2ms/step - loss: 58.5802 - MSE: 58.5802\n",
      "Epoch 51/100\n",
      "449/449 [==============================] - 1s 2ms/step - loss: 59.9647 - MSE: 59.9647\n",
      "Epoch 52/100\n",
      "449/449 [==============================] - 1s 2ms/step - loss: 57.7263 - MSE: 57.7263\n",
      "Epoch 53/100\n",
      "449/449 [==============================] - 1s 2ms/step - loss: 59.8787 - MSE: 59.8787\n",
      "Epoch 54/100\n",
      "449/449 [==============================] - 1s 2ms/step - loss: 55.7385 - MSE: 55.7385\n",
      "Epoch 55/100\n",
      "449/449 [==============================] - 1s 2ms/step - loss: 59.7025 - MSE: 59.7025\n",
      "Epoch 56/100\n",
      "449/449 [==============================] - 1s 2ms/step - loss: 59.0039 - MSE: 59.0039\n",
      "Epoch 57/100\n",
      "449/449 [==============================] - 1s 2ms/step - loss: 58.9750 - MSE: 58.9750\n",
      "Epoch 58/100\n",
      "449/449 [==============================] - 1s 2ms/step - loss: 52.8257 - MSE: 52.8256\n",
      "Epoch 59/100\n",
      "449/449 [==============================] - 1s 2ms/step - loss: 55.7397 - MSE: 55.7397\n",
      "Epoch 60/100\n",
      "449/449 [==============================] - 1s 2ms/step - loss: 55.4433 - MSE: 55.4433\n",
      "Epoch 61/100\n",
      "449/449 [==============================] - 1s 2ms/step - loss: 53.7644 - MSE: 53.7644\n",
      "Epoch 62/100\n",
      "449/449 [==============================] - 1s 2ms/step - loss: 53.0275 - MSE: 53.0275\n",
      "Epoch 63/100\n",
      "449/449 [==============================] - 1s 2ms/step - loss: 53.3570 - MSE: 53.3570\n",
      "Epoch 64/100\n",
      "449/449 [==============================] - 1s 2ms/step - loss: 55.7018 - MSE: 55.7018\n",
      "Epoch 65/100\n",
      "449/449 [==============================] - 1s 2ms/step - loss: 51.5331 - MSE: 51.5331\n",
      "Epoch 66/100\n",
      "449/449 [==============================] - 1s 2ms/step - loss: 56.8517 - MSE: 56.8517\n",
      "Epoch 67/100\n",
      "449/449 [==============================] - 1s 2ms/step - loss: 55.4550 - MSE: 55.4550\n",
      "Epoch 68/100\n",
      "449/449 [==============================] - 1s 2ms/step - loss: 51.5736 - MSE: 51.5736\n",
      "Epoch 69/100\n",
      "449/449 [==============================] - 1s 2ms/step - loss: 54.8564 - MSE: 54.8564\n",
      "Epoch 70/100\n",
      "449/449 [==============================] - 1s 2ms/step - loss: 54.2963 - MSE: 54.2963\n",
      "Epoch 71/100\n",
      "449/449 [==============================] - 1s 2ms/step - loss: 53.6740 - MSE: 53.6740\n",
      "Epoch 72/100\n",
      "449/449 [==============================] - 1s 2ms/step - loss: 54.4320 - MSE: 54.4320\n",
      "Epoch 73/100\n",
      "449/449 [==============================] - 1s 2ms/step - loss: 50.6645 - MSE: 50.6645\n",
      "Epoch 74/100\n",
      "449/449 [==============================] - 1s 2ms/step - loss: 50.7623 - MSE: 50.7623\n",
      "Epoch 75/100\n",
      "449/449 [==============================] - 1s 2ms/step - loss: 49.9709 - MSE: 49.9709\n",
      "Epoch 76/100\n",
      "449/449 [==============================] - 1s 2ms/step - loss: 50.2592 - MSE: 50.2592\n",
      "Epoch 77/100\n",
      "449/449 [==============================] - 1s 2ms/step - loss: 47.8145 - MSE: 47.8145\n",
      "Epoch 78/100\n",
      "449/449 [==============================] - 1s 2ms/step - loss: 51.2347 - MSE: 51.2347\n",
      "Epoch 79/100\n",
      "449/449 [==============================] - 1s 2ms/step - loss: 49.4044 - MSE: 49.4044\n",
      "Epoch 80/100\n",
      "449/449 [==============================] - 1s 2ms/step - loss: 51.9920 - MSE: 51.9920\n",
      "Epoch 81/100\n",
      "449/449 [==============================] - 1s 2ms/step - loss: 49.6706 - MSE: 49.6706\n",
      "Epoch 82/100\n",
      "449/449 [==============================] - 1s 2ms/step - loss: 49.2069 - MSE: 49.2069\n",
      "Epoch 83/100\n"
     ]
    },
    {
     "name": "stdout",
     "output_type": "stream",
     "text": [
      "449/449 [==============================] - 1s 2ms/step - loss: 49.6931 - MSE: 49.6931\n",
      "Epoch 84/100\n",
      "449/449 [==============================] - 1s 2ms/step - loss: 49.3352 - MSE: 49.3352\n",
      "Epoch 85/100\n",
      "449/449 [==============================] - 1s 2ms/step - loss: 48.2296 - MSE: 48.2296\n",
      "Epoch 86/100\n",
      "449/449 [==============================] - 1s 2ms/step - loss: 49.9778 - MSE: 49.9778\n",
      "Epoch 87/100\n",
      "449/449 [==============================] - 1s 2ms/step - loss: 51.1084 - MSE: 51.1084\n",
      "Epoch 88/100\n",
      "449/449 [==============================] - 1s 2ms/step - loss: 49.7612 - MSE: 49.7612\n",
      "Epoch 89/100\n",
      "449/449 [==============================] - 1s 2ms/step - loss: 50.4319 - MSE: 50.4319\n",
      "Epoch 90/100\n",
      "449/449 [==============================] - 1s 2ms/step - loss: 45.9537 - MSE: 45.9537\n",
      "Epoch 91/100\n",
      "449/449 [==============================] - 1s 2ms/step - loss: 48.3076 - MSE: 48.3076\n",
      "Epoch 92/100\n",
      "449/449 [==============================] - 1s 2ms/step - loss: 43.0625 - MSE: 43.0625\n",
      "Epoch 93/100\n",
      "449/449 [==============================] - 1s 2ms/step - loss: 44.4505 - MSE: 44.4505\n",
      "Epoch 94/100\n",
      "449/449 [==============================] - 1s 2ms/step - loss: 48.8217 - MSE: 48.8217\n",
      "Epoch 95/100\n",
      "449/449 [==============================] - 1s 2ms/step - loss: 46.6031 - MSE: 46.6031\n",
      "Epoch 96/100\n",
      "449/449 [==============================] - 1s 2ms/step - loss: 45.1536 - MSE: 45.1536\n",
      "Epoch 97/100\n",
      "449/449 [==============================] - 1s 2ms/step - loss: 45.9744 - MSE: 45.9744\n",
      "Epoch 98/100\n",
      "449/449 [==============================] - 1s 2ms/step - loss: 44.8744 - MSE: 44.8744\n",
      "Epoch 99/100\n",
      "449/449 [==============================] - 1s 2ms/step - loss: 44.7235 - MSE: 44.7235\n",
      "Epoch 100/100\n",
      "449/449 [==============================] - 1s 2ms/step - loss: 46.1039 - MSE: 46.1039\n"
     ]
    }
   ],
   "source": [
    "history = model.fit(train_generator, steps_per_epoch=len(train_generator),epochs=100)"
   ]
  },
  {
   "cell_type": "code",
   "execution_count": 9,
   "id": "65b5cabe",
   "metadata": {},
   "outputs": [],
   "source": [
    "yh = model.predict(test_generator)"
   ]
  },
  {
   "cell_type": "code",
   "execution_count": 10,
   "id": "b5d07e8e",
   "metadata": {},
   "outputs": [
    {
     "data": {
      "text/plain": [
       "[<matplotlib.lines.Line2D at 0x7fde0c38cba8>]"
      ]
     },
     "execution_count": 10,
     "metadata": {},
     "output_type": "execute_result"
    },
    {
     "data": {
      "image/png": "[encoded data removed]",
      "text/plain": [
       "<Figure size 432x288 with 1 Axes>"
      ]
     },
     "metadata": {},
     "output_type": "display_data"
    }
   ],
   "source": [
    "plt.plot(range(0,yh.shape[0]),yh.flatten())\n",
    "plt.plot(range(0,yh.shape[0]),test_series.flatten()[test_series.shape[0]-yh.shape[0]:],color='r',alpha=.5)"
   ]
  },
  {
   "cell_type": "code",
   "execution_count": null,
   "id": "08cd4c3e",
   "metadata": {},
   "outputs": [],
   "source": []
  },
  {
   "cell_type": "code",
   "execution_count": null,
   "id": "798af025",
   "metadata": {},
   "outputs": [],
   "source": []
  },
  {
   "cell_type": "code",
   "execution_count": null,
   "id": "fa85d4b4",
   "metadata": {},
   "outputs": [],
   "source": []
  },
  {
   "cell_type": "code",
   "execution_count": null,
   "id": "c8085f00",
   "metadata": {},
   "outputs": [],
   "source": []
  }
 ],
 "metadata": {
  "kernelspec": {
   "display_name": "tfp-env",
   "language": "python",
   "name": "anaconda-tfp_env"
  },
  "language_info": {
   "codemirror_mode": {
    "name": "ipython",
    "version": 3
   },
   "file_extension": ".py",
   "mimetype": "text/x-python",
   "name": "python",
   "nbconvert_exporter": "python",
   "pygments_lexer": "ipython3",
   "version": "3.6.12"
  }
 },
 "nbformat": 4,
 "nbformat_minor": 5
}
