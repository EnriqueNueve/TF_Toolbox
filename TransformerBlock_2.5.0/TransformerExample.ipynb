{
 "cells": [
  {
   "cell_type": "markdown",
   "id": "9d07da15",
   "metadata": {},
   "source": [
    "# Transformer Example "
   ]
  },
  {
   "cell_type": "code",
   "execution_count": 1,
   "id": "667394f8",
   "metadata": {},
   "outputs": [],
   "source": [
    "import pandas as pd \n",
    "import numpy as np \n",
    "\n",
    "import tensorflow as tf\n",
    "from tensorflow import keras\n",
    "from tensorflow.keras import layers\n",
    "from tensorflow.keras.preprocessing.sequence import TimeseriesGenerator\n",
    "\n",
    "import matplotlib.pyplot as plt \n",
    "import seaborn as sns \n",
    "sns.set()"
   ]
  },
  {
   "cell_type": "markdown",
   "id": "896a3bb8",
   "metadata": {},
   "source": [
    "## Resourcs\n",
    "\n",
    "* https://trungtran.io/2019/04/29/create-the-transformer-with-tensorflow-2-0/\n",
    "* https://keras.io/examples/nlp/text_classification_with_transformer/\n",
    "* https://kazemnejad.com/blog/transformer_architecture_positional_encoding/\n",
    "* https://arxiv.org/abs/1706.03762\n",
    "* https://www.tensorflow.org/text/tutorials/transformer\n",
    "* https://www.youtube.com/watch?v=dichIcUZfOw\n"
   ]
  },
  {
   "cell_type": "markdown",
   "id": "09f4819e",
   "metadata": {},
   "source": [
    "## Transformer"
   ]
  },
  {
   "cell_type": "markdown",
   "id": "062738fa",
   "metadata": {},
   "source": [
    "![transformer](https://miro.medium.com/max/2880/1*BHzGVskWGS_3jEcYYi6miQ.png)"
   ]
  },
  {
   "cell_type": "markdown",
   "id": "d3d879b7",
   "metadata": {},
   "source": [
    "![multihead](https://miro.medium.com/max/4548/1*ETe4WrKJ1lS1MKDgBPIM0g.png)"
   ]
  },
  {
   "cell_type": "code",
   "execution_count": 2,
   "id": "195a74a5",
   "metadata": {},
   "outputs": [],
   "source": [
    "class TransformerBlock(layers.Layer):\n",
    "    def __init__(self, key_dim, num_heads, ff_dim, rate=0.1):\n",
    "        super(TransformerBlock, self).__init__()\n",
    "        self.att = layers.MultiHeadAttention(num_heads=num_heads, key_dim=key_dim)\n",
    "        self.ffn = keras.Sequential(\n",
    "            [layers.Dense(ff_dim, activation=\"relu\"), layers.Dense(key_dim),]\n",
    "        )\n",
    "        self.layernorm1 = layers.LayerNormalization(epsilon=1e-6)\n",
    "        self.layernorm2 = layers.LayerNormalization(epsilon=1e-6)\n",
    "        self.dropout1 = layers.Dropout(rate)\n",
    "        self.dropout2 = layers.Dropout(rate)\n",
    "\n",
    "    def call(self, inputs):\n",
    "        attn_output = self.att(inputs,inputs)\n",
    "        attn_output = self.dropout1(attn_output)\n",
    "        out1 = self.layernorm1(inputs + attn_output)\n",
    "        ffn_output = self.ffn(out1)\n",
    "        ffn_output = self.dropout2(ffn_output)\n",
    "        return self.layernorm2(out1 + ffn_output)"
   ]
  },
  {
   "cell_type": "markdown",
   "id": "6f5dc32d",
   "metadata": {},
   "source": [
    "## Positional encoding\n",
    "\n"
   ]
  },
  {
   "cell_type": "markdown",
   "id": "e210a9e4",
   "metadata": {},
   "source": [
    "$$\n",
    "PE_{(pos,2i)} = \\sin (pos/10000^{2i/d_{model}})\n",
    "$$\n"
   ]
  },
  {
   "cell_type": "markdown",
   "id": "6aaef947",
   "metadata": {},
   "source": [
    "$$\n",
    "PE_{(pos,2i+1)} = \\cos (pos/10000^{2i/d_{model}})\n",
    "$$"
   ]
  },
  {
   "cell_type": "code",
   "execution_count": 3,
   "id": "faa9c5c3",
   "metadata": {},
   "outputs": [],
   "source": [
    "class PositionEmbedding(layers.Layer):\n",
    "    def __init__(self,n,d):\n",
    "        super(PositionEmbedding, self).__init__()\n",
    "        self.n, self.d = n, d\n",
    "        self.pos_encoding = self.positional_encoding(n,d)\n",
    "        \n",
    "    def get_angles(self,pos, i, d_model):\n",
    "        angle_rates = 1 / np.power(10000, (2 * (i//2)) / np.float32(d_model))\n",
    "        return pos * angle_rates\n",
    "    \n",
    "    def positional_encoding(self,position, d_model):\n",
    "        angle_rads = self.get_angles(np.arange(position)[:, np.newaxis],\n",
    "                              np.arange(d_model)[np.newaxis, :],\n",
    "                              d_model)\n",
    "\n",
    "        # apply sin to even indices in the array; 2i\n",
    "        angle_rads[:, 0::2] = np.sin(angle_rads[:, 0::2])\n",
    "\n",
    "        # apply cos to odd indices in the array; 2i+1\n",
    "        angle_rads[:, 1::2] = np.cos(angle_rads[:, 1::2])\n",
    "\n",
    "        pos_encoding = angle_rads[np.newaxis, ...]\n",
    "\n",
    "        return tf.cast(pos_encoding, dtype=tf.float32)\n",
    "    \n",
    "    def call(self, x):\n",
    "        x += self.pos_encoding[:, :self.n, :]\n",
    "        return x "
   ]
  },
  {
   "cell_type": "code",
   "execution_count": 4,
   "id": "358459d6",
   "metadata": {},
   "outputs": [],
   "source": [
    "def getModel(input_shape=(50)):\n",
    "    inputs = tf.keras.Input(input_shape)\n",
    "    \n",
    "    pos_embed = PositionEmbedding(10,5)\n",
    "    transformer = TransformerBlock(5,10,10)\n",
    "    \n",
    "    # reshape seq of len 50 into 10 seq of len 5 each\n",
    "    x = tf.keras.layers.Reshape((10,5))(inputs)\n",
    "    x = pos_embed(x)\n",
    "    x = transformer(x)\n",
    "    x = layers.GlobalAveragePooling1D()(x)\n",
    "    x = layers.Dropout(0.1)(x)\n",
    "    yh = layers.Dense(1, activation=\"linear\")(x)\n",
    "    model = tf.keras.Model(inputs,yh)\n",
    "    print(model.summary())\n",
    "    return model"
   ]
  },
  {
   "cell_type": "markdown",
   "id": "36a22eb9",
   "metadata": {},
   "source": [
    "## Demo "
   ]
  },
  {
   "cell_type": "code",
   "execution_count": 5,
   "id": "723ee124",
   "metadata": {},
   "outputs": [
    {
     "data": {
      "text/plain": [
       "<matplotlib.legend.Legend at 0x7f8a64fe6eb8>"
      ]
     },
     "execution_count": 5,
     "metadata": {},
     "output_type": "execute_result"
    },
    {
     "data": {
      "image/png": "[encoded data removed]",
      "text/plain": [
       "<Figure size 432x288 with 1 Axes>"
      ]
     },
     "metadata": {},
     "output_type": "display_data"
    }
   ],
   "source": [
    "df = pd.read_csv('stock_data.csv')\n",
    "df['1. open'].plot(title='Open Price')\n",
    "plt.legend()"
   ]
  },
  {
   "cell_type": "code",
   "execution_count": 6,
   "id": "d8c231a3",
   "metadata": {},
   "outputs": [],
   "source": [
    "N_TEST = 100\n",
    "BATCH_SIZE = 12\n",
    "N_INPUT = 50\n",
    "\n",
    "train_series = df['1. open'].iloc[:].values\n",
    "test_series = df['1. open'].iloc[N_TEST:].values\n",
    "\n",
    "train_generator = TimeseriesGenerator(train_series, train_series, length=N_INPUT , batch_size=BATCH_SIZE)\n",
    "test_generator = TimeseriesGenerator(test_series, test_series, length=N_INPUT , batch_size=BATCH_SIZE)"
   ]
  },
  {
   "cell_type": "code",
   "execution_count": 7,
   "id": "076e7637",
   "metadata": {},
   "outputs": [
    {
     "name": "stdout",
     "output_type": "stream",
     "text": [
      "Model: \"model\"\n",
      "_________________________________________________________________\n",
      "Layer (type)                 Output Shape              Param #   \n",
      "=================================================================\n",
      "input_1 (InputLayer)         [(None, 50)]              0         \n",
      "_________________________________________________________________\n",
      "reshape (Reshape)            (None, 10, 5)             0         \n",
      "_________________________________________________________________\n",
      "position_embedding (Position (None, 10, 5)             0         \n",
      "_________________________________________________________________\n",
      "transformer_block (Transform (None, 10, 5)             1290      \n",
      "_________________________________________________________________\n",
      "global_average_pooling1d (Gl (None, 5)                 0         \n",
      "_________________________________________________________________\n",
      "dropout_2 (Dropout)          (None, 5)                 0         \n",
      "_________________________________________________________________\n",
      "dense_2 (Dense)              (None, 1)                 6         \n",
      "=================================================================\n",
      "Total params: 1,296\n",
      "Trainable params: 1,296\n",
      "Non-trainable params: 0\n",
      "_________________________________________________________________\n",
      "None\n"
     ]
    }
   ],
   "source": [
    "model = getModel()\n",
    "opt = tf.keras.optimizers.Adam(learning_rate = 1e-3)\n",
    "model.compile(optimizer=opt,loss=tf.keras.losses.MeanSquaredError(),metrics=['MSE'])"
   ]
  },
  {
   "cell_type": "code",
   "execution_count": 8,
   "id": "e611a8e7",
   "metadata": {},
   "outputs": [
    {
     "name": "stdout",
     "output_type": "stream",
     "text": [
      "Epoch 1/100\n",
      "449/449 [==============================] - 2s 2ms/step - loss: 1820.2996 - MSE: 1820.2996\n",
      "Epoch 2/100\n",
      "449/449 [==============================] - 1s 2ms/step - loss: 1047.1652 - MSE: 1047.1652\n",
      "Epoch 3/100\n",
      "449/449 [==============================] - 1s 2ms/step - loss: 428.9144 - MSE: 428.9144\n",
      "Epoch 4/100\n",
      "449/449 [==============================] - 1s 2ms/step - loss: 187.6009 - MSE: 187.6009\n",
      "Epoch 5/100\n",
      "449/449 [==============================] - 1s 2ms/step - loss: 141.0424 - MSE: 141.0424\n",
      "Epoch 6/100\n",
      "449/449 [==============================] - 1s 2ms/step - loss: 137.1524 - MSE: 137.1524\n",
      "Epoch 7/100\n",
      "449/449 [==============================] - 1s 2ms/step - loss: 139.6847 - MSE: 139.6847\n",
      "Epoch 8/100\n",
      "449/449 [==============================] - 1s 3ms/step - loss: 138.8815 - MSE: 138.8815\n",
      "Epoch 9/100\n",
      "449/449 [==============================] - 1s 3ms/step - loss: 137.4422 - MSE: 137.4422\n",
      "Epoch 10/100\n",
      "449/449 [==============================] - 1s 3ms/step - loss: 137.8412 - MSE: 137.8412\n",
      "Epoch 11/100\n",
      "449/449 [==============================] - 1s 3ms/step - loss: 135.9845 - MSE: 135.9845\n",
      "Epoch 12/100\n",
      "449/449 [==============================] - 1s 3ms/step - loss: 136.0789 - MSE: 136.0789\n",
      "Epoch 13/100\n",
      "449/449 [==============================] - 1s 3ms/step - loss: 134.3850 - MSE: 134.3850\n",
      "Epoch 14/100\n",
      "449/449 [==============================] - 1s 3ms/step - loss: 138.1861 - MSE: 138.1861\n",
      "Epoch 15/100\n",
      "449/449 [==============================] - 1s 2ms/step - loss: 134.5491 - MSE: 134.5491\n",
      "Epoch 16/100\n",
      "449/449 [==============================] - 1s 2ms/step - loss: 133.9539 - MSE: 133.9539\n",
      "Epoch 17/100\n",
      "449/449 [==============================] - 1s 2ms/step - loss: 135.5809 - MSE: 135.5809\n",
      "Epoch 18/100\n",
      "449/449 [==============================] - 1s 2ms/step - loss: 135.0726 - MSE: 135.0726\n",
      "Epoch 19/100\n",
      "449/449 [==============================] - 1s 2ms/step - loss: 133.3287 - MSE: 133.3287\n",
      "Epoch 20/100\n",
      "449/449 [==============================] - 1s 3ms/step - loss: 135.4035 - MSE: 135.4035\n",
      "Epoch 21/100\n",
      "449/449 [==============================] - 1s 3ms/step - loss: 135.3151 - MSE: 135.3151\n",
      "Epoch 22/100\n",
      "449/449 [==============================] - 1s 2ms/step - loss: 134.9826 - MSE: 134.9826\n",
      "Epoch 23/100\n",
      "449/449 [==============================] - 1s 2ms/step - loss: 133.1028 - MSE: 133.1028\n",
      "Epoch 24/100\n",
      "449/449 [==============================] - 1s 2ms/step - loss: 135.7203 - MSE: 135.7203\n",
      "Epoch 25/100\n",
      "449/449 [==============================] - 1s 2ms/step - loss: 134.1642 - MSE: 134.1642\n",
      "Epoch 26/100\n",
      "449/449 [==============================] - 1s 2ms/step - loss: 138.4022 - MSE: 138.4022\n",
      "Epoch 27/100\n",
      "449/449 [==============================] - 1s 2ms/step - loss: 134.3498 - MSE: 134.3498\n",
      "Epoch 28/100\n",
      "449/449 [==============================] - 1s 2ms/step - loss: 134.0418 - MSE: 134.0418\n",
      "Epoch 29/100\n",
      "449/449 [==============================] - 1s 2ms/step - loss: 131.6518 - MSE: 131.6518\n",
      "Epoch 30/100\n",
      "449/449 [==============================] - 1s 2ms/step - loss: 134.2867 - MSE: 134.2867\n",
      "Epoch 31/100\n",
      "449/449 [==============================] - 1s 2ms/step - loss: 132.2616 - MSE: 132.2616\n",
      "Epoch 32/100\n",
      "449/449 [==============================] - 1s 3ms/step - loss: 136.8877 - MSE: 136.8877\n",
      "Epoch 33/100\n",
      "449/449 [==============================] - 1s 2ms/step - loss: 133.8110 - MSE: 133.8110\n",
      "Epoch 34/100\n",
      "449/449 [==============================] - 1s 2ms/step - loss: 136.6797 - MSE: 136.6797\n",
      "Epoch 35/100\n",
      "449/449 [==============================] - 1s 2ms/step - loss: 133.6230 - MSE: 133.6230\n",
      "Epoch 36/100\n",
      "449/449 [==============================] - 1s 2ms/step - loss: 136.2682 - MSE: 136.2682\n",
      "Epoch 37/100\n",
      "449/449 [==============================] - 1s 2ms/step - loss: 135.2542 - MSE: 135.2542\n",
      "Epoch 38/100\n",
      "449/449 [==============================] - 1s 2ms/step - loss: 133.2523 - MSE: 133.2523\n",
      "Epoch 39/100\n",
      "449/449 [==============================] - 1s 2ms/step - loss: 133.3726 - MSE: 133.3726\n",
      "Epoch 40/100\n",
      "449/449 [==============================] - 1s 2ms/step - loss: 134.2205 - MSE: 134.2205\n",
      "Epoch 41/100\n",
      "449/449 [==============================] - 1s 2ms/step - loss: 134.8415 - MSE: 134.8415\n",
      "Epoch 42/100\n",
      "449/449 [==============================] - 1s 2ms/step - loss: 133.3446 - MSE: 133.3446\n",
      "Epoch 43/100\n",
      "449/449 [==============================] - 1s 2ms/step - loss: 132.0993 - MSE: 132.0993\n",
      "Epoch 44/100\n",
      "449/449 [==============================] - 1s 2ms/step - loss: 133.4985 - MSE: 133.4985\n",
      "Epoch 45/100\n",
      "449/449 [==============================] - 1s 2ms/step - loss: 133.1228 - MSE: 133.1228\n",
      "Epoch 46/100\n",
      "449/449 [==============================] - 1s 2ms/step - loss: 133.9704 - MSE: 133.9704\n",
      "Epoch 47/100\n",
      "449/449 [==============================] - 1s 2ms/step - loss: 133.5395 - MSE: 133.5395\n",
      "Epoch 48/100\n",
      "449/449 [==============================] - 1s 2ms/step - loss: 131.9192 - MSE: 131.9192\n",
      "Epoch 49/100\n",
      "449/449 [==============================] - 1s 2ms/step - loss: 136.4731 - MSE: 136.4731\n",
      "Epoch 50/100\n",
      "449/449 [==============================] - 1s 2ms/step - loss: 133.2089 - MSE: 133.2089\n",
      "Epoch 51/100\n",
      "449/449 [==============================] - 1s 2ms/step - loss: 132.8327 - MSE: 132.8327\n",
      "Epoch 52/100\n",
      "449/449 [==============================] - 1s 2ms/step - loss: 129.1655 - MSE: 129.1655\n",
      "Epoch 53/100\n",
      "449/449 [==============================] - 1s 2ms/step - loss: 124.5828 - MSE: 124.5828\n",
      "Epoch 54/100\n",
      "449/449 [==============================] - 1s 2ms/step - loss: 117.1093 - MSE: 117.1093\n",
      "Epoch 55/100\n",
      "449/449 [==============================] - 1s 2ms/step - loss: 108.2926 - MSE: 108.2926\n",
      "Epoch 56/100\n",
      "449/449 [==============================] - 1s 2ms/step - loss: 89.2974 - MSE: 89.2974\n",
      "Epoch 57/100\n",
      "449/449 [==============================] - 1s 2ms/step - loss: 78.3786 - MSE: 78.3786\n",
      "Epoch 58/100\n",
      "449/449 [==============================] - 1s 2ms/step - loss: 74.2199 - MSE: 74.2199\n",
      "Epoch 59/100\n",
      "449/449 [==============================] - 1s 2ms/step - loss: 74.1743 - MSE: 74.1743\n",
      "Epoch 60/100\n",
      "449/449 [==============================] - 1s 2ms/step - loss: 70.3703 - MSE: 70.3703\n",
      "Epoch 61/100\n",
      "449/449 [==============================] - 1s 2ms/step - loss: 69.0988 - MSE: 69.0988\n",
      "Epoch 62/100\n",
      "449/449 [==============================] - 1s 2ms/step - loss: 63.8667 - MSE: 63.8667\n",
      "Epoch 63/100\n",
      "449/449 [==============================] - 1s 2ms/step - loss: 65.0613 - MSE: 65.0613\n",
      "Epoch 64/100\n",
      "449/449 [==============================] - 1s 2ms/step - loss: 61.0063 - MSE: 61.0063\n",
      "Epoch 65/100\n",
      "449/449 [==============================] - 1s 2ms/step - loss: 60.2744 - MSE: 60.2744\n",
      "Epoch 66/100\n",
      "449/449 [==============================] - 1s 2ms/step - loss: 62.6181 - MSE: 62.6181\n",
      "Epoch 67/100\n",
      "449/449 [==============================] - 1s 2ms/step - loss: 59.1863 - MSE: 59.1863\n",
      "Epoch 68/100\n",
      "449/449 [==============================] - 1s 2ms/step - loss: 60.2509 - MSE: 60.2509\n",
      "Epoch 69/100\n",
      "449/449 [==============================] - 1s 2ms/step - loss: 61.4970 - MSE: 61.4970\n",
      "Epoch 70/100\n",
      "449/449 [==============================] - 1s 2ms/step - loss: 57.8857 - MSE: 57.8857\n",
      "Epoch 71/100\n",
      "449/449 [==============================] - 1s 2ms/step - loss: 58.6357 - MSE: 58.6357\n",
      "Epoch 72/100\n",
      "449/449 [==============================] - 1s 2ms/step - loss: 57.3791 - MSE: 57.3791\n",
      "Epoch 73/100\n",
      "449/449 [==============================] - 1s 2ms/step - loss: 59.5287 - MSE: 59.5287\n",
      "Epoch 74/100\n",
      "449/449 [==============================] - 1s 2ms/step - loss: 56.6775 - MSE: 56.6775\n",
      "Epoch 75/100\n",
      "449/449 [==============================] - 1s 2ms/step - loss: 57.1903 - MSE: 57.1903\n",
      "Epoch 76/100\n",
      "449/449 [==============================] - 1s 2ms/step - loss: 55.2056 - MSE: 55.2056\n",
      "Epoch 77/100\n",
      "449/449 [==============================] - 1s 2ms/step - loss: 54.1111 - MSE: 54.1111\n",
      "Epoch 78/100\n",
      "449/449 [==============================] - 1s 2ms/step - loss: 53.6891 - MSE: 53.6891\n",
      "Epoch 79/100\n",
      "449/449 [==============================] - 1s 2ms/step - loss: 56.4694 - MSE: 56.4694\n",
      "Epoch 80/100\n",
      "449/449 [==============================] - 1s 3ms/step - loss: 52.5261 - MSE: 52.5261\n",
      "Epoch 81/100\n",
      "449/449 [==============================] - 1s 3ms/step - loss: 54.6110 - MSE: 54.6110\n",
      "Epoch 82/100\n"
     ]
    },
    {
     "name": "stdout",
     "output_type": "stream",
     "text": [
      "449/449 [==============================] - 1s 3ms/step - loss: 54.2307 - MSE: 54.2307\n",
      "Epoch 83/100\n",
      "449/449 [==============================] - 1s 3ms/step - loss: 52.0711 - MSE: 52.0711\n",
      "Epoch 84/100\n",
      "449/449 [==============================] - 1s 3ms/step - loss: 52.4195 - MSE: 52.4195\n",
      "Epoch 85/100\n",
      "449/449 [==============================] - 1s 3ms/step - loss: 53.1290 - MSE: 53.1290\n",
      "Epoch 86/100\n",
      "449/449 [==============================] - 1s 3ms/step - loss: 56.3670 - MSE: 56.3670\n",
      "Epoch 87/100\n",
      "449/449 [==============================] - 1s 3ms/step - loss: 50.6933 - MSE: 50.6933\n",
      "Epoch 88/100\n",
      "449/449 [==============================] - 1s 3ms/step - loss: 52.4977 - MSE: 52.4977\n",
      "Epoch 89/100\n",
      "449/449 [==============================] - 1s 2ms/step - loss: 55.5259 - MSE: 55.5259\n",
      "Epoch 90/100\n",
      "449/449 [==============================] - 1s 3ms/step - loss: 50.2507 - MSE: 50.2507\n",
      "Epoch 91/100\n",
      "449/449 [==============================] - 1s 2ms/step - loss: 48.8839 - MSE: 48.8839\n",
      "Epoch 92/100\n",
      "449/449 [==============================] - 1s 2ms/step - loss: 49.7551 - MSE: 49.7551\n",
      "Epoch 93/100\n",
      "449/449 [==============================] - 1s 2ms/step - loss: 50.5434 - MSE: 50.5434\n",
      "Epoch 94/100\n",
      "449/449 [==============================] - 1s 2ms/step - loss: 48.4413 - MSE: 48.4413\n",
      "Epoch 95/100\n",
      "449/449 [==============================] - 1s 2ms/step - loss: 50.7052 - MSE: 50.7052\n",
      "Epoch 96/100\n",
      "449/449 [==============================] - 1s 2ms/step - loss: 49.2160 - MSE: 49.2160\n",
      "Epoch 97/100\n",
      "449/449 [==============================] - 1s 2ms/step - loss: 49.5890 - MSE: 49.5890\n",
      "Epoch 98/100\n",
      "449/449 [==============================] - 1s 2ms/step - loss: 48.5846 - MSE: 48.5846\n",
      "Epoch 99/100\n",
      "449/449 [==============================] - 1s 2ms/step - loss: 49.0830 - MSE: 49.0830\n",
      "Epoch 100/100\n",
      "449/449 [==============================] - 1s 2ms/step - loss: 50.8097 - MSE: 50.8097\n"
     ]
    }
   ],
   "source": [
    "history = model.fit(train_generator, steps_per_epoch=len(train_generator),epochs=100)"
   ]
  },
  {
   "cell_type": "code",
   "execution_count": 9,
   "id": "65b5cabe",
   "metadata": {},
   "outputs": [],
   "source": [
    "yh = model.predict(test_generator)"
   ]
  },
  {
   "cell_type": "code",
   "execution_count": 10,
   "id": "b5d07e8e",
   "metadata": {},
   "outputs": [
    {
     "data": {
      "text/plain": [
       "[<matplotlib.lines.Line2D at 0x7f8a4b225710>]"
      ]
     },
     "execution_count": 10,
     "metadata": {},
     "output_type": "execute_result"
    },
    {
     "data": {
      "image/png": "[encoded data removed]",
      "text/plain": [
       "<Figure size 432x288 with 1 Axes>"
      ]
     },
     "metadata": {},
     "output_type": "display_data"
    }
   ],
   "source": [
    "plt.plot(range(0,yh.shape[0]),yh.flatten())\n",
    "plt.plot(range(0,yh.shape[0]),test_series.flatten()[test_series.shape[0]-yh.shape[0]:],color='r',alpha=.5)"
   ]
  },
  {
   "cell_type": "code",
   "execution_count": null,
   "id": "08cd4c3e",
   "metadata": {},
   "outputs": [],
   "source": []
  },
  {
   "cell_type": "code",
   "execution_count": null,
   "id": "798af025",
   "metadata": {},
   "outputs": [],
   "source": []
  },
  {
   "cell_type": "code",
   "execution_count": null,
   "id": "fa85d4b4",
   "metadata": {},
   "outputs": [],
   "source": []
  },
  {
   "cell_type": "code",
   "execution_count": null,
   "id": "c8085f00",
   "metadata": {},
   "outputs": [],
   "source": []
  }
 ],
 "metadata": {
  "kernelspec": {
   "display_name": "tfp-env",
   "language": "python",
   "name": "anaconda-tfp_env"
  },
  "language_info": {
   "codemirror_mode": {
    "name": "ipython",
    "version": 3
   },
   "file_extension": ".py",
   "mimetype": "text/x-python",
   "name": "python",
   "nbconvert_exporter": "python",
   "pygments_lexer": "ipython3",
   "version": "3.6.12"
  }
 },
 "nbformat": 4,
 "nbformat_minor": 5
}
