{
 "cells": [
  {
   "cell_type": "markdown",
   "id": "9d07da15",
   "metadata": {},
   "source": [
    "# Transformer Example "
   ]
  },
  {
   "cell_type": "code",
   "execution_count": 1,
   "id": "667394f8",
   "metadata": {},
   "outputs": [],
   "source": [
    "import pandas as pd \n",
    "import numpy as np \n",
    "\n",
    "import tensorflow as tf\n",
    "from tensorflow import keras\n",
    "from tensorflow.keras import layers\n",
    "from tensorflow.keras.preprocessing.sequence import TimeseriesGenerator\n",
    "\n",
    "import matplotlib.pyplot as plt \n",
    "import seaborn as sns \n",
    "sns.set()"
   ]
  },
  {
   "cell_type": "markdown",
   "id": "896a3bb8",
   "metadata": {},
   "source": [
    "## Resourcs\n",
    "\n",
    "* https://trungtran.io/2019/04/29/create-the-transformer-with-tensorflow-2-0/\n",
    "* https://keras.io/examples/nlp/text_classification_with_transformer/\n",
    "* https://kazemnejad.com/blog/transformer_architecture_positional_encoding/\n",
    "* https://arxiv.org/abs/1706.03762\n",
    "* https://www.tensorflow.org/text/tutorials/transformer\n",
    "* https://www.youtube.com/watch?v=dichIcUZfOw\n"
   ]
  },
  {
   "cell_type": "markdown",
   "id": "09f4819e",
   "metadata": {},
   "source": [
    "## Transformer"
   ]
  },
  {
   "cell_type": "markdown",
   "id": "062738fa",
   "metadata": {},
   "source": [
    "![transformer](https://miro.medium.com/max/2880/1*BHzGVskWGS_3jEcYYi6miQ.png)"
   ]
  },
  {
   "cell_type": "markdown",
   "id": "d3d879b7",
   "metadata": {},
   "source": [
    "![multihead](https://miro.medium.com/max/4548/1*ETe4WrKJ1lS1MKDgBPIM0g.png)"
   ]
  },
  {
   "cell_type": "code",
   "execution_count": 2,
   "id": "195a74a5",
   "metadata": {},
   "outputs": [],
   "source": [
    "class TransformerBlock(layers.Layer):\n",
    "    def __init__(self, key_dim, num_heads, ff_dim, rate=0.1):\n",
    "        super(TransformerBlock, self).__init__()\n",
    "        self.att = layers.MultiHeadAttention(num_heads=num_heads, key_dim=key_dim)\n",
    "        self.ffn = keras.Sequential(\n",
    "            [layers.Dense(ff_dim, activation=\"relu\"), layers.Dense(key_dim),]\n",
    "        )\n",
    "        self.layernorm1 = layers.LayerNormalization(epsilon=1e-6)\n",
    "        self.layernorm2 = layers.LayerNormalization(epsilon=1e-6)\n",
    "        self.dropout1 = layers.Dropout(rate)\n",
    "        self.dropout2 = layers.Dropout(rate)\n",
    "\n",
    "    def call(self, inputs):\n",
    "        attn_output = self.att(inputs,inputs)\n",
    "        attn_output = self.dropout1(attn_output)\n",
    "        out1 = self.layernorm1(inputs + attn_output)\n",
    "        ffn_output = self.ffn(out1)\n",
    "        ffn_output = self.dropout2(ffn_output)\n",
    "        return self.layernorm2(out1 + ffn_output)"
   ]
  },
  {
   "cell_type": "markdown",
   "id": "6f5dc32d",
   "metadata": {},
   "source": [
    "## Positional encoding\n",
    "\n"
   ]
  },
  {
   "cell_type": "markdown",
   "id": "e210a9e4",
   "metadata": {},
   "source": [
    "$$\n",
    "PE_{(pos,2i)} = \\sin (pos/10000^{2i/d_{model}})\n",
    "$$\n"
   ]
  },
  {
   "cell_type": "markdown",
   "id": "6aaef947",
   "metadata": {},
   "source": [
    "$$\n",
    "PE_{(pos,2i+1)} = \\cos (pos/10000^{2i/d_{model}})\n",
    "$$"
   ]
  },
  {
   "cell_type": "code",
   "execution_count": 3,
   "id": "faa9c5c3",
   "metadata": {},
   "outputs": [],
   "source": [
    "class PositionEmbedding(layers.Layer):\n",
    "    def __init__(self,n,d):\n",
    "        super(PositionEmbedding, self).__init__()\n",
    "        self.n, self.d = n, d\n",
    "        self.pos_encoding = self.positional_encoding(n,d)\n",
    "        \n",
    "    def get_angles(self,pos, i, d_model):\n",
    "        angle_rates = 1 / np.power(10000, (2 * (i//2)) / np.float32(d_model))\n",
    "        return pos * angle_rates\n",
    "    \n",
    "    def positional_encoding(self,position, d_model):\n",
    "        angle_rads = self.get_angles(np.arange(position)[:, np.newaxis],\n",
    "                              np.arange(d_model)[np.newaxis, :],\n",
    "                              d_model)\n",
    "\n",
    "        # apply sin to even indices in the array; 2i\n",
    "        angle_rads[:, 0::2] = np.sin(angle_rads[:, 0::2])\n",
    "\n",
    "        # apply cos to odd indices in the array; 2i+1\n",
    "        angle_rads[:, 1::2] = np.cos(angle_rads[:, 1::2])\n",
    "\n",
    "        pos_encoding = angle_rads[np.newaxis, ...]\n",
    "\n",
    "        return tf.cast(pos_encoding, dtype=tf.float32)\n",
    "    \n",
    "    def call(self, x):\n",
    "        x += self.pos_encoding[:, :self.n, :]\n",
    "        return x "
   ]
  },
  {
   "cell_type": "code",
   "execution_count": 4,
   "id": "358459d6",
   "metadata": {},
   "outputs": [],
   "source": [
    "def getModel(input_shape=(50)):\n",
    "    inputs = tf.keras.Input(input_shape)\n",
    "    \n",
    "    pos_embed = PositionEmbedding(10,5)\n",
    "    transformer = TransformerBlock(5,10,10)\n",
    "    \n",
    "    # reshape seq of len 50 into 10 seq of len 5 each\n",
    "    x = tf.keras.layers.Reshape((10,5))(inputs)\n",
    "    x = pos_embed(x)\n",
    "    x = transformer(x)\n",
    "    x = layers.GlobalAveragePooling1D()(x)\n",
    "    x = layers.Dropout(0.1)(x)\n",
    "    yh = layers.Dense(1, activation=\"linear\")(x)\n",
    "    model = tf.keras.Model(inputs,yh)\n",
    "    print(model.summary())\n",
    "    return model"
   ]
  },
  {
   "cell_type": "markdown",
   "id": "36a22eb9",
   "metadata": {},
   "source": [
    "## Demo "
   ]
  },
  {
   "cell_type": "code",
   "execution_count": 5,
   "id": "723ee124",
   "metadata": {},
   "outputs": [
    {
     "data": {
      "text/plain": [
       "<matplotlib.legend.Legend at 0x7fa9f8e0b9e8>"
      ]
     },
     "execution_count": 5,
     "metadata": {},
     "output_type": "execute_result"
    },
    {
     "data": {
      "image/png": "[encoded data removed]",
      "text/plain": [
       "<Figure size 432x288 with 1 Axes>"
      ]
     },
     "metadata": {},
     "output_type": "display_data"
    }
   ],
   "source": [
    "df = pd.read_csv('stock_data.csv')\n",
    "df['1. open'].diff().plot(title='Open Price Diff')\n",
    "plt.legend()"
   ]
  },
  {
   "cell_type": "code",
   "execution_count": 6,
   "id": "d8c231a3",
   "metadata": {},
   "outputs": [],
   "source": [
    "N_TEST = 100\n",
    "BATCH_SIZE = 12\n",
    "N_INPUT = 50\n",
    "\n",
    "train_series = df['1. open'].diff().iloc[1:].values\n",
    "test_series = df['1. open'].diff().iloc[-N_TEST:].values\n",
    "\n",
    "train_generator = TimeseriesGenerator(train_series, train_series, length=N_INPUT , batch_size=BATCH_SIZE)\n",
    "test_generator = TimeseriesGenerator(test_series, test_series, length=N_INPUT , batch_size=BATCH_SIZE)"
   ]
  },
  {
   "cell_type": "code",
   "execution_count": 7,
   "id": "076e7637",
   "metadata": {},
   "outputs": [
    {
     "name": "stdout",
     "output_type": "stream",
     "text": [
      "Model: \"model\"\n",
      "_________________________________________________________________\n",
      "Layer (type)                 Output Shape              Param #   \n",
      "=================================================================\n",
      "input_1 (InputLayer)         [(None, 50)]              0         \n",
      "_________________________________________________________________\n",
      "reshape (Reshape)            (None, 10, 5)             0         \n",
      "_________________________________________________________________\n",
      "position_embedding (Position (None, 10, 5)             0         \n",
      "_________________________________________________________________\n",
      "transformer_block (Transform (None, 10, 5)             1290      \n",
      "_________________________________________________________________\n",
      "global_average_pooling1d (Gl (None, 5)                 0         \n",
      "_________________________________________________________________\n",
      "dropout_2 (Dropout)          (None, 5)                 0         \n",
      "_________________________________________________________________\n",
      "dense_2 (Dense)              (None, 1)                 6         \n",
      "=================================================================\n",
      "Total params: 1,296\n",
      "Trainable params: 1,296\n",
      "Non-trainable params: 0\n",
      "_________________________________________________________________\n",
      "None\n"
     ]
    }
   ],
   "source": [
    "model = getModel()\n",
    "opt = tf.keras.optimizers.Adam(learning_rate = 1e-3)\n",
    "model.compile(optimizer=opt,loss=tf.keras.losses.MeanSquaredError(),metrics=['MSE'])"
   ]
  },
  {
   "cell_type": "code",
   "execution_count": 8,
   "id": "e611a8e7",
   "metadata": {},
   "outputs": [
    {
     "name": "stdout",
     "output_type": "stream",
     "text": [
      "Epoch 1/100\n",
      "449/449 [==============================] - 2s 2ms/step - loss: 1.0645 - MSE: 1.0645\n",
      "Epoch 2/100\n",
      "449/449 [==============================] - 1s 2ms/step - loss: 1.0411 - MSE: 1.0411\n",
      "Epoch 3/100\n",
      "449/449 [==============================] - 1s 2ms/step - loss: 1.0394 - MSE: 1.0394\n",
      "Epoch 4/100\n",
      "449/449 [==============================] - 1s 2ms/step - loss: 1.0368 - MSE: 1.0368\n",
      "Epoch 5/100\n",
      "449/449 [==============================] - 1s 2ms/step - loss: 1.0362 - MSE: 1.0362\n",
      "Epoch 6/100\n",
      "449/449 [==============================] - 1s 2ms/step - loss: 1.0349 - MSE: 1.0349\n",
      "Epoch 7/100\n",
      "449/449 [==============================] - 1s 2ms/step - loss: 1.0345 - MSE: 1.0345\n",
      "Epoch 8/100\n",
      "449/449 [==============================] - 1s 2ms/step - loss: 1.0338 - MSE: 1.0338\n",
      "Epoch 9/100\n",
      "449/449 [==============================] - 1s 2ms/step - loss: 1.0346 - MSE: 1.0346\n",
      "Epoch 10/100\n",
      "449/449 [==============================] - 1s 2ms/step - loss: 1.0319 - MSE: 1.0319A: 0s - loss: 1.406\n",
      "Epoch 11/100\n",
      "449/449 [==============================] - 1s 2ms/step - loss: 1.0339 - MSE: 1.0339\n",
      "Epoch 12/100\n",
      "449/449 [==============================] - 1s 2ms/step - loss: 1.0328 - MSE: 1.0328\n",
      "Epoch 13/100\n",
      "449/449 [==============================] - 1s 2ms/step - loss: 1.0326 - MSE: 1.0326\n",
      "Epoch 14/100\n",
      "449/449 [==============================] - 1s 2ms/step - loss: 1.0303 - MSE: 1.0303\n",
      "Epoch 15/100\n",
      "449/449 [==============================] - 1s 2ms/step - loss: 1.0329 - MSE: 1.0329\n",
      "Epoch 16/100\n",
      "449/449 [==============================] - 1s 2ms/step - loss: 1.0308 - MSE: 1.0308\n",
      "Epoch 17/100\n",
      "449/449 [==============================] - 1s 2ms/step - loss: 1.0300 - MSE: 1.0300\n",
      "Epoch 18/100\n",
      "449/449 [==============================] - 1s 2ms/step - loss: 1.0298 - MSE: 1.0298\n",
      "Epoch 19/100\n",
      "449/449 [==============================] - 1s 2ms/step - loss: 1.0280 - MSE: 1.0280\n",
      "Epoch 20/100\n",
      "449/449 [==============================] - 1s 2ms/step - loss: 1.0281 - MSE: 1.0281\n",
      "Epoch 21/100\n",
      "449/449 [==============================] - 1s 2ms/step - loss: 1.0273 - MSE: 1.0273\n",
      "Epoch 22/100\n",
      "449/449 [==============================] - 1s 2ms/step - loss: 1.0256 - MSE: 1.0256\n",
      "Epoch 23/100\n",
      "449/449 [==============================] - 1s 2ms/step - loss: 1.0245 - MSE: 1.0245\n",
      "Epoch 24/100\n",
      "449/449 [==============================] - 1s 2ms/step - loss: 1.0239 - MSE: 1.0239\n",
      "Epoch 25/100\n",
      "449/449 [==============================] - 1s 2ms/step - loss: 1.0240 - MSE: 1.0240\n",
      "Epoch 26/100\n",
      "449/449 [==============================] - 1s 2ms/step - loss: 1.0239 - MSE: 1.0239\n",
      "Epoch 27/100\n",
      "449/449 [==============================] - 1s 2ms/step - loss: 1.0234 - MSE: 1.0234\n",
      "Epoch 28/100\n",
      "449/449 [==============================] - 1s 2ms/step - loss: 1.0223 - MSE: 1.0223\n",
      "Epoch 29/100\n",
      "449/449 [==============================] - 1s 2ms/step - loss: 1.0214 - MSE: 1.0214\n",
      "Epoch 30/100\n",
      "449/449 [==============================] - 1s 2ms/step - loss: 1.0194 - MSE: 1.0194\n",
      "Epoch 31/100\n",
      "449/449 [==============================] - 1s 2ms/step - loss: 1.0175 - MSE: 1.0175\n",
      "Epoch 32/100\n",
      "449/449 [==============================] - 1s 2ms/step - loss: 1.0192 - MSE: 1.0192\n",
      "Epoch 33/100\n",
      "449/449 [==============================] - 1s 2ms/step - loss: 1.0193 - MSE: 1.0193\n",
      "Epoch 34/100\n",
      "449/449 [==============================] - 1s 2ms/step - loss: 1.0158 - MSE: 1.0158\n",
      "Epoch 35/100\n",
      "449/449 [==============================] - 1s 2ms/step - loss: 1.0141 - MSE: 1.0141\n",
      "Epoch 36/100\n",
      "449/449 [==============================] - 1s 2ms/step - loss: 1.0143 - MSE: 1.0143\n",
      "Epoch 37/100\n",
      "449/449 [==============================] - 1s 2ms/step - loss: 1.0152 - MSE: 1.0152\n",
      "Epoch 38/100\n",
      "449/449 [==============================] - 1s 2ms/step - loss: 1.0159 - MSE: 1.0159\n",
      "Epoch 39/100\n",
      "449/449 [==============================] - 1s 2ms/step - loss: 1.0109 - MSE: 1.0109\n",
      "Epoch 40/100\n",
      "449/449 [==============================] - 1s 2ms/step - loss: 1.0100 - MSE: 1.0100\n",
      "Epoch 41/100\n",
      "449/449 [==============================] - 1s 2ms/step - loss: 1.0130 - MSE: 1.0130\n",
      "Epoch 42/100\n",
      "449/449 [==============================] - 1s 2ms/step - loss: 1.0105 - MSE: 1.0105\n",
      "Epoch 43/100\n",
      "449/449 [==============================] - 1s 2ms/step - loss: 1.0078 - MSE: 1.0078\n",
      "Epoch 44/100\n",
      "449/449 [==============================] - 1s 2ms/step - loss: 1.0057 - MSE: 1.0057\n",
      "Epoch 45/100\n",
      "449/449 [==============================] - 1s 2ms/step - loss: 1.0063 - MSE: 1.0063\n",
      "Epoch 46/100\n",
      "449/449 [==============================] - 1s 2ms/step - loss: 1.0065 - MSE: 1.0065\n",
      "Epoch 47/100\n",
      "449/449 [==============================] - 1s 2ms/step - loss: 1.0043 - MSE: 1.0043\n",
      "Epoch 48/100\n",
      "449/449 [==============================] - 1s 2ms/step - loss: 1.0063 - MSE: 1.0063\n",
      "Epoch 49/100\n",
      "449/449 [==============================] - 1s 2ms/step - loss: 1.0067 - MSE: 1.0067\n",
      "Epoch 50/100\n",
      "449/449 [==============================] - 1s 2ms/step - loss: 1.0063 - MSE: 1.0063\n",
      "Epoch 51/100\n",
      "449/449 [==============================] - 1s 2ms/step - loss: 1.0044 - MSE: 1.0044\n",
      "Epoch 52/100\n",
      "449/449 [==============================] - 1s 2ms/step - loss: 1.0043 - MSE: 1.0043\n",
      "Epoch 53/100\n",
      "449/449 [==============================] - 1s 2ms/step - loss: 1.0016 - MSE: 1.0016\n",
      "Epoch 54/100\n",
      "449/449 [==============================] - 1s 2ms/step - loss: 1.0009 - MSE: 1.0009\n",
      "Epoch 55/100\n",
      "449/449 [==============================] - 1s 2ms/step - loss: 0.9961 - MSE: 0.9961\n",
      "Epoch 56/100\n",
      "449/449 [==============================] - 1s 2ms/step - loss: 0.9998 - MSE: 0.9998\n",
      "Epoch 57/100\n",
      "449/449 [==============================] - 1s 2ms/step - loss: 1.0000 - MSE: 1.0000\n",
      "Epoch 58/100\n",
      "449/449 [==============================] - 1s 2ms/step - loss: 0.9999 - MSE: 0.9999\n",
      "Epoch 59/100\n",
      "449/449 [==============================] - 1s 2ms/step - loss: 1.0014 - MSE: 1.0014\n",
      "Epoch 60/100\n",
      "449/449 [==============================] - 1s 2ms/step - loss: 0.9919 - MSE: 0.9919\n",
      "Epoch 61/100\n",
      "449/449 [==============================] - 1s 2ms/step - loss: 0.9952 - MSE: 0.9952\n",
      "Epoch 62/100\n",
      "449/449 [==============================] - 1s 2ms/step - loss: 0.9964 - MSE: 0.9964\n",
      "Epoch 63/100\n",
      "449/449 [==============================] - 1s 2ms/step - loss: 1.0010 - MSE: 1.0010\n",
      "Epoch 64/100\n",
      "449/449 [==============================] - 1s 2ms/step - loss: 0.9928 - MSE: 0.9928\n",
      "Epoch 65/100\n",
      "449/449 [==============================] - 1s 2ms/step - loss: 0.9993 - MSE: 0.9993\n",
      "Epoch 66/100\n",
      "449/449 [==============================] - 1s 2ms/step - loss: 0.9932 - MSE: 0.9932\n",
      "Epoch 67/100\n",
      "449/449 [==============================] - 1s 2ms/step - loss: 0.9963 - MSE: 0.9963\n",
      "Epoch 68/100\n",
      "449/449 [==============================] - 1s 2ms/step - loss: 0.9967 - MSE: 0.9967\n",
      "Epoch 69/100\n",
      "449/449 [==============================] - 1s 2ms/step - loss: 0.9925 - MSE: 0.9925\n",
      "Epoch 70/100\n",
      "449/449 [==============================] - 1s 2ms/step - loss: 0.9884 - MSE: 0.9884\n",
      "Epoch 71/100\n",
      "449/449 [==============================] - 1s 2ms/step - loss: 0.9881 - MSE: 0.9881\n",
      "Epoch 72/100\n",
      "449/449 [==============================] - 1s 2ms/step - loss: 0.9895 - MSE: 0.9895\n",
      "Epoch 73/100\n",
      "449/449 [==============================] - 1s 2ms/step - loss: 0.9864 - MSE: 0.9864\n",
      "Epoch 74/100\n",
      "449/449 [==============================] - 1s 2ms/step - loss: 0.9868 - MSE: 0.9868\n",
      "Epoch 75/100\n",
      "449/449 [==============================] - 1s 2ms/step - loss: 0.9838 - MSE: 0.9838\n",
      "Epoch 76/100\n",
      "449/449 [==============================] - 1s 2ms/step - loss: 0.9854 - MSE: 0.9854\n",
      "Epoch 77/100\n",
      "449/449 [==============================] - 1s 2ms/step - loss: 0.9819 - MSE: 0.9819\n",
      "Epoch 78/100\n",
      "449/449 [==============================] - 1s 2ms/step - loss: 0.9766 - MSE: 0.9766\n",
      "Epoch 79/100\n",
      "449/449 [==============================] - 1s 2ms/step - loss: 0.9758 - MSE: 0.9758\n",
      "Epoch 80/100\n",
      "449/449 [==============================] - 1s 2ms/step - loss: 0.9833 - MSE: 0.9833\n",
      "Epoch 81/100\n",
      "449/449 [==============================] - 1s 2ms/step - loss: 0.9749 - MSE: 0.9749\n",
      "Epoch 82/100\n",
      "449/449 [==============================] - 1s 2ms/step - loss: 0.9789 - MSE: 0.9789\n",
      "Epoch 83/100\n",
      "449/449 [==============================] - 1s 2ms/step - loss: 0.9771 - MSE: 0.9771\n",
      "Epoch 84/100\n",
      "449/449 [==============================] - 1s 2ms/step - loss: 0.9727 - MSE: 0.9727\n",
      "Epoch 85/100\n"
     ]
    },
    {
     "name": "stdout",
     "output_type": "stream",
     "text": [
      "449/449 [==============================] - 1s 2ms/step - loss: 0.9731 - MSE: 0.9731\n",
      "Epoch 86/100\n",
      "449/449 [==============================] - 1s 2ms/step - loss: 0.9772 - MSE: 0.9772\n",
      "Epoch 87/100\n",
      "449/449 [==============================] - 1s 2ms/step - loss: 0.9638 - MSE: 0.9638\n",
      "Epoch 88/100\n",
      "449/449 [==============================] - 1s 2ms/step - loss: 0.9641 - MSE: 0.9641\n",
      "Epoch 89/100\n",
      "449/449 [==============================] - 1s 2ms/step - loss: 0.9751 - MSE: 0.9751\n",
      "Epoch 90/100\n",
      "449/449 [==============================] - 1s 2ms/step - loss: 0.9744 - MSE: 0.9744\n",
      "Epoch 91/100\n",
      "449/449 [==============================] - 1s 2ms/step - loss: 0.9691 - MSE: 0.9691\n",
      "Epoch 92/100\n",
      "449/449 [==============================] - 1s 2ms/step - loss: 0.9795 - MSE: 0.9795\n",
      "Epoch 93/100\n",
      "449/449 [==============================] - 1s 2ms/step - loss: 0.9603 - MSE: 0.9603\n",
      "Epoch 94/100\n",
      "449/449 [==============================] - 1s 2ms/step - loss: 0.9631 - MSE: 0.9631\n",
      "Epoch 95/100\n",
      "449/449 [==============================] - 1s 2ms/step - loss: 0.9757 - MSE: 0.9757\n",
      "Epoch 96/100\n",
      "449/449 [==============================] - 1s 2ms/step - loss: 0.9658 - MSE: 0.9658\n",
      "Epoch 97/100\n",
      "449/449 [==============================] - 1s 2ms/step - loss: 0.9649 - MSE: 0.9649\n",
      "Epoch 98/100\n",
      "449/449 [==============================] - 1s 2ms/step - loss: 0.9678 - MSE: 0.9678\n",
      "Epoch 99/100\n",
      "449/449 [==============================] - 1s 2ms/step - loss: 0.9641 - MSE: 0.9641\n",
      "Epoch 100/100\n",
      "449/449 [==============================] - 1s 3ms/step - loss: 0.9606 - MSE: 0.9606\n"
     ]
    }
   ],
   "source": [
    "history = model.fit(train_generator, steps_per_epoch=len(train_generator),epochs=100)"
   ]
  },
  {
   "cell_type": "code",
   "execution_count": 9,
   "id": "65b5cabe",
   "metadata": {},
   "outputs": [],
   "source": [
    "yh = model.predict(test_generator)"
   ]
  },
  {
   "cell_type": "code",
   "execution_count": 10,
   "id": "b5d07e8e",
   "metadata": {},
   "outputs": [
    {
     "data": {
      "text/plain": [
       "<matplotlib.legend.Legend at 0x7fa9f9a3be48>"
      ]
     },
     "execution_count": 10,
     "metadata": {},
     "output_type": "execute_result"
    },
    {
     "data": {
      "image/png": "[encoded data removed]",
      "text/plain": [
       "<Figure size 432x288 with 1 Axes>"
      ]
     },
     "metadata": {},
     "output_type": "display_data"
    }
   ],
   "source": [
    "plt.plot(range(0,yh.shape[0]),yh.flatten(),label='Pred')\n",
    "plt.plot(range(0,yh.shape[0]),test_series.flatten()[test_series.shape[0]-yh.shape[0]:],color='r',label='Actual',alpha=.5)\n",
    "plt.legend()"
   ]
  },
  {
   "cell_type": "code",
   "execution_count": null,
   "id": "08cd4c3e",
   "metadata": {},
   "outputs": [],
   "source": []
  },
  {
   "cell_type": "code",
   "execution_count": null,
   "id": "798af025",
   "metadata": {},
   "outputs": [],
   "source": []
  },
  {
   "cell_type": "code",
   "execution_count": null,
   "id": "fa85d4b4",
   "metadata": {},
   "outputs": [],
   "source": []
  },
  {
   "cell_type": "code",
   "execution_count": null,
   "id": "c8085f00",
   "metadata": {},
   "outputs": [],
   "source": []
  }
 ],
 "metadata": {
  "kernelspec": {
   "display_name": "tfp-env",
   "language": "python",
   "name": "anaconda-tfp_env"
  },
  "language_info": {
   "codemirror_mode": {
    "name": "ipython",
    "version": 3
   },
   "file_extension": ".py",
   "mimetype": "text/x-python",
   "name": "python",
   "nbconvert_exporter": "python",
   "pygments_lexer": "ipython3",
   "version": "3.6.12"
  }
 },
 "nbformat": 4,
 "nbformat_minor": 5
}
