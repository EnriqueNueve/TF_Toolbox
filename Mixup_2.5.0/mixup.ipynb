{
 "cells": [
  {
   "cell_type": "markdown",
   "id": "f0ca5873",
   "metadata": {},
   "source": [
    "# Mixup: BEYOND EMPIRICAL RISK MINIMIZATION\n",
    "Paper: [https://arxiv.org/pdf/1710.09412.pdf](https://arxiv.org/pdf/1710.09412.pdf)"
   ]
  },
  {
   "cell_type": "markdown",
   "id": "1aef0be3",
   "metadata": {},
   "source": [
    "## Import modules"
   ]
  },
  {
   "cell_type": "code",
   "execution_count": 1,
   "id": "b41b7258",
   "metadata": {},
   "outputs": [],
   "source": [
    "import os \n",
    "import numpy as np \n",
    "from sklearn.model_selection import train_test_split\n",
    "from sklearn.utils import shuffle\n",
    "\n",
    "from PIL import Image\n",
    "from netcal.metrics import MCE, ECE\n",
    "from sklearn.metrics import accuracy_score\n",
    "\n",
    "import tensorflow as tf \n",
    "from tensorflow import keras\n",
    "\n",
    "import matplotlib.pyplot as plt\n",
    "import seaborn as sns\n",
    "sns.set_style(\"whitegrid\")\n",
    "%matplotlib inline"
   ]
  },
  {
   "cell_type": "markdown",
   "id": "0fdaa6ca",
   "metadata": {},
   "source": [
    "## Load data"
   ]
  },
  {
   "cell_type": "code",
   "execution_count": 2,
   "id": "12eef531",
   "metadata": {},
   "outputs": [],
   "source": [
    "BATCH_SIZE = 32"
   ]
  },
  {
   "cell_type": "code",
   "execution_count": 3,
   "id": "4c3f71dd",
   "metadata": {},
   "outputs": [
    {
     "name": "stdout",
     "output_type": "stream",
     "text": [
      "X_train shape: (48000, 28, 28, 1)\n",
      "y_train shape: (48000, 10)\n",
      "X_val shape: (12000, 28, 28, 1)\n",
      "y_val shape: (12000, 10)\n",
      "X_test shape: (10000, 28, 28, 1)\n",
      "y_test shape: (10000, 10)\n"
     ]
    }
   ],
   "source": [
    "(X_train, y_train), (X_test, y_test) = keras.datasets.mnist.load_data()\n",
    "\n",
    "# Scale data \n",
    "X_train, X_test = X_train/255, X_test/255\n",
    "\n",
    "# Add channel dim \n",
    "X_train, X_test = X_train[...,np.newaxis], X_test[...,np.newaxis]\n",
    "\n",
    "# One-hot encode target \n",
    "y_train = tf.one_hot(y_train, 10).numpy()\n",
    "y_test = tf.one_hot(y_test, 10).numpy()\n",
    "\n",
    "X_train, X_val, y_train, y_val = train_test_split(X_train, y_train, test_size=0.2, random_state=42)\n",
    "\n",
    "print(\"X_train shape: {}\".format(X_train.shape))\n",
    "print(\"y_train shape: {}\".format(y_train.shape))\n",
    "print(\"X_val shape: {}\".format(X_val.shape))\n",
    "print(\"y_val shape: {}\".format(y_val.shape))\n",
    "print(\"X_test shape: {}\".format(X_test.shape))\n",
    "print(\"y_test shape: {}\".format(y_test.shape))"
   ]
  },
  {
   "cell_type": "code",
   "execution_count": 4,
   "id": "9365f3a8",
   "metadata": {},
   "outputs": [],
   "source": [
    "train_dataset = tf.data.Dataset.from_tensor_slices((X_train, y_train))\n",
    "val_dataset = tf.data.Dataset.from_tensor_slices((X_val, y_val))"
   ]
  },
  {
   "cell_type": "code",
   "execution_count": 5,
   "id": "b84cdbd4",
   "metadata": {},
   "outputs": [],
   "source": [
    "train_dataset = train_dataset.shuffle(buffer_size=1024).batch(BATCH_SIZE)\n",
    "val_dataset = val_dataset.shuffle(buffer_size=1024).batch(BATCH_SIZE)"
   ]
  },
  {
   "cell_type": "markdown",
   "id": "a49c18a6",
   "metadata": {},
   "source": [
    "## Model "
   ]
  },
  {
   "cell_type": "code",
   "execution_count": 6,
   "id": "ece3d01f",
   "metadata": {},
   "outputs": [],
   "source": [
    "def getModel(input_shape):\n",
    "    inputs = tf.keras.Input(shape=input_shape)\n",
    "    x = tf.keras.layers.Conv2D(8,4,strides=(2, 2),activation='relu')(inputs)\n",
    "    x = tf.keras.layers.Conv2D(16,2,strides=(2, 2),activation='relu')(x)\n",
    "    x = tf.keras.layers.Conv2D(32,2,strides=(1, 1),activation='relu')(x)\n",
    "    x = tf.keras.layers.Flatten()(x)\n",
    "    yh = tf.keras.layers.Dense(10, activation='softmax')(x)\n",
    "    model = tf.keras.Model(inputs, yh)\n",
    "    return model "
   ]
  },
  {
   "cell_type": "markdown",
   "id": "31baebf2",
   "metadata": {},
   "source": [
    "## Mixup "
   ]
  },
  {
   "cell_type": "markdown",
   "id": "c394d586",
   "metadata": {},
   "source": [
    "$ \\tilde{x} = \\lambda x_i + (1-\\lambda ) x_j $ <br>\n",
    "$ \\tilde{y} = \\lambda y_i + (1-\\lambda ) y_j$"
   ]
  },
  {
   "cell_type": "markdown",
   "id": "991ecf62",
   "metadata": {},
   "source": [
    "Use a beta distruibtuion to sample $\\lambda$ <br>\n",
    "Beta: $f(x;a,b)=x^{\\alpha - 1} (1-x)^{\\beta -1}$ "
   ]
  },
  {
   "cell_type": "code",
   "execution_count": 7,
   "id": "7edfe735",
   "metadata": {},
   "outputs": [],
   "source": [
    "def betaPDF(x,alpha,beta):\n",
    "    return x**(alpha-1)*(1-x)**(beta-1)"
   ]
  },
  {
   "cell_type": "code",
   "execution_count": 8,
   "id": "8922e113",
   "metadata": {},
   "outputs": [
    {
     "name": "stderr",
     "output_type": "stream",
     "text": [
      "/Users/rick/opt/anaconda3/envs/tfp_env/lib/python3.6/site-packages/ipykernel_launcher.py:2: RuntimeWarning: divide by zero encountered in power\n",
      "  \n"
     ]
    },
    {
     "data": {
      "text/plain": [
       "[<matplotlib.lines.Line2D at 0x7f89ca9af0b8>]"
      ]
     },
     "execution_count": 8,
     "metadata": {},
     "output_type": "execute_result"
    },
    {
     "data": {
      "image/png": "[encoded data removed]",
      "text/plain": [
       "<Figure size 432x288 with 1 Axes>"
      ]
     },
     "metadata": {
      "needs_background": "light"
     },
     "output_type": "display_data"
    }
   ],
   "source": [
    "ALPHA = 0.5\n",
    "BETA = 0.5\n",
    "\n",
    "x = np.linspace(0,1,100)\n",
    "y = betaPDF(x,ALPHA,BETA)\n",
    "plt.plot(x,y)"
   ]
  },
  {
   "cell_type": "markdown",
   "id": "9994a850",
   "metadata": {},
   "source": [
    "## Train base model "
   ]
  },
  {
   "cell_type": "code",
   "execution_count": 9,
   "id": "7fe1d47c",
   "metadata": {},
   "outputs": [
    {
     "name": "stdout",
     "output_type": "stream",
     "text": [
      "Model: \"model\"\n",
      "_________________________________________________________________\n",
      "Layer (type)                 Output Shape              Param #   \n",
      "=================================================================\n",
      "input_1 (InputLayer)         [(None, 28, 28, 1)]       0         \n",
      "_________________________________________________________________\n",
      "conv2d (Conv2D)              (None, 13, 13, 8)         136       \n",
      "_________________________________________________________________\n",
      "conv2d_1 (Conv2D)            (None, 6, 6, 16)          528       \n",
      "_________________________________________________________________\n",
      "conv2d_2 (Conv2D)            (None, 5, 5, 32)          2080      \n",
      "_________________________________________________________________\n",
      "flatten (Flatten)            (None, 800)               0         \n",
      "_________________________________________________________________\n",
      "dense (Dense)                (None, 10)                8010      \n",
      "=================================================================\n",
      "Total params: 10,754\n",
      "Trainable params: 10,754\n",
      "Non-trainable params: 0\n",
      "_________________________________________________________________\n",
      "None\n"
     ]
    }
   ],
   "source": [
    "model = getModel((28,28,1))\n",
    "print(model.summary())"
   ]
  },
  {
   "cell_type": "code",
   "execution_count": 10,
   "id": "452d5d67",
   "metadata": {},
   "outputs": [
    {
     "name": "stdout",
     "output_type": "stream",
     "text": [
      "\n",
      "Start of epoch 0\n",
      "Validation acc: 0.8928\n",
      "\n",
      "Start of epoch 1\n",
      "Validation acc: 0.9111\n",
      "\n",
      "Start of epoch 2\n",
      "Validation acc: 0.9227\n",
      "\n",
      "Start of epoch 3\n",
      "Validation acc: 0.9340\n",
      "\n",
      "Start of epoch 4\n",
      "Validation acc: 0.9432\n",
      "\n",
      "Start of epoch 5\n",
      "Validation acc: 0.9515\n",
      "\n",
      "Start of epoch 6\n",
      "Validation acc: 0.9557\n",
      "\n",
      "Start of epoch 7\n",
      "Validation acc: 0.9597\n",
      "\n",
      "Start of epoch 8\n",
      "Validation acc: 0.9632\n",
      "\n",
      "Start of epoch 9\n",
      "Validation acc: 0.9667\n",
      "\n",
      "Start of epoch 10\n",
      "Validation acc: 0.9676\n",
      "\n",
      "Start of epoch 11\n",
      "Validation acc: 0.9702\n",
      "\n",
      "Start of epoch 12\n",
      "Validation acc: 0.9721\n",
      "\n",
      "Start of epoch 13\n",
      "Validation acc: 0.9735\n",
      "\n",
      "Start of epoch 14\n",
      "Validation acc: 0.9745\n"
     ]
    }
   ],
   "source": [
    "optimizer = keras.optimizers.Adam(learning_rate=1e-4)\n",
    "loss_fn = keras.losses.CategoricalCrossentropy()\n",
    "val_acc_metric = keras.metrics.Accuracy()\n",
    "\n",
    "EPOCHS = 15\n",
    "for epoch in range(EPOCHS):\n",
    "    print(\"\\nStart of epoch %d\" % (epoch,))\n",
    "    # Iterate over the batches of the dataset.\n",
    "    for step, (x_batch_train, y_batch_train) in enumerate(train_dataset):\n",
    "\n",
    "        with tf.GradientTape() as tape:\n",
    "            yh = model(x_batch_train, training=True)  # Logits for this minibatch\n",
    "\n",
    "            # Compute the loss value for this minibatch.\n",
    "            loss_value = loss_fn(y_batch_train, yh)\n",
    "\n",
    "        grads = tape.gradient(loss_value, model.trainable_weights)\n",
    "        optimizer.apply_gradients(zip(grads, model.trainable_weights))\n",
    "\n",
    "    # Run a validation loop at the end of each epoch.\n",
    "    for x_batch_val, y_batch_val in val_dataset:\n",
    "        yh = model(x_batch_val, training=False)\n",
    "        val_acc_metric.update_state(np.argmax(y_batch_val,axis=-1), np.argmax(yh,axis=-1))\n",
    "    val_acc = val_acc_metric.result()\n",
    "    val_acc_metric.reset_states()\n",
    "    print(\"Validation acc: %.4f\" % (float(val_acc),))"
   ]
  },
  {
   "cell_type": "markdown",
   "id": "30df7a4a",
   "metadata": {},
   "source": [
    "## Train model with mixup"
   ]
  },
  {
   "cell_type": "code",
   "execution_count": 11,
   "id": "0c40102c",
   "metadata": {},
   "outputs": [
    {
     "name": "stdout",
     "output_type": "stream",
     "text": [
      "Model: \"model_1\"\n",
      "_________________________________________________________________\n",
      "Layer (type)                 Output Shape              Param #   \n",
      "=================================================================\n",
      "input_2 (InputLayer)         [(None, 28, 28, 1)]       0         \n",
      "_________________________________________________________________\n",
      "conv2d_3 (Conv2D)            (None, 13, 13, 8)         136       \n",
      "_________________________________________________________________\n",
      "conv2d_4 (Conv2D)            (None, 6, 6, 16)          528       \n",
      "_________________________________________________________________\n",
      "conv2d_5 (Conv2D)            (None, 5, 5, 32)          2080      \n",
      "_________________________________________________________________\n",
      "flatten_1 (Flatten)          (None, 800)               0         \n",
      "_________________________________________________________________\n",
      "dense_1 (Dense)              (None, 10)                8010      \n",
      "=================================================================\n",
      "Total params: 10,754\n",
      "Trainable params: 10,754\n",
      "Non-trainable params: 0\n",
      "_________________________________________________________________\n",
      "None\n"
     ]
    }
   ],
   "source": [
    "model_mixup = getModel((28,28,1))\n",
    "print(model_mixup.summary())"
   ]
  },
  {
   "cell_type": "code",
   "execution_count": 12,
   "id": "964b4c9f",
   "metadata": {},
   "outputs": [
    {
     "name": "stdout",
     "output_type": "stream",
     "text": [
      "\n",
      "Start of epoch 0\n",
      "Validation acc: 0.8721\n",
      "\n",
      "Start of epoch 1\n",
      "Validation acc: 0.8950\n",
      "\n",
      "Start of epoch 2\n",
      "Validation acc: 0.9086\n",
      "\n",
      "Start of epoch 3\n",
      "Validation acc: 0.9208\n",
      "\n",
      "Start of epoch 4\n",
      "Validation acc: 0.9283\n",
      "\n",
      "Start of epoch 5\n",
      "Validation acc: 0.9353\n",
      "\n",
      "Start of epoch 6\n",
      "Validation acc: 0.9428\n",
      "\n",
      "Start of epoch 7\n",
      "Validation acc: 0.9482\n",
      "\n",
      "Start of epoch 8\n",
      "Validation acc: 0.9513\n",
      "\n",
      "Start of epoch 9\n",
      "Validation acc: 0.9530\n",
      "\n",
      "Start of epoch 10\n",
      "Validation acc: 0.9573\n",
      "\n",
      "Start of epoch 11\n",
      "Validation acc: 0.9588\n",
      "\n",
      "Start of epoch 12\n",
      "Validation acc: 0.9598\n",
      "\n",
      "Start of epoch 13\n",
      "Validation acc: 0.9613\n",
      "\n",
      "Start of epoch 14\n",
      "Validation acc: 0.9603\n"
     ]
    }
   ],
   "source": [
    "optimizer = keras.optimizers.Adam(learning_rate=1e-4)\n",
    "loss_fn = keras.losses.CategoricalCrossentropy()\n",
    "val_acc_metric = keras.metrics.Accuracy()\n",
    "\n",
    "EPOCHS = 15\n",
    "for epoch in range(EPOCHS):\n",
    "    print(\"\\nStart of epoch %d\" % (epoch,))\n",
    "    # Iterate over the batches of the dataset.\n",
    "    for step, (x_batch_train, y_batch_train) in enumerate(train_dataset):\n",
    "        x_batch_train, y_batch_train = x_batch_train.numpy(), y_batch_train.numpy()\n",
    "        beta_values = np.random.beta(.5,.5,1)\n",
    "        x_batch_train_s, y_batch_train_s = shuffle(x_batch_train, y_batch_train)\n",
    "        x_batch_train = x_batch_train*beta_values+(1-beta_values)*x_batch_train_s\n",
    "        y_batch_train = y_batch_train*beta_values + (1-beta_values)*y_batch_train_s\n",
    "        \n",
    "        with tf.GradientTape() as tape:\n",
    "            yh = model_mixup(x_batch_train, training=True)  # Logits for this minibatch\n",
    "\n",
    "            # Compute the loss value for this minibatch.\n",
    "            loss_value = loss_fn(y_batch_train, yh)\n",
    "\n",
    "        grads = tape.gradient(loss_value, model_mixup.trainable_weights)\n",
    "        optimizer.apply_gradients(zip(grads, model_mixup.trainable_weights))\n",
    "\n",
    "    # Run a validation loop at the end of each epoch.\n",
    "    for x_batch_val, y_batch_val in val_dataset:\n",
    "        yh = model_mixup(x_batch_val, training=False)\n",
    "        val_acc_metric.update_state(np.argmax(y_batch_val,axis=-1), np.argmax(yh,axis=-1))\n",
    "    val_acc = val_acc_metric.result()\n",
    "    val_acc_metric.reset_states()\n",
    "    print(\"Validation acc: %.4f\" % (float(val_acc),))"
   ]
  },
  {
   "cell_type": "markdown",
   "id": "0251b6e2",
   "metadata": {},
   "source": [
    "## Compare model on OOD"
   ]
  },
  {
   "cell_type": "code",
   "execution_count": 13,
   "id": "3368ff4f",
   "metadata": {},
   "outputs": [],
   "source": [
    "def NLL(y_pred,y_true):\n",
    "    nll = -1*tf.math.reduce_sum(y_true*tf.math.log(y_pred),axis=-1)\n",
    "    return tf.math.reduce_mean(nll)\n",
    "\n",
    "def brier_score(labels, probs=None, logits=None):\n",
    "    \"\"\"Compute elementwise Brier score.\n",
    "      Args:\n",
    "        labels: Tensor of integer labels shape [N1, N2, ...]\n",
    "        probs: Tensor of categorical probabilities of shape [N1, N2, ..., M].\n",
    "        logits: If `probs` is None, class probabilities are computed as a softmax\n",
    "          over these logits, otherwise, this argument is ignored.\n",
    "      Returns:\n",
    "        Tensor of shape [N1, N2, ...] consisting of Brier score contribution from\n",
    "        each element. The full-dataset Brier score is an average of these values.\n",
    "    \"\"\"\n",
    "    assert (probs is None) != (logits is None)\n",
    "    if probs is None:\n",
    "        probs = scipy.special.softmax(logits, axis=-1)\n",
    "    nlabels = probs.shape[-1]\n",
    "    flat_probs = probs.reshape([-1, nlabels])\n",
    "    flat_labels = labels.reshape([len(flat_probs)])\n",
    "\n",
    "    plabel = flat_probs[np.arange(len(flat_labels)), flat_labels]\n",
    "    out = np.square(flat_probs).sum(axis=-1) - 2 * plabel\n",
    "    return np.mean(out.reshape(labels.shape))\n",
    "\n",
    "def expectedCalibrationError(y_pred,y_true,bin_count=100):\n",
    "    ece = ECE(bin_count)\n",
    "    ece_value = ece.measure(y_pred,y_true)    \n",
    "    return ece_value\n",
    "\n",
    "def maximumCalibrationError(y_pred,y_true,bin_count=100):\n",
    "    mce = MCE(bin_count)\n",
    "    mce_value = mce.measure(y_pred,y_true)\n",
    "    return mce_value"
   ]
  },
  {
   "cell_type": "code",
   "execution_count": 14,
   "id": "de5117e1",
   "metadata": {},
   "outputs": [
    {
     "name": "stdout",
     "output_type": "stream",
     "text": [
      "\n",
      " Accuracy\n",
      "Acc: 0.9761\n",
      "Acc mixup: 0.9662\n",
      "\n",
      " Maximum Calibration Error\n",
      "MCE: 0.7157498002052307\n",
      "MCE mixup: 0.765778087079525\n",
      "\n",
      " Expected Calibration Error\n",
      "ECE: 0.009399781829118721\n",
      "ECE mixup: 0.06699047683924438\n",
      "\n",
      " Brier Score\n",
      "BS: -0.9631602764129639\n",
      "BS mixup: -0.9366986155509949\n",
      "\n",
      " Negative Log Likelihood\n",
      "NLL: 0.07977009564638138\n",
      "NLL mixup: 0.1640283465385437\n"
     ]
    }
   ],
   "source": [
    "yh = model(X_test).numpy()\n",
    "yh_mixup = model_mixup(X_test).numpy()\n",
    "\n",
    "##############################\n",
    "\n",
    "print('\\n Accuracy')\n",
    "test_acc = accuracy_score(np.argmax(y_test,axis=-1), np.argmax(yh,axis=-1))\n",
    "test_acc_mixup = accuracy_score(np.argmax(y_test,axis=-1), np.argmax(yh_mixup,axis=-1))\n",
    "print(\"Acc: {}\".format(np.sum(test_acc)))\n",
    "print(\"Acc mixup: {}\".format(np.sum(test_acc_mixup)))\n",
    "\n",
    "##############################\n",
    "\n",
    "print('\\n Maximum Calibration Error')\n",
    "mce_value = maximumCalibrationError(yh,y_test)\n",
    "mce_value_mixup = maximumCalibrationError(yh_mixup,y_test)\n",
    "print(\"MCE: {}\".format(mce_value))\n",
    "print(\"MCE mixup: {}\".format(mce_value_mixup))\n",
    "##############################\n",
    "\n",
    "print('\\n Expected Calibration Error')\n",
    "ece_value = expectedCalibrationError(yh,y_test)\n",
    "ece_value_mixup = expectedCalibrationError(yh_mixup,y_test)\n",
    "print(\"ECE: {}\".format(ece_value))\n",
    "print(\"ECE mixup: {}\".format(ece_value_mixup))\n",
    "\n",
    "##############################\n",
    "\n",
    "bs_value = brier_score(np.argmax(y_test,axis=-1),probs=yh)\n",
    "bs_value_mixup = brier_score(np.argmax(y_test,axis=-1),probs=yh_mixup)\n",
    "print('\\n Brier Score')\n",
    "print(\"BS: {}\".format(bs_value))\n",
    "print(\"BS mixup: {}\".format(bs_value_mixup))\n",
    "\n",
    "##############################\n",
    "\n",
    "nll_value = NLL(yh,y_test)\n",
    "nll_value_mixup = NLL(yh_mixup,y_test)\n",
    "print(\"\\n Negative Log Likelihood\")\n",
    "print(\"NLL: {}\".format(nll_value))\n",
    "print(\"NLL mixup: {}\".format(nll_value_mixup))\n"
   ]
  },
  {
   "cell_type": "code",
   "execution_count": 15,
   "id": "75fb2c9d",
   "metadata": {},
   "outputs": [],
   "source": [
    "def rotateTest(X,y_test,model_A,model_B):\n",
    "    rotate_values = [0,15,30,45,60,75,90,105,120,135,150,165,180]\n",
    "    acc_values, bs_values, ece_values, mce_values = [], [], [], []\n",
    "    for r in rotate_values:\n",
    "        X_aug = np.array([np.array(Image.fromarray(np.uint8(X[i,:,:,0]*255)).rotate(r))/255 for i in range(X.shape[0])])\n",
    "                \n",
    "        yh_A_mean = model_A(X_aug)\n",
    "        yh_B_mean = model_B(X_aug)\n",
    "\n",
    "        yh_A_mean = yh_A_mean.numpy()\n",
    "        yh_B_mean = yh_B_mean.numpy()\n",
    "        \n",
    "        acc_A = accuracy_score(np.argmax(y_test,axis=-1), np.argmax(yh_A_mean,axis=-1))\n",
    "        acc_B = accuracy_score(np.argmax(y_test,axis=-1), np.argmax(yh_B_mean,axis=-1))\n",
    "        acc_values.append([acc_A,acc_B])\n",
    "        \n",
    "        bs_value_A= brier_score(np.argmax(y_test,axis=-1),probs=yh_A_mean)\n",
    "        bs_value_B = brier_score(np.argmax(y_test,axis=-1),probs=yh_B_mean)\n",
    "        bs_values.append([bs_value_A,bs_value_B])\n",
    "        \n",
    "        ece_value_A = expectedCalibrationError(yh_A_mean,y_test)\n",
    "        ece_value_B = expectedCalibrationError(yh_B_mean,y_test)\n",
    "        ece_values.append([ece_value_A,ece_value_B])\n",
    "        \n",
    "        mce_value_A = maximumCalibrationError(yh_A_mean,y_test)\n",
    "        mce_value_B = maximumCalibrationError(yh_B_mean,y_test)\n",
    "        mce_values.append([mce_value_A,mce_value_B])\n",
    "        \n",
    "    return acc_values, bs_values, ece_values, mce_values\n",
    "        "
   ]
  },
  {
   "cell_type": "code",
   "execution_count": 16,
   "id": "b1e43588",
   "metadata": {},
   "outputs": [],
   "source": [
    "def plotRotateTest(acc_values,bs_values,ece_values,mce_values):\n",
    "    rotate_values = ['test',15,30,45,60,75,90,105,120,135,150,165,180]\n",
    "    \n",
    "    acc_A = [i[0] for i in acc_values]\n",
    "    acc_B = [i[1] for i in acc_values]\n",
    "\n",
    "    bs_A = [i[0] for i in bs_values]\n",
    "    bs_B = [i[1] for i in bs_values]\n",
    "\n",
    "    ece_A = [i[0] for i in ece_values]\n",
    "    ece_B = [i[1] for i in ece_values]\n",
    "    \n",
    "    mce_A = [i[0] for i in mce_values]\n",
    "    mce_B = [i[1] for i in mce_values]\n",
    "    \n",
    "    print('\\n Mean Brier Score')\n",
    "    print('Plain: {}'.format(np.mean(bs_A)))\n",
    "    print('Mixup: {}'.format(np.mean(bs_B)))\n",
    "    \n",
    "    print('\\n Mean ECE Score')\n",
    "    print('Plain: {}'.format(np.mean(ece_A)))\n",
    "    print('Mixup: {}'.format(np.mean(ece_B)))\n",
    "    \n",
    "    print('\\n Mean MCE Score')\n",
    "    print('Plain: {}'.format(np.mean(mce_A)))\n",
    "    print('Mixup: {}'.format(np.mean(mce_B)))\n",
    "\n",
    "    x_ticks = range(len(rotate_values))\n",
    "    \n",
    "    fig, axs = plt.subplots(4,figsize=(8, 6), sharex=True)\n",
    "    fig.suptitle('Rotate Test',fontsize=32)\n",
    "    axs[0].plot(rotate_values, acc_A, '+',color='r',linestyle='--',label='Plain')\n",
    "    axs[0].plot(rotate_values, acc_B, '+',color='b',linestyle='--',label='Mixup')\n",
    "    axs[0].set_ylabel('Accuracy',fontsize=12)\n",
    "    axs[0].set_ylim([0, 1])\n",
    "    axs[0].legend(handletextpad=0,loc='upper right')\n",
    "    \n",
    "    axs[1].plot(rotate_values, bs_A,'+', color='r',linestyle='--')\n",
    "    axs[1].plot(rotate_values, bs_B,'+' ,color='b',linestyle='--')\n",
    "    axs[1].set_ylabel('Brier Score',fontsize=12)\n",
    "    axs[1].set_ylim([-1, 1])\n",
    "    \n",
    "    axs[2].plot(rotate_values, ece_A,'+', color='r',linestyle='--')\n",
    "    axs[2].plot(rotate_values, ece_B,'+' ,color='b',linestyle='--')\n",
    "    axs[2].set_ylabel('ECE',fontsize=12)\n",
    "    axs[2].set_ylim([0, 1]) \n",
    "     \n",
    "    axs[3].plot(rotate_values, mce_A,'+', color='r',linestyle='--')\n",
    "    axs[3].plot(rotate_values, mce_B,'+' ,color='b',linestyle='--')\n",
    "    axs[3].set_ylabel('MCE',fontsize=12)\n",
    "    axs[3].set_ylim([0, 1.1])     \n",
    "    axs[3].set_xlabel('Degrees',fontsize=12)"
   ]
  },
  {
   "cell_type": "code",
   "execution_count": 17,
   "id": "0ee13352",
   "metadata": {},
   "outputs": [
    {
     "name": "stdout",
     "output_type": "stream",
     "text": [
      "\n",
      " Mean Brier Score\n",
      "Plain: -0.03919563814997673\n",
      "Mixup: -0.12681753933429718\n",
      "\n",
      " Mean ECE Score\n",
      "Plain: 0.4120391239962898\n",
      "Mixup: 0.30955962389501246\n",
      "\n",
      " Mean MCE Score\n",
      "Plain: 0.7218478942667976\n",
      "Mixup: 0.5835981355413926\n"
     ]
    },
    {
     "data": {
      "image/png": "[encoded data removed]",
      "text/plain": [
       "<Figure size 576x432 with 4 Axes>"
      ]
     },
     "metadata": {
      "needs_background": "light"
     },
     "output_type": "display_data"
    }
   ],
   "source": [
    "acc_values,bs_values,ece_values, mce_values = rotateTest(X_test,y_test,model,model_mixup)\n",
    "plotRotateTest(acc_values,bs_values,ece_values,mce_values)"
   ]
  },
  {
   "cell_type": "code",
   "execution_count": null,
   "id": "2701ff19",
   "metadata": {},
   "outputs": [],
   "source": []
  },
  {
   "cell_type": "code",
   "execution_count": null,
   "id": "b7a05350",
   "metadata": {},
   "outputs": [],
   "source": []
  },
  {
   "cell_type": "code",
   "execution_count": null,
   "id": "8e3e8f1d",
   "metadata": {},
   "outputs": [],
   "source": []
  },
  {
   "cell_type": "code",
   "execution_count": null,
   "id": "e919c371",
   "metadata": {},
   "outputs": [],
   "source": []
  }
 ],
 "metadata": {
  "kernelspec": {
   "display_name": "tfp-env",
   "language": "python",
   "name": "anaconda-tfp_env"
  },
  "language_info": {
   "codemirror_mode": {
    "name": "ipython",
    "version": 3
   },
   "file_extension": ".py",
   "mimetype": "text/x-python",
   "name": "python",
   "nbconvert_exporter": "python",
   "pygments_lexer": "ipython3",
   "version": "3.6.12"
  }
 },
 "nbformat": 4,
 "nbformat_minor": 5
}
