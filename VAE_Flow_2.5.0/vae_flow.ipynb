{
 "cells": [
  {
   "cell_type": "markdown",
   "id": "43df867b",
   "metadata": {},
   "source": [
    "# Variational Inference with Normalizing Flows\n",
    "[Paper Link](https://arxiv.org/abs/1505.05770#:~:text=Our%20approximations%20are%20distributions%20constructed,level%20of%20complexity%20is%20attained.)"
   ]
  },
  {
   "cell_type": "markdown",
   "id": "d439d5be",
   "metadata": {},
   "source": [
    "# TO-DO\n",
    "* Compare to https://towardsdatascience.com/variational-inference-with-normalizing-flows-on-mnist-9258bbcf8810"
   ]
  },
  {
   "cell_type": "markdown",
   "id": "ec57732b",
   "metadata": {},
   "source": [
    "## Import moduels "
   ]
  },
  {
   "cell_type": "code",
   "execution_count": 1,
   "id": "75ba5f14",
   "metadata": {},
   "outputs": [],
   "source": [
    "import os \n",
    "import numpy as np \n",
    "from sklearn.model_selection import train_test_split\n",
    "\n",
    "import tensorflow as tf\n",
    "from tensorflow import keras\n",
    "from tensorflow.keras import layers\n",
    "\n",
    "import matplotlib.pyplot as plt\n",
    "import seaborn as sns\n",
    "sns.set_style(\"whitegrid\")\n",
    "%matplotlib inline"
   ]
  },
  {
   "cell_type": "markdown",
   "id": "665dc888",
   "metadata": {},
   "source": [
    "## Load data "
   ]
  },
  {
   "cell_type": "code",
   "execution_count": 2,
   "id": "7e8006c3",
   "metadata": {},
   "outputs": [
    {
     "name": "stdout",
     "output_type": "stream",
     "text": [
      "X_train shape: (60000, 784)\n",
      "X_test shape: (10000, 784)\n"
     ]
    }
   ],
   "source": [
    "(X_train, _), (X_test, _) = keras.datasets.mnist.load_data()\n",
    "\n",
    "# Scale data \n",
    "X_train, X_test = X_train/255, X_test/255\n",
    "\n",
    "# Flatten data \n",
    "X_train, X_test = X_train.reshape(60000,784), X_test.reshape(10000,784)\n",
    "\n",
    "print(\"X_train shape: {}\".format(X_train.shape))\n",
    "print(\"X_test shape: {}\".format(X_test.shape))"
   ]
  },
  {
   "cell_type": "code",
   "execution_count": 3,
   "id": "7f03f52a",
   "metadata": {},
   "outputs": [
    {
     "data": {
      "image/png": "[encoded data removed]",
      "text/plain": [
       "<Figure size 576x576 with 10 Axes>"
      ]
     },
     "metadata": {
      "needs_background": "light"
     },
     "output_type": "display_data"
    }
   ],
   "source": [
    "w=10\n",
    "h=10\n",
    "fig=plt.figure(figsize=(8, 8))\n",
    "columns = 5\n",
    "rows = 2\n",
    "j = 0\n",
    "for i in range(1, columns*rows +1):\n",
    "    fig.add_subplot(rows, columns, i).set_axis_off()\n",
    "    plt.imshow(X_train[j,:].reshape(28,28),cmap='gray')\n",
    "    plt.tight_layout()\n",
    "    j += 1\n",
    "plt.tight_layout()\n",
    "plt.show()"
   ]
  },
  {
   "cell_type": "markdown",
   "id": "bd375f30",
   "metadata": {},
   "source": [
    "## Model "
   ]
  },
  {
   "cell_type": "markdown",
   "id": "c2748e28",
   "metadata": {},
   "source": [
    "### Planar Flows\n",
    "$ f(z) = z + u h(w^Tz + b) $"
   ]
  },
  {
   "cell_type": "code",
   "execution_count": 4,
   "id": "f7bc5002",
   "metadata": {},
   "outputs": [],
   "source": [
    "class PlanarFlow(layers.Layer):\n",
    "    def __init__(self,input_dim,activation = 'tanh'):\n",
    "        super().__init__()\n",
    "        self.input_dim = input_dim\n",
    "        self.activation, self.deriv_activation = self.getActivation(activation)\n",
    "\n",
    "    def getActivation(self,activation):\n",
    "        if activation == 'elu':\n",
    "            f = tf.nn.elu\n",
    "            df = lambda x: tf.ones_like(x,dtype=tf.float32)* tf.cast((x >= 0),tf.float32)\\\n",
    "                                        + tf.math.exp(x) * tf.cast((x < 0),tf.float32)\n",
    "            return f, df\n",
    "        elif activation == 'tanh':\n",
    "            f = tf.math.tanh\n",
    "            df = lambda x: 1-tf.math.tanh(x)**2\n",
    "            return f, df\n",
    "\n",
    "    def build(self,input_dim):\n",
    "        w_init = tf.random_normal_initializer()\n",
    "        self.w = tf.Variable(\n",
    "            initial_value=w_init(shape=(1,self.input_dim), dtype=\"float32\"),\n",
    "            trainable=True,\n",
    "        )\n",
    "        \n",
    "        u_init = tf.random_normal_initializer()\n",
    "        self.u = tf.Variable(\n",
    "            initial_value=u_init(shape=(1,self.input_dim), dtype=\"float32\"),\n",
    "            trainable=True,\n",
    "        )\n",
    "        \n",
    "        b_init = tf.random_normal_initializer()\n",
    "        self.b = tf.Variable(\n",
    "            initial_value=b_init(shape=(1,1), dtype=\"float32\"), trainable=True\n",
    "        )        \n",
    "\n",
    "    def call(self,z):\n",
    "        lin = tf.matmul(z,tf.transpose(self.w)) +self.b\n",
    "        f = z + self.u*self.activation(lin)\n",
    "        \n",
    "        # WORKING HERE\n",
    "        #test = self.deriv_activation(lin)\n",
    "        #print(test)\n",
    "        \n",
    "        phi = self.deriv_activation(lin)*self.w\n",
    "        \n",
    "        log_det = tf.math.log(tf.math.abs(1+tf.matmul(phi,tf.transpose(self.u)) ))\n",
    "        return phi, log_det"
   ]
  },
  {
   "cell_type": "markdown",
   "id": "041ac4ca",
   "metadata": {},
   "source": [
    "### Radial Flows\n",
    "$ f(z) = z + \\beta h (\\alpha , r )(z - z_0 ) $"
   ]
  },
  {
   "cell_type": "code",
   "execution_count": 5,
   "id": "107bf4c0",
   "metadata": {},
   "outputs": [],
   "source": [
    "class RadialFlow(layers.Layer):\n",
    "    def __init__(self,input_dim,activation = 'tanh'):\n",
    "        super().__init__()\n",
    "        self.input_dim = input_dim\n",
    "        self.activation, self.deriv_activation = self.getActivation(activation)\n",
    "\n",
    "    def getActivation(self,activation):\n",
    "        if activation == 'elu':\n",
    "            f = tf.nn.elu\n",
    "            df = lambda x: tf.ones_like(x,dtype=tf.float32)* tf.cast((x >= 0),tf.float32)\\\n",
    "                                        + tf.math.exp(x) * tf.cast((x < 0),tf.float32)\n",
    "            return f, df\n",
    "        elif activation == 'tanh':\n",
    "            f = tf.math.tanh\n",
    "            df = lambda x: 1-tf.math.tanh(x)**2\n",
    "            return f, df\n",
    "\n",
    "    def build(self,input_dim):\n",
    "        z0_init = tf.random_normal_initializer()\n",
    "        self.z0 = tf.Variable(\n",
    "            initial_value=z0_init(shape=(1,self.input_dim), dtype=\"float32\"),\n",
    "            trainable=True,\n",
    "        )\n",
    "        \n",
    "        log_alpha_init = tf.random_normal_initializer()\n",
    "        self.log_alpha = tf.Variable(\n",
    "            initial_value=log_alpha_init(shape=(1,1), dtype=\"float32\"), trainable=True\n",
    "        )     \n",
    "        \n",
    "        beta_init = tf.random_normal_initializer()\n",
    "        self.beta = tf.Variable(\n",
    "            initial_value=beta_init(shape=(1,1), dtype=\"float32\"), trainable=True\n",
    "        )        \n",
    "\n",
    "    def call(self,z):\n",
    "        z_sub = z-self.z0\n",
    "        alpha = tf.math.exp(self.log_alpha)\n",
    "        r = tf.norm(z_sub,axis=1)\n",
    "        h = tf.transpose(1 / (alpha + r))\n",
    "        f = z + self.beta * h * z_sub\n",
    "        \n",
    "        log_det = (self.input_dim-1)*tf.math.log(1+self.beta*h)+tf.math.log(1+self.beta*h\\\n",
    "                                          +self.beta - tf.transpose(self.beta*r/(alpha+r)**2))\n",
    "        return f, log_det\n"
   ]
  },
  {
   "cell_type": "markdown",
   "id": "f4dda75d",
   "metadata": {},
   "source": [
    "### VAE_Flow"
   ]
  },
  {
   "cell_type": "code",
   "execution_count": 6,
   "id": "1ee87215",
   "metadata": {},
   "outputs": [],
   "source": [
    "class Sampling(layers.Layer):\n",
    "    def call(self, inputs):\n",
    "        mean, log_var = inputs\n",
    "        return tf.random.normal(tf.shape(log_var)) * tf.math.exp(log_var+1e-6) + mean\n",
    "\n",
    "class VaeFlow(keras.Model):\n",
    "    def __init__(self,input_dim,codings_size,n_flow_steps,flow_type='planar',**kwargs):\n",
    "        super(VaeFlow, self).__init__(**kwargs)\n",
    "        self.EPS = 1e-6\n",
    "        self.input_dim = input_dim \n",
    "        \n",
    "        # Flow parameters \n",
    "        self.codings_size = codings_size\n",
    "        self.n_flow_steps = n_flow_steps \n",
    "        if flow_type == 'planar':\n",
    "            self.flow_type = PlanarFlow\n",
    "        elif flow_type == 'radial':\n",
    "            self.flow_type = RadialFlow\n",
    "        \n",
    "        # Model parts\n",
    "        self.encoder = self.getEncoder()\n",
    "        self.flow_steps = [self.flow_type(self.codings_size,'elu') for i in range(self.n_flow_steps)]\n",
    "        self.decoder = self.getDecoder()\n",
    "        \n",
    "        # Loss functions \n",
    "        self.bce = tf.keras.losses.BinaryCrossentropy()\n",
    "        self.loss_tracker = keras.metrics.Mean(name=\"loss\")\n",
    "        \n",
    "    @property\n",
    "    def metrics(self):\n",
    "        \"\"\"List of the model's metrics.\n",
    "        We make sure the loss tracker is listed as part of `model.metrics`\n",
    "        so that `fit()` and `evaluate()` are able to `reset()` the loss tracker\n",
    "        at the start of each epoch and at the start of an `evaluate()` call.\n",
    "        \"\"\"\n",
    "        return [self.loss_tracker]\n",
    "        \n",
    "    def getEncoder(self):\n",
    "        inputs = keras.layers.Input(shape=(self.input_dim))\n",
    "        x = layers.Dense(int(self.input_dim/1.5),activation=\"selu\")(inputs)\n",
    "        x = layers.Dense(int(self.input_dim/2),activation=\"selu\")(x)\n",
    "        x = layers.Dense(int(self.input_dim/3),activation=\"selu\")(x)        \n",
    "        codings_mean = keras.layers.Dense(self.codings_size)(x)\n",
    "        codings_log_var = keras.layers.Dense(self.codings_size,activation=\"softplus\")(x)\n",
    "        codings = Sampling()([codings_mean, codings_log_var])\n",
    "        encoder = keras.models.Model(inputs=[inputs], outputs=[codings_mean, codings_log_var, codings])\n",
    "        return encoder\n",
    "\n",
    "    def getDecoder(self):\n",
    "        inputs = keras.layers.Input(shape=[self.codings_size])\n",
    "        x = layers.Dense(int(self.input_dim/3),activation=\"selu\")(inputs)\n",
    "        x = layers.Dense(int(self.input_dim/2),activation=\"selu\")(x)\n",
    "        x = layers.Dense(int(self.input_dim/1.5),activation=\"selu\")(x)  \n",
    "        x = keras.layers.Dense(self.input_dim, activation=\"sigmoid\")(x)\n",
    "        decoder = keras.models.Model(inputs=[inputs], outputs=[x])\n",
    "        return decoder\n",
    "    \n",
    "    def mleNormal(self,z,mean,var):\n",
    "        alpha = -.5*tf.math.log(2*np.pi)-.5*tf.math.log(var+self.EPS)-.5* tf.math.pow(((z-mean)/var),2)\n",
    "        loss = tf.math.reduce_sum(alpha,axis=-1)\n",
    "        return loss\n",
    "    \n",
    "    def mleStandardNormal(self,z):\n",
    "        alpha = -.5*tf.math.log(2*np.pi)+tf.math.pow(z,2)\n",
    "        loss = tf.math.reduce_sum(alpha,axis=-1)\n",
    "        return loss\n",
    "            \n",
    "    def reconLoss(self,X,xh):\n",
    "        recon_loss = self.bce(X,xh)\n",
    "        return recon_loss\n",
    "\n",
    "    def train_step(self, data):\n",
    "        X, _ = data\n",
    "        log_det = 0\n",
    "        \n",
    "        with tf.GradientTape() as tape:\n",
    "            # Pass through encoder\n",
    "            z_mean, z_var, z = self.encoder(X)\n",
    "            z0 = tf.identity(z)\n",
    "            \n",
    "            # Pass through flow steps \n",
    "            for step in self.flow_steps:\n",
    "                z, log_det_step = step(z)\n",
    "                #print(z,log_det)\n",
    "                log_det += log_det_step\n",
    "            \n",
    "            # Pass through decoder\n",
    "            xh = self.decoder(z)\n",
    "            \n",
    "            # MLE of z0~prior normal \n",
    "            latent_mle = self.mleNormal(z0,z_mean,z_var)\n",
    "            \n",
    "            # MLE of zK~flow output\n",
    "            flow_mle = self.mleStandardNormal(z)\n",
    "            \n",
    "            # Reconstruction loss\n",
    "            recon_loss = self.reconLoss(X,xh) \n",
    "\n",
    "            # Total loss\n",
    "            loss = -1*tf.math.reduce_mean(latent_mle-recon_loss-flow_mle-log_det,axis=-1)\n",
    "            #print(latent_mle,flow_mle,recon_loss,log_det)\n",
    "        \n",
    "            self.loss_tracker.update_state(loss)\n",
    "            \n",
    "        # Compute gradients\n",
    "        trainable_vars = self.trainable_variables\n",
    "        gradients = tape.gradient(loss, trainable_vars)\n",
    "        # Update weights\n",
    "        self.optimizer.apply_gradients(zip(gradients, trainable_vars))\n",
    "\n",
    "        return {\n",
    "            \"loss\": self.loss_tracker.result(),\n",
    "        }\n",
    "    \n",
    "    def test_step(self, data):\n",
    "        X, _ = data\n",
    "        log_det = 0\n",
    "    \n",
    "        # Pass through encoder\n",
    "        z_mean, z_var, z = self.encoder(X)\n",
    "        z0 = tf.identity(z)\n",
    "            \n",
    "        # Pass through flow steps \n",
    "        for step in self.flow_steps:\n",
    "            z, log_det_step = step(z)\n",
    "            log_det += log_det_step\n",
    "            \n",
    "        # Pass through decoder\n",
    "        xh = self.decoder(z)\n",
    "            \n",
    "        # MLE of z0~prior normal \n",
    "        latent_mle = self.mleNormal(z0,z_mean,z_var)\n",
    "            \n",
    "        # MLE of zK~flow output\n",
    "        flow_mle = self.mleStandardNormal(z)\n",
    "            \n",
    "        # Reconstruction loss\n",
    "        recon_loss = self.reconLoss(X,xh) \n",
    "\n",
    "        # Total loss\n",
    "        #print(latent_mle,flow_mle,recon_loss,log_det)\n",
    "        \n",
    "        loss = -1*tf.math.reduce_mean(latent_mle-recon_loss-flow_mle-log_det,axis=-1)\n",
    "        self.loss_tracker.update_state(loss)\n",
    "\n",
    "        return {\n",
    "            \"loss\": self.loss_tracker.result(),\n",
    "        }\n",
    "    \n",
    "    def interpolate(self, A, B):\n",
    "        # Pass through encoder\n",
    "        A_mean, A_var, a  = self.encoder(A)\n",
    "        B_mean, B_var, b  = self.encoder(B)\n",
    "        \n",
    "        # Mix encoder output \n",
    "        beta_values = np.random.beta(.5,.5,(a.get_shape()[-1]))\n",
    "        z = a*beta_values+(1-beta_values)*b\n",
    "        \n",
    "        # Pass through flow steps \n",
    "        for step in self.flow_steps:\n",
    "            z, _ = step(z)\n",
    "\n",
    "        # Pass through decoder\n",
    "        xh = self.decoder(z)\n",
    "        return xh\n",
    "    \n",
    "    def sample(self,mean=0,stddev=1):\n",
    "        z = tf.random.normal(shape=[1, self.codings_size],mean=mean, stddev=stddev)\n",
    "            \n",
    "        # Pass through flow steps \n",
    "        for step in self.flow_steps:\n",
    "            z, _ = step(z)\n",
    "\n",
    "        # Pass through decoder\n",
    "        xh = self.decoder(z)\n",
    "        return xh"
   ]
  },
  {
   "cell_type": "markdown",
   "id": "f7d7422c",
   "metadata": {},
   "source": [
    "## Fit model "
   ]
  },
  {
   "cell_type": "code",
   "execution_count": 7,
   "id": "5db75ddc",
   "metadata": {},
   "outputs": [],
   "source": [
    "INPUT_DIM = 784\n",
    "CODING_SIZE = 120\n",
    "N_FLOW_STEPS = 10"
   ]
  },
  {
   "cell_type": "code",
   "execution_count": 8,
   "id": "05d776f4",
   "metadata": {},
   "outputs": [],
   "source": [
    "lr_schedule = keras.optimizers.schedules.ExponentialDecay(\n",
    "    initial_learning_rate=1e-4,\n",
    "    decay_steps=10000,\n",
    "    decay_rate=0.9)\n",
    "opt = keras.optimizers.Adam(learning_rate=lr_schedule)\n",
    "\n",
    "model = VaeFlow(INPUT_DIM,CODING_SIZE,N_FLOW_STEPS)\n",
    "#model.compile(optimizer=opt,run_eagerly=True)\n",
    "model.compile(optimizer=opt)"
   ]
  },
  {
   "cell_type": "code",
   "execution_count": 9,
   "id": "5554de96",
   "metadata": {},
   "outputs": [
    {
     "name": "stdout",
     "output_type": "stream",
     "text": [
      "Epoch 1/30\n",
      "313/313 [==============================] - 5s 8ms/step - loss: 466.1147\n",
      "Epoch 2/30\n",
      "313/313 [==============================] - 3s 8ms/step - loss: 419.1159\n",
      "Epoch 3/30\n",
      "313/313 [==============================] - 3s 9ms/step - loss: 402.7565\n",
      "Epoch 4/30\n",
      "313/313 [==============================] - 3s 10ms/step - loss: 403.3811\n",
      "Epoch 5/30\n",
      "313/313 [==============================] - 3s 9ms/step - loss: 404.9448\n",
      "Epoch 6/30\n",
      "313/313 [==============================] - 4s 11ms/step - loss: 406.3509\n",
      "Epoch 7/30\n",
      "313/313 [==============================] - 5s 14ms/step - loss: 407.0277\n",
      "Epoch 8/30\n",
      "313/313 [==============================] - 4s 14ms/step - loss: 409.8251\n",
      "Epoch 9/30\n",
      "313/313 [==============================] - 4s 12ms/step - loss: 406.3799\n",
      "Epoch 10/30\n",
      "313/313 [==============================] - 3s 10ms/step - loss: 406.1199\n",
      "Epoch 11/30\n",
      "313/313 [==============================] - 4s 13ms/step - loss: 407.5295\n",
      "Epoch 12/30\n",
      "313/313 [==============================] - 4s 12ms/step - loss: 409.0629\n",
      "Epoch 13/30\n",
      "313/313 [==============================] - 3s 9ms/step - loss: 411.7280\n",
      "Epoch 14/30\n",
      "313/313 [==============================] - 3s 10ms/step - loss: 407.6310\n",
      "Epoch 15/30\n",
      "313/313 [==============================] - 4s 12ms/step - loss: 405.1863\n",
      "Epoch 16/30\n",
      "313/313 [==============================] - 3s 9ms/step - loss: 407.1181\n",
      "Epoch 17/30\n",
      "313/313 [==============================] - 2s 8ms/step - loss: 407.3620\n",
      "Epoch 18/30\n",
      "313/313 [==============================] - 3s 8ms/step - loss: 406.7735\n",
      "Epoch 19/30\n",
      "313/313 [==============================] - 3s 10ms/step - loss: 409.2510\n",
      "Epoch 20/30\n",
      "313/313 [==============================] - 3s 9ms/step - loss: 404.4130\n",
      "Epoch 21/30\n",
      "313/313 [==============================] - 3s 9ms/step - loss: 403.5506\n",
      "Epoch 22/30\n",
      "313/313 [==============================] - 3s 9ms/step - loss: 406.0114\n",
      "Epoch 23/30\n",
      "313/313 [==============================] - 3s 9ms/step - loss: 406.1272\n",
      "Epoch 24/30\n",
      "313/313 [==============================] - 3s 9ms/step - loss: 406.1205\n",
      "Epoch 25/30\n",
      "313/313 [==============================] - 3s 8ms/step - loss: 402.5984\n",
      "Epoch 26/30\n",
      "313/313 [==============================] - 3s 8ms/step - loss: 407.4956\n",
      "Epoch 27/30\n",
      "313/313 [==============================] - 3s 9ms/step - loss: 403.1599\n",
      "Epoch 28/30\n",
      "313/313 [==============================] - 4s 11ms/step - loss: 403.3354\n",
      "Epoch 29/30\n",
      "313/313 [==============================] - 4s 12ms/step - loss: 400.8022\n",
      "Epoch 30/30\n",
      "313/313 [==============================] - 4s 13ms/step - loss: 405.6654\n"
     ]
    }
   ],
   "source": [
    "history = model.fit(X_test, X_test, epochs=30, batch_size=32)"
   ]
  },
  {
   "cell_type": "markdown",
   "id": "da54e959",
   "metadata": {},
   "source": [
    "## Sample model "
   ]
  },
  {
   "cell_type": "markdown",
   "id": "a8d894ac",
   "metadata": {},
   "source": [
    "### Interpolate"
   ]
  },
  {
   "cell_type": "code",
   "execution_count": 10,
   "id": "772519ec",
   "metadata": {},
   "outputs": [],
   "source": [
    "A, B  = X_train[0,:], X_train[1,:]"
   ]
  },
  {
   "cell_type": "code",
   "execution_count": 11,
   "id": "7178ef61",
   "metadata": {},
   "outputs": [
    {
     "data": {
      "text/plain": [
       "<matplotlib.image.AxesImage at 0x7ff8685a3fd0>"
      ]
     },
     "execution_count": 11,
     "metadata": {},
     "output_type": "execute_result"
    },
    {
     "data": {
      "image/png": "[encoded data removed]",
      "text/plain": [
       "<Figure size 432x288 with 1 Axes>"
      ]
     },
     "metadata": {
      "needs_background": "light"
     },
     "output_type": "display_data"
    }
   ],
   "source": [
    "plt.imshow(A.reshape(28,28),cmap='gray')"
   ]
  },
  {
   "cell_type": "code",
   "execution_count": 12,
   "id": "c1cd3e10",
   "metadata": {},
   "outputs": [
    {
     "data": {
      "text/plain": [
       "<matplotlib.image.AxesImage at 0x7ff86852c278>"
      ]
     },
     "execution_count": 12,
     "metadata": {},
     "output_type": "execute_result"
    },
    {
     "data": {
      "image/png": "[encoded data removed]",
      "text/plain": [
       "<Figure size 432x288 with 1 Axes>"
      ]
     },
     "metadata": {
      "needs_background": "light"
     },
     "output_type": "display_data"
    }
   ],
   "source": [
    "plt.imshow(B.reshape(28,28),cmap='gray')"
   ]
  },
  {
   "cell_type": "code",
   "execution_count": 13,
   "id": "51fc7f6a",
   "metadata": {},
   "outputs": [
    {
     "data": {
      "text/plain": [
       "<matplotlib.image.AxesImage at 0x7ff869569748>"
      ]
     },
     "execution_count": 13,
     "metadata": {},
     "output_type": "execute_result"
    },
    {
     "data": {
      "image/png": "[encoded data removed]",
      "text/plain": [
       "<Figure size 432x288 with 1 Axes>"
      ]
     },
     "metadata": {
      "needs_background": "light"
     },
     "output_type": "display_data"
    }
   ],
   "source": [
    "mix_A_B = model.interpolate(A[np.newaxis,...],B[np.newaxis,...]).numpy()\n",
    "plt.imshow(mix_A_B.reshape(28,28),cmap='gray')"
   ]
  },
  {
   "cell_type": "markdown",
   "id": "ac88a80e",
   "metadata": {},
   "source": [
    "### Random sample "
   ]
  },
  {
   "cell_type": "code",
   "execution_count": 24,
   "id": "83fbcb00",
   "metadata": {},
   "outputs": [
    {
     "data": {
      "image/png": "[encoded data removed]",
      "text/plain": [
       "<Figure size 576x576 with 8 Axes>"
      ]
     },
     "metadata": {
      "needs_background": "light"
     },
     "output_type": "display_data"
    }
   ],
   "source": [
    "w=10\n",
    "h=10\n",
    "fig=plt.figure(figsize=(8, 8))\n",
    "columns = 4\n",
    "rows = 2\n",
    "for i in range(1, columns*rows +1):\n",
    "    fig.add_subplot(rows, columns, i)\n",
    "    img = model.sample(10,.1).numpy()\n",
    "    plt.imshow(img.reshape(28,28), cmap=\"gray\")\n",
    "plt.show()"
   ]
  },
  {
   "cell_type": "code",
   "execution_count": null,
   "id": "5895256c",
   "metadata": {},
   "outputs": [],
   "source": []
  }
 ],
 "metadata": {
  "kernelspec": {
   "display_name": "tfp-env",
   "language": "python",
   "name": "anaconda-tfp_env"
  },
  "language_info": {
   "codemirror_mode": {
    "name": "ipython",
    "version": 3
   },
   "file_extension": ".py",
   "mimetype": "text/x-python",
   "name": "python",
   "nbconvert_exporter": "python",
   "pygments_lexer": "ipython3",
   "version": "3.6.12"
  }
 },
 "nbformat": 4,
 "nbformat_minor": 5
}
