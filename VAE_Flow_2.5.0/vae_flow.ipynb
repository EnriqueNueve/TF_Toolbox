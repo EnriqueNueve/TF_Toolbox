{
 "cells": [
  {
   "cell_type": "markdown",
   "id": "43df867b",
   "metadata": {},
   "source": [
    "# Variational Inference with Normalizing Flows\n",
    "[Paper Link](https://arxiv.org/abs/1505.05770#:~:text=Our%20approximations%20are%20distributions%20constructed,level%20of%20complexity%20is%20attained.)"
   ]
  },
  {
   "cell_type": "markdown",
   "id": "ec57732b",
   "metadata": {},
   "source": [
    "## Import moduels "
   ]
  },
  {
   "cell_type": "code",
   "execution_count": 1,
   "id": "75ba5f14",
   "metadata": {},
   "outputs": [],
   "source": [
    "import os \n",
    "import numpy as np \n",
    "from sklearn.model_selection import train_test_split\n",
    "\n",
    "import tensorflow as tf\n",
    "from tensorflow import keras\n",
    "from tensorflow.keras import layers\n",
    "\n",
    "import matplotlib.pyplot as plt\n",
    "import seaborn as sns\n",
    "sns.set_style(\"whitegrid\")\n",
    "%matplotlib inline"
   ]
  },
  {
   "cell_type": "markdown",
   "id": "bd375f30",
   "metadata": {},
   "source": [
    "## Model "
   ]
  },
  {
   "cell_type": "markdown",
   "id": "c2748e28",
   "metadata": {},
   "source": [
    "### Planar Flows\n",
    "$ f(z) = z + u h(w^Tz + b) $"
   ]
  },
  {
   "cell_type": "code",
   "execution_count": 137,
   "id": "f7bc5002",
   "metadata": {},
   "outputs": [],
   "source": [
    "class PlanarFlow(layers.Layer):\n",
    "    def __init__(self,input_dim,activation = 'tanh'):\n",
    "        super().__init__()\n",
    "        self.input_dim = input_dim\n",
    "        self.activation, self.deriv_activation = self.getActivation(activation)\n",
    "\n",
    "    def getActivation(self,activation):\n",
    "        if activation == 'elu':\n",
    "            f = tf.nn.elu\n",
    "            df = lambda x: tf.ones_like(x)* (x >= 0) + tf.math.exp(x) * (x < 0)\n",
    "            return f, df\n",
    "        elif activation == 'tanh':\n",
    "            f = tf.math.tanh\n",
    "            df = lambda x: 1-tf.math.tanh(x)**2\n",
    "            return f, df\n",
    "\n",
    "    def build(self,input_dim):\n",
    "        w_init = tf.random_normal_initializer()\n",
    "        self.w = tf.Variable(\n",
    "            initial_value=w_init(shape=(1,self.input_dim), dtype=\"float32\"),\n",
    "            trainable=True,\n",
    "        )\n",
    "        \n",
    "        u_init = tf.random_normal_initializer()\n",
    "        self.u = tf.Variable(\n",
    "            initial_value=u_init(shape=(1,self.input_dim), dtype=\"float32\"),\n",
    "            trainable=True,\n",
    "        )\n",
    "        \n",
    "        b_init = tf.random_normal_initializer()\n",
    "        self.b = tf.Variable(\n",
    "            initial_value=b_init(shape=(1,1), dtype=\"float32\"), trainable=True\n",
    "        )        \n",
    "\n",
    "    def call(self,z):\n",
    "        lin = tf.matmul(z,tf.transpose(self.w)) +self.b\n",
    "        f = z + self.u*self.activation(lin)\n",
    "        phi = self.deriv_activation(lin)*self.w\n",
    "        log_det = tf.math.log(tf.math.abs(1+tf.matmul(phi,tf.transpose(self.u)) ))\n",
    "        return phi, log_det"
   ]
  },
  {
   "cell_type": "markdown",
   "id": "041ac4ca",
   "metadata": {},
   "source": [
    "### Radial Flows\n",
    "$ f(z) = z + \\beta h (\\alpha , r )(z - z_0 ) $"
   ]
  },
  {
   "cell_type": "code",
   "execution_count": 244,
   "id": "107bf4c0",
   "metadata": {},
   "outputs": [],
   "source": [
    "class RadialFlow(layers.Layer):\n",
    "    def __init__(self,input_dim,activation = 'tanh'):\n",
    "        super().__init__()\n",
    "        self.input_dim = input_dim\n",
    "        self.activation, self.deriv_activation = self.getActivation(activation)\n",
    "\n",
    "    def getActivation(self,activation):\n",
    "        if activation == 'elu':\n",
    "            f = tf.nn.elu\n",
    "            df = lambda x: tf.ones_like(x)* (x >= 0) + tf.math.exp(x) * (x < 0)\n",
    "            return f, df\n",
    "        elif activation == 'tanh':\n",
    "            f = tf.math.tanh\n",
    "            df = lambda x: 1-tf.math.tanh(x)**2\n",
    "            return f, df\n",
    "\n",
    "    def build(self,input_dim):\n",
    "        z0_init = tf.random_normal_initializer()\n",
    "        self.z0 = tf.Variable(\n",
    "            initial_value=z0_init(shape=(1,self.input_dim), dtype=\"float32\"),\n",
    "            trainable=True,\n",
    "        )\n",
    "        \n",
    "        log_alpha_init = tf.random_normal_initializer()\n",
    "        self.log_alpha = tf.Variable(\n",
    "            initial_value=log_alpha_init(shape=(1,1), dtype=\"float32\"), trainable=True\n",
    "        )     \n",
    "        \n",
    "        beta_init = tf.random_normal_initializer()\n",
    "        self.beta = tf.Variable(\n",
    "            initial_value=beta_init(shape=(1,1), dtype=\"float32\"), trainable=True\n",
    "        )        \n",
    "\n",
    "    def call(self,z):\n",
    "        z_sub = z-self.z0\n",
    "        alpha = tf.math.exp(self.log_alpha)\n",
    "        r = tf.norm(z_sub,axis=1)\n",
    "        h = tf.transpose(1 / (alpha + r))\n",
    "        f = z + self.beta * h * z_sub\n",
    "        \n",
    "        log_det = (self.input_dim-1)*tf.math.log(1+self.beta*h)+tf.math.log(1+self.beta*h\\\n",
    "                                          +self.beta - tf.transpose(self.beta*r/(alpha+r)**2))\n",
    "        return f, log_det\n"
   ]
  },
  {
   "cell_type": "markdown",
   "id": "f4dda75d",
   "metadata": {},
   "source": [
    "### VAE_Flow"
   ]
  },
  {
   "cell_type": "code",
   "execution_count": null,
   "id": "1ee87215",
   "metadata": {},
   "outputs": [],
   "source": []
  },
  {
   "cell_type": "markdown",
   "id": "f7d7422c",
   "metadata": {},
   "source": [
    "## Fit model "
   ]
  },
  {
   "cell_type": "code",
   "execution_count": null,
   "id": "05d776f4",
   "metadata": {},
   "outputs": [],
   "source": [
    "model = getModel(10)\n",
    "zh, log_det = model(np.random.uniform(0,1,(1,10)))\n",
    "print(zh.shape)\n",
    "print(log_det.shape)"
   ]
  },
  {
   "cell_type": "code",
   "execution_count": null,
   "id": "5554de96",
   "metadata": {},
   "outputs": [],
   "source": []
  },
  {
   "cell_type": "code",
   "execution_count": null,
   "id": "f61618c7",
   "metadata": {},
   "outputs": [],
   "source": []
  },
  {
   "cell_type": "code",
   "execution_count": null,
   "id": "a7fd4bf2",
   "metadata": {},
   "outputs": [],
   "source": []
  },
  {
   "cell_type": "markdown",
   "id": "da54e959",
   "metadata": {},
   "source": [
    "## Sample model "
   ]
  },
  {
   "cell_type": "code",
   "execution_count": null,
   "id": "772519ec",
   "metadata": {},
   "outputs": [],
   "source": []
  },
  {
   "cell_type": "code",
   "execution_count": null,
   "id": "855669b7",
   "metadata": {},
   "outputs": [],
   "source": [
    "def getModel(dim):\n",
    "    inputs = keras.layers.Input(dim)\n",
    "    zh, log_det = PlanarFlow(dim)(inputs)\n",
    "    model = keras.models.Model(inputs=[inputs], outputs=[zh, log_det])\n",
    "    return model"
   ]
  },
  {
   "cell_type": "code",
   "execution_count": null,
   "id": "7178ef61",
   "metadata": {},
   "outputs": [],
   "source": []
  },
  {
   "cell_type": "code",
   "execution_count": null,
   "id": "c1cd3e10",
   "metadata": {},
   "outputs": [],
   "source": []
  },
  {
   "cell_type": "code",
   "execution_count": null,
   "id": "51fc7f6a",
   "metadata": {},
   "outputs": [],
   "source": []
  },
  {
   "cell_type": "code",
   "execution_count": null,
   "id": "6021ee03",
   "metadata": {},
   "outputs": [],
   "source": []
  },
  {
   "cell_type": "code",
   "execution_count": null,
   "id": "83fbcb00",
   "metadata": {},
   "outputs": [],
   "source": []
  },
  {
   "cell_type": "code",
   "execution_count": null,
   "id": "5895256c",
   "metadata": {},
   "outputs": [],
   "source": []
  }
 ],
 "metadata": {
  "kernelspec": {
   "display_name": "tfp-env",
   "language": "python",
   "name": "anaconda-tfp_env"
  },
  "language_info": {
   "codemirror_mode": {
    "name": "ipython",
    "version": 3
   },
   "file_extension": ".py",
   "mimetype": "text/x-python",
   "name": "python",
   "nbconvert_exporter": "python",
   "pygments_lexer": "ipython3",
   "version": "3.6.12"
  }
 },
 "nbformat": 4,
 "nbformat_minor": 5
}
