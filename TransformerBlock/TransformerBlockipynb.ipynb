{
 "cells": [
  {
   "cell_type": "markdown",
   "id": "9d07da15",
   "metadata": {},
   "source": [
    "# Transformer Example "
   ]
  },
  {
   "cell_type": "code",
   "execution_count": 1,
   "id": "667394f8",
   "metadata": {},
   "outputs": [],
   "source": [
    "import pandas as pd \n",
    "import numpy as np \n",
    "\n",
    "import tensorflow as tf\n",
    "from tensorflow import keras\n",
    "from tensorflow.keras import layers\n",
    "from tensorflow.keras.preprocessing.sequence import TimeseriesGenerator\n",
    "\n",
    "import matplotlib.pyplot as plt \n",
    "import seaborn as sns \n",
    "sns.set()"
   ]
  },
  {
   "cell_type": "markdown",
   "id": "896a3bb8",
   "metadata": {},
   "source": [
    "## Resourcs\n",
    "\n",
    "* https://trungtran.io/2019/04/29/create-the-transformer-with-tensorflow-2-0/\n",
    "* https://keras.io/examples/nlp/text_classification_with_transformer/\n",
    "* https://kazemnejad.com/blog/transformer_architecture_positional_encoding/\n",
    "* https://arxiv.org/abs/1706.03762\n",
    "* https://www.tensorflow.org/text/tutorials/transformer\n",
    "* https://www.youtube.com/watch?v=dichIcUZfOw\n"
   ]
  },
  {
   "cell_type": "markdown",
   "id": "09f4819e",
   "metadata": {},
   "source": [
    "## Transformer"
   ]
  },
  {
   "cell_type": "markdown",
   "id": "40cc10a0",
   "metadata": {},
   "source": [
    "![transformer](https://miro.medium.com/max/2880/1*BHzGVskWGS_3jEcYYi6miQ.png)"
   ]
  },
  {
   "cell_type": "markdown",
   "id": "ee01cb69",
   "metadata": {},
   "source": [
    "![multihead](https://miro.medium.com/max/4548/1*ETe4WrKJ1lS1MKDgBPIM0g.png)"
   ]
  },
  {
   "cell_type": "code",
   "execution_count": 2,
   "id": "195a74a5",
   "metadata": {},
   "outputs": [],
   "source": [
    "class TransformerBlock(layers.Layer):\n",
    "    def __init__(self, key_dim, num_heads, ff_dim, rate=0.1):\n",
    "        super(TransformerBlock, self).__init__()\n",
    "        self.att = layers.MultiHeadAttention(num_heads=num_heads, key_dim=key_dim)\n",
    "        self.ffn = keras.Sequential(\n",
    "            [layers.Dense(ff_dim, activation=\"relu\"), layers.Dense(key_dim),]\n",
    "        )\n",
    "        self.layernorm1 = layers.LayerNormalization(epsilon=1e-6)\n",
    "        self.layernorm2 = layers.LayerNormalization(epsilon=1e-6)\n",
    "        self.dropout1 = layers.Dropout(rate)\n",
    "        self.dropout2 = layers.Dropout(rate)\n",
    "\n",
    "    def call(self, inputs):\n",
    "        attn_output = self.att(inputs,inputs)\n",
    "        attn_output = self.dropout1(attn_output)\n",
    "        out1 = self.layernorm1(inputs + attn_output)\n",
    "        ffn_output = self.ffn(out1)\n",
    "        ffn_output = self.dropout2(ffn_output)\n",
    "        return self.layernorm2(out1 + ffn_output)"
   ]
  },
  {
   "cell_type": "markdown",
   "id": "4ff81466",
   "metadata": {},
   "source": [
    "## Positional encoding\n",
    "$$\n",
    "PE_{(pos,2i)} = \\sin (pos/10000^{2i/d_{model}})\n",
    "$$\n",
    "\n",
    "$$\n",
    "PE_{(pos,2i+1)} = \\cos (pos/10000^{2i/d_{model}})\n",
    "$$"
   ]
  },
  {
   "cell_type": "code",
   "execution_count": 3,
   "id": "faa9c5c3",
   "metadata": {},
   "outputs": [],
   "source": [
    "class PositionEmbedding(layers.Layer):\n",
    "    def __init__(self,n,d):\n",
    "        super(PositionEmbedding, self).__init__()\n",
    "        self.n, self.d = n, d\n",
    "        self.pos_encoding = self.positional_encoding(n,d)\n",
    "        \n",
    "    def get_angles(self,pos, i, d_model):\n",
    "        angle_rates = 1 / np.power(10000, (2 * (i//2)) / np.float32(d_model))\n",
    "        return pos * angle_rates\n",
    "    \n",
    "    def positional_encoding(self,position, d_model):\n",
    "        angle_rads = self.get_angles(np.arange(position)[:, np.newaxis],\n",
    "                              np.arange(d_model)[np.newaxis, :],\n",
    "                              d_model)\n",
    "\n",
    "        # apply sin to even indices in the array; 2i\n",
    "        angle_rads[:, 0::2] = np.sin(angle_rads[:, 0::2])\n",
    "\n",
    "        # apply cos to odd indices in the array; 2i+1\n",
    "        angle_rads[:, 1::2] = np.cos(angle_rads[:, 1::2])\n",
    "\n",
    "        pos_encoding = angle_rads[np.newaxis, ...]\n",
    "\n",
    "        return tf.cast(pos_encoding, dtype=tf.float32)\n",
    "    \n",
    "    def call(self, x):\n",
    "        x += self.pos_encoding[:, :self.n, :]\n",
    "        return x "
   ]
  },
  {
   "cell_type": "code",
   "execution_count": 4,
   "id": "358459d6",
   "metadata": {},
   "outputs": [],
   "source": [
    "def getModel(input_shape=(50)):\n",
    "    inputs = tf.keras.Input(input_shape)\n",
    "    \n",
    "    pos_embed = PositionEmbedding(10,5)\n",
    "    transformer = TransformerBlock(5,10,10)\n",
    "    \n",
    "    # reshape seq of len 50 into 10 seq of len 5 each\n",
    "    x = tf.keras.layers.Reshape((10,5))(inputs)\n",
    "    x = pos_embed(x)\n",
    "    x = transformer(x)\n",
    "    x = layers.GlobalAveragePooling1D()(x)\n",
    "    x = layers.Dropout(0.1)(x)\n",
    "    yh = layers.Dense(1, activation=\"linear\")(x)\n",
    "    model = tf.keras.Model(inputs,yh)\n",
    "    print(model.summary())\n",
    "    return model"
   ]
  },
  {
   "cell_type": "markdown",
   "id": "36a22eb9",
   "metadata": {},
   "source": [
    "## Demo "
   ]
  },
  {
   "cell_type": "code",
   "execution_count": 5,
   "id": "723ee124",
   "metadata": {},
   "outputs": [
    {
     "data": {
      "text/plain": [
       "<matplotlib.legend.Legend at 0x7f7fa58e6f60>"
      ]
     },
     "execution_count": 5,
     "metadata": {},
     "output_type": "execute_result"
    },
    {
     "data": {
      "image/png": "[encoded data removed]",
      "text/plain": [
       "<Figure size 432x288 with 1 Axes>"
      ]
     },
     "metadata": {},
     "output_type": "display_data"
    }
   ],
   "source": [
    "df = pd.read_csv('ABT.csv')\n",
    "df['1. open'].plot(title='Open Price')\n",
    "plt.legend()"
   ]
  },
  {
   "cell_type": "code",
   "execution_count": 6,
   "id": "d8c231a3",
   "metadata": {},
   "outputs": [],
   "source": [
    "N_TEST = 100\n",
    "BATCH_SIZE = 12\n",
    "N_INPUT = 50\n",
    "\n",
    "train_series = df['1. open'].iloc[:].values\n",
    "test_series = df['1. open'].iloc[N_TEST:].values\n",
    "\n",
    "train_generator = TimeseriesGenerator(train_series, train_series, length=N_INPUT , batch_size=BATCH_SIZE)\n",
    "test_generator = TimeseriesGenerator(test_series, test_series, length=N_INPUT , batch_size=BATCH_SIZE)"
   ]
  },
  {
   "cell_type": "code",
   "execution_count": 7,
   "id": "076e7637",
   "metadata": {},
   "outputs": [
    {
     "name": "stdout",
     "output_type": "stream",
     "text": [
      "Model: \"model\"\n",
      "_________________________________________________________________\n",
      "Layer (type)                 Output Shape              Param #   \n",
      "=================================================================\n",
      "input_1 (InputLayer)         [(None, 50)]              0         \n",
      "_________________________________________________________________\n",
      "reshape (Reshape)            (None, 10, 5)             0         \n",
      "_________________________________________________________________\n",
      "position_embedding (Position (None, 10, 5)             0         \n",
      "_________________________________________________________________\n",
      "transformer_block (Transform (None, 10, 5)             1290      \n",
      "_________________________________________________________________\n",
      "global_average_pooling1d (Gl (None, 5)                 0         \n",
      "_________________________________________________________________\n",
      "dropout_2 (Dropout)          (None, 5)                 0         \n",
      "_________________________________________________________________\n",
      "dense_2 (Dense)              (None, 1)                 6         \n",
      "=================================================================\n",
      "Total params: 1,296\n",
      "Trainable params: 1,296\n",
      "Non-trainable params: 0\n",
      "_________________________________________________________________\n",
      "None\n"
     ]
    }
   ],
   "source": [
    "model = getModel()\n",
    "opt = tf.keras.optimizers.Adam(learning_rate = 1e-3)\n",
    "model.compile(optimizer=opt,loss=tf.keras.losses.MeanSquaredError(),metrics=['MSE'])"
   ]
  },
  {
   "cell_type": "code",
   "execution_count": 8,
   "id": "e611a8e7",
   "metadata": {},
   "outputs": [
    {
     "name": "stdout",
     "output_type": "stream",
     "text": [
      "Epoch 1/100\n",
      "449/449 [==============================] - 2s 2ms/step - loss: 2050.0190 - MSE: 2050.0190\n",
      "Epoch 2/100\n",
      "449/449 [==============================] - 1s 2ms/step - loss: 1337.4041 - MSE: 1337.4041\n",
      "Epoch 3/100\n",
      "449/449 [==============================] - 1s 2ms/step - loss: 630.0560 - MSE: 630.0560\n",
      "Epoch 4/100\n",
      "449/449 [==============================] - 1s 3ms/step - loss: 240.8741 - MSE: 240.8741\n",
      "Epoch 5/100\n",
      "449/449 [==============================] - 1s 2ms/step - loss: 145.4129 - MSE: 145.4129\n",
      "Epoch 6/100\n",
      "449/449 [==============================] - 1s 2ms/step - loss: 140.5286 - MSE: 140.5286\n",
      "Epoch 7/100\n",
      "449/449 [==============================] - 1s 2ms/step - loss: 135.0592 - MSE: 135.0592\n",
      "Epoch 8/100\n",
      "449/449 [==============================] - 1s 2ms/step - loss: 135.2980 - MSE: 135.2980\n",
      "Epoch 9/100\n",
      "449/449 [==============================] - 1s 2ms/step - loss: 137.1991 - MSE: 137.1991\n",
      "Epoch 10/100\n",
      "449/449 [==============================] - 1s 2ms/step - loss: 138.4734 - MSE: 138.4734\n",
      "Epoch 11/100\n",
      "449/449 [==============================] - 1s 2ms/step - loss: 141.3851 - MSE: 141.3851\n",
      "Epoch 12/100\n",
      "449/449 [==============================] - 1s 2ms/step - loss: 136.6828 - MSE: 136.6828\n",
      "Epoch 13/100\n",
      "449/449 [==============================] - 1s 3ms/step - loss: 135.1510 - MSE: 135.1510\n",
      "Epoch 14/100\n",
      "449/449 [==============================] - 1s 2ms/step - loss: 137.4296 - MSE: 137.4296\n",
      "Epoch 15/100\n",
      "449/449 [==============================] - 1s 2ms/step - loss: 139.6807 - MSE: 139.6807\n",
      "Epoch 16/100\n",
      "449/449 [==============================] - 1s 2ms/step - loss: 138.2539 - MSE: 138.2539\n",
      "Epoch 17/100\n",
      "449/449 [==============================] - 1s 2ms/step - loss: 133.4162 - MSE: 133.4162\n",
      "Epoch 18/100\n",
      "449/449 [==============================] - 1s 2ms/step - loss: 136.6083 - MSE: 136.6083\n",
      "Epoch 19/100\n",
      "449/449 [==============================] - 1s 2ms/step - loss: 136.3640 - MSE: 136.3640\n",
      "Epoch 20/100\n",
      "449/449 [==============================] - 1s 2ms/step - loss: 136.1138 - MSE: 136.1138\n",
      "Epoch 21/100\n",
      "449/449 [==============================] - 1s 2ms/step - loss: 136.3861 - MSE: 136.3861\n",
      "Epoch 22/100\n",
      "449/449 [==============================] - 1s 2ms/step - loss: 138.5919 - MSE: 138.5919\n",
      "Epoch 23/100\n",
      "449/449 [==============================] - 1s 2ms/step - loss: 132.1828 - MSE: 132.1828\n",
      "Epoch 24/100\n",
      "449/449 [==============================] - 1s 2ms/step - loss: 137.4405 - MSE: 137.4405\n",
      "Epoch 25/100\n",
      "449/449 [==============================] - 1s 2ms/step - loss: 136.4691 - MSE: 136.4691\n",
      "Epoch 26/100\n",
      "449/449 [==============================] - 1s 2ms/step - loss: 132.8377 - MSE: 132.8377\n",
      "Epoch 27/100\n",
      "449/449 [==============================] - 1s 2ms/step - loss: 138.5544 - MSE: 138.5544\n",
      "Epoch 28/100\n",
      "449/449 [==============================] - 1s 2ms/step - loss: 133.6337 - MSE: 133.6337\n",
      "Epoch 29/100\n",
      "449/449 [==============================] - 1s 2ms/step - loss: 133.2038 - MSE: 133.2038\n",
      "Epoch 30/100\n",
      "449/449 [==============================] - 1s 2ms/step - loss: 134.8765 - MSE: 134.8765\n",
      "Epoch 31/100\n",
      "449/449 [==============================] - 1s 3ms/step - loss: 139.5035 - MSE: 139.5035\n",
      "Epoch 32/100\n",
      "449/449 [==============================] - 1s 2ms/step - loss: 131.9438 - MSE: 131.9438\n",
      "Epoch 33/100\n",
      "449/449 [==============================] - 1s 2ms/step - loss: 137.0670 - MSE: 137.0670\n",
      "Epoch 34/100\n",
      "449/449 [==============================] - 1s 2ms/step - loss: 135.0110 - MSE: 135.0110\n",
      "Epoch 35/100\n",
      "449/449 [==============================] - 1s 2ms/step - loss: 130.6508 - MSE: 130.6508\n",
      "Epoch 36/100\n",
      "449/449 [==============================] - 1s 2ms/step - loss: 135.0039 - MSE: 135.0039\n",
      "Epoch 37/100\n",
      "449/449 [==============================] - 1s 2ms/step - loss: 133.5784 - MSE: 133.5784\n",
      "Epoch 38/100\n",
      "449/449 [==============================] - 1s 2ms/step - loss: 136.0955 - MSE: 136.0955\n",
      "Epoch 39/100\n",
      "449/449 [==============================] - 1s 2ms/step - loss: 134.9274 - MSE: 134.9274\n",
      "Epoch 40/100\n",
      "449/449 [==============================] - 1s 2ms/step - loss: 134.5996 - MSE: 134.5996\n",
      "Epoch 41/100\n",
      "449/449 [==============================] - 1s 3ms/step - loss: 133.6197 - MSE: 133.6197\n",
      "Epoch 42/100\n",
      "449/449 [==============================] - 2s 4ms/step - loss: 135.7341 - MSE: 135.7341\n",
      "Epoch 43/100\n",
      "449/449 [==============================] - 1s 2ms/step - loss: 134.0514 - MSE: 134.0514\n",
      "Epoch 44/100\n",
      "449/449 [==============================] - 1s 2ms/step - loss: 134.8549 - MSE: 134.8549\n",
      "Epoch 45/100\n",
      "449/449 [==============================] - 1s 2ms/step - loss: 133.5407 - MSE: 133.5407\n",
      "Epoch 46/100\n",
      "449/449 [==============================] - 1s 2ms/step - loss: 131.1109 - MSE: 131.1109\n",
      "Epoch 47/100\n",
      "449/449 [==============================] - 1s 2ms/step - loss: 134.8741 - MSE: 134.8741\n",
      "Epoch 48/100\n",
      "449/449 [==============================] - 1s 2ms/step - loss: 133.0343 - MSE: 133.0343\n",
      "Epoch 49/100\n",
      "449/449 [==============================] - 1s 2ms/step - loss: 132.8197 - MSE: 132.8197\n",
      "Epoch 50/100\n",
      "449/449 [==============================] - 1s 2ms/step - loss: 131.2165 - MSE: 131.2165\n",
      "Epoch 51/100\n",
      "449/449 [==============================] - 1s 2ms/step - loss: 132.9671 - MSE: 132.9671\n",
      "Epoch 52/100\n",
      "449/449 [==============================] - 1s 2ms/step - loss: 131.8765 - MSE: 131.8765\n",
      "Epoch 53/100\n",
      "449/449 [==============================] - 1s 2ms/step - loss: 132.2555 - MSE: 132.2555\n",
      "Epoch 54/100\n",
      "449/449 [==============================] - 1s 2ms/step - loss: 134.5426 - MSE: 134.5426\n",
      "Epoch 55/100\n",
      "449/449 [==============================] - 1s 2ms/step - loss: 135.7449 - MSE: 135.7449\n",
      "Epoch 56/100\n",
      "449/449 [==============================] - 1s 2ms/step - loss: 131.9493 - MSE: 131.9493\n",
      "Epoch 57/100\n",
      "449/449 [==============================] - 1s 2ms/step - loss: 129.4442 - MSE: 129.4443\n",
      "Epoch 58/100\n",
      "449/449 [==============================] - 1s 2ms/step - loss: 133.3712 - MSE: 133.3712\n",
      "Epoch 59/100\n",
      "449/449 [==============================] - 1s 2ms/step - loss: 130.3441 - MSE: 130.3441\n",
      "Epoch 60/100\n",
      "449/449 [==============================] - 1s 2ms/step - loss: 119.6991 - MSE: 119.6991\n",
      "Epoch 61/100\n",
      "449/449 [==============================] - 1s 2ms/step - loss: 108.1530 - MSE: 108.1530\n",
      "Epoch 62/100\n",
      "449/449 [==============================] - 1s 2ms/step - loss: 86.5802 - MSE: 86.5802\n",
      "Epoch 63/100\n",
      "449/449 [==============================] - 1s 2ms/step - loss: 80.3940 - MSE: 80.3940\n",
      "Epoch 64/100\n",
      "449/449 [==============================] - 1s 2ms/step - loss: 72.2600 - MSE: 72.2600\n",
      "Epoch 65/100\n",
      "449/449 [==============================] - 1s 2ms/step - loss: 73.4158 - MSE: 73.4158\n",
      "Epoch 66/100\n",
      "449/449 [==============================] - 1s 2ms/step - loss: 73.6581 - MSE: 73.6580\n",
      "Epoch 67/100\n",
      "449/449 [==============================] - 1s 2ms/step - loss: 66.3441 - MSE: 66.3441\n",
      "Epoch 68/100\n",
      "449/449 [==============================] - 1s 2ms/step - loss: 64.6484 - MSE: 64.6484\n",
      "Epoch 69/100\n",
      "449/449 [==============================] - 1s 2ms/step - loss: 62.4901 - MSE: 62.4901\n",
      "Epoch 70/100\n",
      "449/449 [==============================] - 1s 2ms/step - loss: 63.4775 - MSE: 63.4775\n",
      "Epoch 71/100\n",
      "449/449 [==============================] - 1s 2ms/step - loss: 59.8096 - MSE: 59.8096\n",
      "Epoch 72/100\n",
      "449/449 [==============================] - 1s 2ms/step - loss: 58.9680 - MSE: 58.9680\n",
      "Epoch 73/100\n",
      "449/449 [==============================] - 1s 2ms/step - loss: 57.2465 - MSE: 57.2465\n",
      "Epoch 74/100\n",
      "449/449 [==============================] - 1s 2ms/step - loss: 57.8770 - MSE: 57.8770\n",
      "Epoch 75/100\n",
      "449/449 [==============================] - 1s 2ms/step - loss: 61.5548 - MSE: 61.5548\n",
      "Epoch 76/100\n",
      "449/449 [==============================] - 1s 2ms/step - loss: 55.8109 - MSE: 55.8109\n",
      "Epoch 77/100\n",
      "449/449 [==============================] - 1s 2ms/step - loss: 56.2872 - MSE: 56.2872\n",
      "Epoch 78/100\n",
      "449/449 [==============================] - 1s 2ms/step - loss: 59.9289 - MSE: 59.9289\n",
      "Epoch 79/100\n",
      "449/449 [==============================] - 1s 2ms/step - loss: 55.8377 - MSE: 55.8377\n",
      "Epoch 80/100\n",
      "449/449 [==============================] - 1s 2ms/step - loss: 55.2566 - MSE: 55.2566\n",
      "Epoch 81/100\n",
      "449/449 [==============================] - 1s 2ms/step - loss: 55.2491 - MSE: 55.2491\n",
      "Epoch 82/100\n"
     ]
    },
    {
     "name": "stdout",
     "output_type": "stream",
     "text": [
      "449/449 [==============================] - 1s 2ms/step - loss: 56.1085 - MSE: 56.1085\n",
      "Epoch 83/100\n",
      "449/449 [==============================] - 1s 2ms/step - loss: 55.3043 - MSE: 55.3043\n",
      "Epoch 84/100\n",
      "449/449 [==============================] - 1s 2ms/step - loss: 55.6418 - MSE: 55.6418\n",
      "Epoch 85/100\n",
      "449/449 [==============================] - 1s 2ms/step - loss: 52.7884 - MSE: 52.7884\n",
      "Epoch 86/100\n",
      "449/449 [==============================] - 1s 2ms/step - loss: 53.6165 - MSE: 53.6165A: 0s - loss: 52.5064 - MSE: 52.506\n",
      "Epoch 87/100\n",
      "449/449 [==============================] - 1s 2ms/step - loss: 55.8430 - MSE: 55.8430\n",
      "Epoch 88/100\n",
      "449/449 [==============================] - 1s 2ms/step - loss: 53.1585 - MSE: 53.1585\n",
      "Epoch 89/100\n",
      "449/449 [==============================] - 1s 2ms/step - loss: 54.7182 - MSE: 54.7182\n",
      "Epoch 90/100\n",
      "449/449 [==============================] - 1s 2ms/step - loss: 55.3349 - MSE: 55.3349\n",
      "Epoch 91/100\n",
      "449/449 [==============================] - 1s 2ms/step - loss: 50.9455 - MSE: 50.9455A: 0s - loss: 50.8704 - M\n",
      "Epoch 92/100\n",
      "449/449 [==============================] - 1s 2ms/step - loss: 50.9910 - MSE: 50.9910\n",
      "Epoch 93/100\n",
      "449/449 [==============================] - 1s 2ms/step - loss: 47.4631 - MSE: 47.4631\n",
      "Epoch 94/100\n",
      "449/449 [==============================] - 1s 2ms/step - loss: 53.7311 - MSE: 53.7311\n",
      "Epoch 95/100\n",
      "449/449 [==============================] - 1s 2ms/step - loss: 49.6554 - MSE: 49.6554\n",
      "Epoch 96/100\n",
      "449/449 [==============================] - 1s 2ms/step - loss: 47.3296 - MSE: 47.3296\n",
      "Epoch 97/100\n",
      "449/449 [==============================] - 1s 2ms/step - loss: 49.1348 - MSE: 49.1348\n",
      "Epoch 98/100\n",
      "449/449 [==============================] - 1s 2ms/step - loss: 47.1939 - MSE: 47.1939\n",
      "Epoch 99/100\n",
      "449/449 [==============================] - 1s 2ms/step - loss: 51.0844 - MSE: 51.0844\n",
      "Epoch 100/100\n",
      "449/449 [==============================] - 1s 2ms/step - loss: 51.8314 - MSE: 51.8314\n"
     ]
    }
   ],
   "source": [
    "history = model.fit(train_generator, steps_per_epoch=len(train_generator),epochs=100)"
   ]
  },
  {
   "cell_type": "code",
   "execution_count": 9,
   "id": "65b5cabe",
   "metadata": {},
   "outputs": [],
   "source": [
    "yh = model.predict(test_generator)"
   ]
  },
  {
   "cell_type": "code",
   "execution_count": 10,
   "id": "b5d07e8e",
   "metadata": {},
   "outputs": [
    {
     "data": {
      "text/plain": [
       "[<matplotlib.lines.Line2D at 0x7f7f8b1333c8>]"
      ]
     },
     "execution_count": 10,
     "metadata": {},
     "output_type": "execute_result"
    },
    {
     "data": {
      "image/png": "[encoded data removed]",
      "text/plain": [
       "<Figure size 432x288 with 1 Axes>"
      ]
     },
     "metadata": {},
     "output_type": "display_data"
    }
   ],
   "source": [
    "plt.plot(range(0,yh.shape[0]),yh.flatten())\n",
    "plt.plot(range(0,yh.shape[0]),test_series.flatten()[test_series.shape[0]-yh.shape[0]:],color='r',alpha=.5)"
   ]
  },
  {
   "cell_type": "code",
   "execution_count": null,
   "id": "d80b554d",
   "metadata": {},
   "outputs": [],
   "source": []
  },
  {
   "cell_type": "code",
   "execution_count": null,
   "id": "417ea1c3",
   "metadata": {},
   "outputs": [],
   "source": []
  },
  {
   "cell_type": "code",
   "execution_count": null,
   "id": "39b240e5",
   "metadata": {},
   "outputs": [],
   "source": []
  },
  {
   "cell_type": "code",
   "execution_count": null,
   "id": "e7a6518e",
   "metadata": {},
   "outputs": [],
   "source": []
  }
 ],
 "metadata": {
  "kernelspec": {
   "display_name": "tfp-env",
   "language": "python",
   "name": "anaconda-tfp_env"
  },
  "language_info": {
   "codemirror_mode": {
    "name": "ipython",
    "version": 3
   },
   "file_extension": ".py",
   "mimetype": "text/x-python",
   "name": "python",
   "nbconvert_exporter": "python",
   "pygments_lexer": "ipython3",
   "version": "3.6.12"
  }
 },
 "nbformat": 4,
 "nbformat_minor": 5
}
