{
 "cells": [
  {
   "cell_type": "markdown",
   "metadata": {},
   "source": [
    "# VAE with tf==2.4.1"
   ]
  },
  {
   "cell_type": "markdown",
   "metadata": {},
   "source": [
    "## Import modules"
   ]
  },
  {
   "cell_type": "code",
   "execution_count": 1,
   "metadata": {},
   "outputs": [],
   "source": [
    "import os \n",
    "import glob as glob\n",
    "import random\n",
    "import time\n",
    "\n",
    "import pandas as pd\n",
    "import numpy as np\n",
    "import tensorflow as tf\n",
    "from tensorflow import keras\n",
    "from tensorflow.keras import layers\n",
    "from tensorflow.keras import backend as K\n",
    "from tensorflow.keras import Model\n",
    "\n",
    "from PIL import Image\n",
    "import matplotlib.pyplot as plt\n",
    "import matplotlib.image as mpimg"
   ]
  },
  {
   "cell_type": "markdown",
   "metadata": {},
   "source": [
    "## Load data"
   ]
  },
  {
   "cell_type": "code",
   "execution_count": 2,
   "metadata": {},
   "outputs": [],
   "source": [
    "data_path = \"data/\"\n",
    "X_train = pd.read_csv(data_path+\"train.csv\")\n",
    "X_test = pd.read_csv(data_path+\"test.csv\")"
   ]
  },
  {
   "cell_type": "code",
   "execution_count": 3,
   "metadata": {},
   "outputs": [],
   "source": [
    "X_train = X_train.iloc[:,2:].values\n",
    "X_valid = X_test.iloc[:,1:].values\n",
    "X_train, X_valid = X_train/255, X_valid/255\n",
    "\n",
    "X_train = X_train.reshape(X_train.shape[0],28,28)\n",
    "X_valid = X_valid.reshape(X_valid.shape[0],28,28)"
   ]
  },
  {
   "cell_type": "code",
   "execution_count": 4,
   "metadata": {},
   "outputs": [
    {
     "data": {
      "image/png": "[encoded data removed]",
      "text/plain": [
       "<Figure size 432x288 with 1 Axes>"
      ]
     },
     "metadata": {
      "needs_background": "light"
     },
     "output_type": "display_data"
    }
   ],
   "source": [
    "plt.imshow(X_train[4,:,:], cmap=\"gray\")\n",
    "plt.show()"
   ]
  },
  {
   "cell_type": "markdown",
   "metadata": {},
   "source": [
    "## Model"
   ]
  },
  {
   "cell_type": "code",
   "execution_count": 5,
   "metadata": {},
   "outputs": [],
   "source": [
    "class Sampling(layers.Layer):\n",
    "    def call(self, inputs):\n",
    "        mean, log_var = inputs\n",
    "        return tf.random.normal(tf.shape(log_var)) * tf.math.exp(log_var / 2) + mean"
   ]
  },
  {
   "cell_type": "code",
   "execution_count": 6,
   "metadata": {},
   "outputs": [],
   "source": [
    "class VAE(Model):\n",
    "    def __init__(self,codings_size=20):\n",
    "        super(VAE, self).__init__()\n",
    "        self.n_pixels = 28*28\n",
    "        self.codings_size = codings_size\n",
    "        self.encoder = self.getEncoder()\n",
    "        self.decoder = self.getDecoder()\n",
    "        self.bce = tf.keras.losses.BinaryCrossentropy()\n",
    "        self.round_acc = keras.metrics.BinaryAccuracy(name=\"rounded_acc\")\n",
    "        self.loss_tracker = keras.metrics.Mean(name=\"loss\")\n",
    "    \n",
    "    @property\n",
    "    def metrics(self):\n",
    "        \"\"\"List of the model's metrics.\n",
    "        We make sure the loss tracker is listed as part of `model.metrics`\n",
    "        so that `fit()` and `evaluate()` are able to `reset()` the loss tracker\n",
    "        at the start of each epoch and at the start of an `evaluate()` call.\n",
    "        \"\"\"\n",
    "        return [self.loss_tracker]\n",
    "\n",
    "    def getEncoder(self):\n",
    "        inputs = keras.layers.Input(shape=[28, 28])\n",
    "        z = keras.layers.Flatten()(inputs)\n",
    "        z = keras.layers.Dense(150, activation=\"selu\")(z)\n",
    "        z = keras.layers.Dense(100, activation=\"selu\")(z)\n",
    "        codings_mean = keras.layers.Dense(self.codings_size)(z)\n",
    "        codings_log_var = keras.layers.Dense(self.codings_size)(z)\n",
    "        codings = Sampling()([codings_mean, codings_log_var])\n",
    "        encoder = keras.models.Model(\n",
    "        inputs=[inputs], outputs=[codings_mean, codings_log_var, codings])\n",
    "        return encoder\n",
    "\n",
    "    def getDecoder(self):\n",
    "        decoder_inputs = keras.layers.Input(shape=[self.codings_size])\n",
    "        x = keras.layers.Dense(100, activation=\"selu\")(decoder_inputs)\n",
    "        x = keras.layers.Dense(150, activation=\"selu\")(x)\n",
    "        x = keras.layers.Dense(28 * 28, activation=\"sigmoid\")(x)\n",
    "        outputs = keras.layers.Reshape([28, 28])(x)\n",
    "        decoder = keras.models.Model(inputs=[decoder_inputs], outputs=[outputs])\n",
    "        return decoder\n",
    "    \n",
    "    def latentLoss(self,z_mean,z_var):\n",
    "        latent_loss = 1+z_var-tf.math.exp(z_var)-tf.math.square(z_mean)\n",
    "        latent_loss = -0.5 * tf.math.reduce_sum(latent_loss,axis=-1)\n",
    "        latent_loss = tf.math.reduce_mean(latent_loss)/self.n_pixels    \n",
    "        return latent_loss\n",
    "            \n",
    "    def reconLoss(self,X,xh):\n",
    "        recon_loss = self.bce(X,xh)\n",
    "        return recon_loss\n",
    "\n",
    "    def train_step(self, data):\n",
    "        X, y = data\n",
    "\n",
    "        with tf.GradientTape() as tape:\n",
    "            z_mean, z_var, zh = self.encoder(X)\n",
    "            xh = self.decoder(zh)\n",
    "            \n",
    "            # Latent loss \n",
    "            latent_loss = self.latentLoss(z_mean,z_var)\n",
    "            \n",
    "            # Reconstruction loss\n",
    "            recon_loss = self.reconLoss(X,xh) \n",
    "\n",
    "            loss = recon_loss+latent_loss\n",
    "            self.loss_tracker.update_state(loss)\n",
    "            \n",
    "        # Compute gradients\n",
    "        trainable_vars = self.trainable_variables\n",
    "        gradients = tape.gradient(loss, trainable_vars)\n",
    "        # Update weights\n",
    "        self.optimizer.apply_gradients(zip(gradients, trainable_vars))\n",
    "        # Update metrics (includes the metric that tracks the loss)\n",
    "        self.round_acc.update_state(tf.round(X), tf.round(xh))\n",
    "        \n",
    "        # Return a dict mapping metric names to current value   \n",
    "        results = {\"round_acc\": self.round_acc.result()}\n",
    "        results[\"loss\"] = self.loss_tracker.result()\n",
    "        return results\n",
    "    \n",
    "    def test_step(self, data):\n",
    "        X, _ = data\n",
    "        z_mean, z_var, zh = self.encoder(X)\n",
    "        xh = self.decoder(zh)\n",
    "            \n",
    "        # Latent loss \n",
    "        latent_loss = self.latentLoss(z_mean,z_var)\n",
    "            \n",
    "        # Reconstruction loss\n",
    "        recon_loss = self.reconLoss(X,xh) \n",
    "            \n",
    "        loss = recon_loss+latent_loss\n",
    "        self.loss_tracker.update_state(loss)\n",
    "            \n",
    "        self.round_acc.update_state(tf.round(X), tf.round(xh))  \n",
    "        results = {\"round_acc\": self.round_acc.result()}\n",
    "        results[\"loss\"] = self.loss_tracker.result()\n",
    "        return results"
   ]
  },
  {
   "cell_type": "markdown",
   "metadata": {},
   "source": [
    "## Fit model"
   ]
  },
  {
   "cell_type": "code",
   "execution_count": 7,
   "metadata": {},
   "outputs": [
    {
     "name": "stdout",
     "output_type": "stream",
     "text": [
      "Epoch 1/25\n",
      "469/469 [==============================] - 4s 7ms/step - round_acc: 0.8231 - loss: 0.3881 - val_round_acc: 0.8679 - val_loss: 0.3506\n",
      "Epoch 2/25\n",
      "469/469 [==============================] - 2s 5ms/step - round_acc: 0.8759 - loss: 0.3448 - val_round_acc: 0.8835 - val_loss: 0.3345\n",
      "Epoch 3/25\n",
      "469/469 [==============================] - 2s 5ms/step - round_acc: 0.8871 - loss: 0.3344 - val_round_acc: 0.8911 - val_loss: 0.3346\n",
      "Epoch 4/25\n",
      "469/469 [==============================] - 2s 5ms/step - round_acc: 0.8934 - loss: 0.3289 - val_round_acc: 0.8961 - val_loss: 0.3254\n",
      "Epoch 5/25\n",
      "469/469 [==============================] - 2s 5ms/step - round_acc: 0.8977 - loss: 0.3254 - val_round_acc: 0.8996 - val_loss: 0.3212\n",
      "Epoch 6/25\n",
      "469/469 [==============================] - 2s 5ms/step - round_acc: 0.9007 - loss: 0.3230 - val_round_acc: 0.9022 - val_loss: 0.3197\n",
      "Epoch 7/25\n",
      "469/469 [==============================] - 2s 5ms/step - round_acc: 0.9031 - loss: 0.3211 - val_round_acc: 0.9042 - val_loss: 0.3177\n",
      "Epoch 8/25\n",
      "469/469 [==============================] - 2s 5ms/step - round_acc: 0.9049 - loss: 0.3198 - val_round_acc: 0.9059 - val_loss: 0.3184\n",
      "Epoch 9/25\n",
      "469/469 [==============================] - 2s 5ms/step - round_acc: 0.9065 - loss: 0.3187 - val_round_acc: 0.9072 - val_loss: 0.3213\n",
      "Epoch 10/25\n",
      "469/469 [==============================] - 2s 5ms/step - round_acc: 0.9077 - loss: 0.3178 - val_round_acc: 0.9083 - val_loss: 0.3173\n",
      "Epoch 11/25\n",
      "469/469 [==============================] - 3s 6ms/step - round_acc: 0.9087 - loss: 0.3170 - val_round_acc: 0.9093 - val_loss: 0.3148\n",
      "Epoch 12/25\n",
      "469/469 [==============================] - 3s 6ms/step - round_acc: 0.9097 - loss: 0.3164 - val_round_acc: 0.9102 - val_loss: 0.3148\n",
      "Epoch 13/25\n",
      "469/469 [==============================] - 3s 5ms/step - round_acc: 0.9105 - loss: 0.3158 - val_round_acc: 0.9110 - val_loss: 0.3156\n",
      "Epoch 14/25\n",
      "469/469 [==============================] - 2s 5ms/step - round_acc: 0.9113 - loss: 0.3152 - val_round_acc: 0.9116 - val_loss: 0.3164\n",
      "Epoch 15/25\n",
      "469/469 [==============================] - 2s 5ms/step - round_acc: 0.9119 - loss: 0.3148 - val_round_acc: 0.9123 - val_loss: 0.3135\n",
      "Epoch 16/25\n",
      "469/469 [==============================] - 2s 5ms/step - round_acc: 0.9125 - loss: 0.3144 - val_round_acc: 0.9128 - val_loss: 0.3133\n",
      "Epoch 17/25\n",
      "469/469 [==============================] - 2s 5ms/step - round_acc: 0.9131 - loss: 0.3141 - val_round_acc: 0.9133 - val_loss: 0.3149\n",
      "Epoch 18/25\n",
      "469/469 [==============================] - 2s 5ms/step - round_acc: 0.9135 - loss: 0.3138 - val_round_acc: 0.9137 - val_loss: 0.3146\n",
      "Epoch 19/25\n",
      "469/469 [==============================] - 2s 5ms/step - round_acc: 0.9139 - loss: 0.3134 - val_round_acc: 0.9142 - val_loss: 0.3115\n",
      "Epoch 20/25\n",
      "469/469 [==============================] - 2s 5ms/step - round_acc: 0.9144 - loss: 0.3131 - val_round_acc: 0.9146 - val_loss: 0.3119\n",
      "Epoch 21/25\n",
      "469/469 [==============================] - 2s 5ms/step - round_acc: 0.9148 - loss: 0.3130 - val_round_acc: 0.9150 - val_loss: 0.3119\n",
      "Epoch 22/25\n",
      "469/469 [==============================] - 2s 5ms/step - round_acc: 0.9152 - loss: 0.3128 - val_round_acc: 0.9154 - val_loss: 0.3129\n",
      "Epoch 23/25\n",
      "469/469 [==============================] - 2s 5ms/step - round_acc: 0.9155 - loss: 0.3126 - val_round_acc: 0.9157 - val_loss: 0.3114\n",
      "Epoch 24/25\n",
      "469/469 [==============================] - 2s 5ms/step - round_acc: 0.9158 - loss: 0.3123 - val_round_acc: 0.9160 - val_loss: 0.3120\n",
      "Epoch 25/25\n",
      "469/469 [==============================] - 2s 5ms/step - round_acc: 0.9162 - loss: 0.3121 - val_round_acc: 0.9163 - val_loss: 0.3115\n"
     ]
    }
   ],
   "source": [
    "model = VAE(codings_size=20)\n",
    "model.compile(optimizer=\"rmsprop\")\n",
    "history = model.fit(X_train, X_train, epochs=25, batch_size=128,\n",
    "                             validation_data=(X_valid, X_valid))"
   ]
  },
  {
   "cell_type": "markdown",
   "metadata": {},
   "source": [
    "## Sample model"
   ]
  },
  {
   "cell_type": "code",
   "execution_count": 8,
   "metadata": {},
   "outputs": [
    {
     "data": {
      "image/png": "[encoded data removed]",
      "text/plain": [
       "<Figure size 576x576 with 8 Axes>"
      ]
     },
     "metadata": {
      "needs_background": "light"
     },
     "output_type": "display_data"
    }
   ],
   "source": [
    "w=10\n",
    "h=10\n",
    "fig=plt.figure(figsize=(8, 8))\n",
    "columns = 4\n",
    "rows = 2\n",
    "for i in range(1, columns*rows +1):\n",
    "    img = np.random.randint(10, size=(h,w))\n",
    "    fig.add_subplot(rows, columns, i)\n",
    "    codings = tf.random.normal(shape=[1, 20])\n",
    "    images = model.decoder(codings).numpy()\n",
    "    plt.imshow(images[0,:,:], cmap=\"binary\")\n",
    "plt.show()"
   ]
  },
  {
   "cell_type": "code",
   "execution_count": null,
   "metadata": {},
   "outputs": [],
   "source": []
  },
  {
   "cell_type": "code",
   "execution_count": null,
   "metadata": {},
   "outputs": [],
   "source": []
  },
  {
   "cell_type": "code",
   "execution_count": null,
   "metadata": {},
   "outputs": [],
   "source": []
  },
  {
   "cell_type": "code",
   "execution_count": null,
   "metadata": {},
   "outputs": [],
   "source": []
  }
 ],
 "metadata": {
  "kernelspec": {
   "display_name": "tfp-env",
   "language": "python",
   "name": "anaconda-tfp_env"
  },
  "language_info": {
   "codemirror_mode": {
    "name": "ipython",
    "version": 3
   },
   "file_extension": ".py",
   "mimetype": "text/x-python",
   "name": "python",
   "nbconvert_exporter": "python",
   "pygments_lexer": "ipython3",
   "version": "3.6.12"
  }
 },
 "nbformat": 4,
 "nbformat_minor": 4
}
