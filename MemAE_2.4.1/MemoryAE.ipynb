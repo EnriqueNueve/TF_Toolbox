{
 "cells": [
  {
   "cell_type": "markdown",
   "metadata": {},
   "source": [
    "# Memory-Augmented Autoencoder"
   ]
  },
  {
   "cell_type": "markdown",
   "metadata": {},
   "source": [
    "## Import modules"
   ]
  },
  {
   "cell_type": "code",
   "execution_count": 1,
   "metadata": {},
   "outputs": [],
   "source": [
    "import os \n",
    "import glob as glob\n",
    "\n",
    "import pandas as pd\n",
    "import numpy as np\n",
    "import tensorflow as tf\n",
    "from tensorflow import keras\n",
    "from tensorflow.keras import layers\n",
    "from tensorflow.keras import Model\n",
    "\n",
    "from PIL import Image\n",
    "import matplotlib.pyplot as plt\n",
    "import matplotlib.image as mpimg"
   ]
  },
  {
   "cell_type": "markdown",
   "metadata": {},
   "source": [
    "## Load data"
   ]
  },
  {
   "cell_type": "code",
   "execution_count": 2,
   "metadata": {},
   "outputs": [],
   "source": [
    "X_train = pd.read_csv(\"F_mnist/train.csv\")\n",
    "X_test = pd.read_csv(\"F_mnist/test.csv\")"
   ]
  },
  {
   "cell_type": "code",
   "execution_count": 3,
   "metadata": {},
   "outputs": [],
   "source": [
    "X_train = X_train.iloc[:,2:].values\n",
    "X_valid = X_test.iloc[:,1:].values\n",
    "X_train, X_valid = X_train/255, X_valid/255\n",
    "\n",
    "X_train = X_train.reshape(X_train.shape[0],28,28)\n",
    "X_valid = X_valid.reshape(X_valid.shape[0],28,28)"
   ]
  },
  {
   "cell_type": "code",
   "execution_count": 4,
   "metadata": {},
   "outputs": [
    {
     "data": {
      "image/png": "[encoded data removed]",
      "text/plain": [
       "<Figure size 432x288 with 1 Axes>"
      ]
     },
     "metadata": {
      "needs_background": "light"
     },
     "output_type": "display_data"
    }
   ],
   "source": [
    "plt.imshow(X_train[6,:,:], cmap=\"gray\")\n",
    "plt.show()"
   ]
  },
  {
   "cell_type": "markdown",
   "metadata": {},
   "source": [
    "## Declare model "
   ]
  },
  {
   "cell_type": "code",
   "execution_count": 5,
   "metadata": {},
   "outputs": [],
   "source": [
    "class MemoryBank(layers.Layer):\n",
    "    def __init__(self, mem_dim, fea_dim):\n",
    "        super(MemoryBank, self).__init__()\n",
    "        self.mem_dim = mem_dim\n",
    "        self.fea_dim = fea_dim\n",
    "\n",
    "        memory_weight_init = tf.random_normal_initializer()\n",
    "        self.memory_weight = tf.Variable(\n",
    "            initial_value=memory_weight_init(shape=(self.mem_dim, self.fea_dim), dtype=\"float32\"),\n",
    "            trainable=True,\n",
    "        )\n",
    "        \n",
    "    def cosine_sim(self, a, b):\n",
    "        num = tf.linalg.matmul(a, tf.transpose(b, perm=[1, 0]))\n",
    "        denom_a =  tf.math.sqrt(tf.math.reduce_sum(a**2,axis=1,keepdims=True))\n",
    "        denom_b = tf.math.sqrt(tf.math.reduce_sum(b**2,axis=1,keepdims=True))\n",
    "        denom =  tf.linalg.matmul(denom_a,tf.transpose(denom_b))\n",
    "        w = (num + 1e-12) / (denom + 1e-12)\n",
    "        return w   \n",
    "\n",
    "    def sparse_shink(self,x,mem_dim):\n",
    "        lamb = 1 / mem_dim # may need to be tuned!!!\n",
    "        num = tf.keras.activations.relu(x - lamb)*x\n",
    "        denom = tf.abs(x - lamb) + 1e-12\n",
    "        wh = (num + 1e-12) / denom \n",
    "        wh_renorm = wh/tf.norm(wh,ord=1,axis=1,keepdims=True)\n",
    "        return wh_renorm \n",
    "        \n",
    "    def call(self, z):\n",
    "        d = self.cosine_sim(z,self.memory_weight)\n",
    "        w = tf.nn.softmax(d)\n",
    "        wh_renorm = self.sparse_shink(w,self.mem_dim)\n",
    "        z_hat = tf.linalg.matmul(wh_renorm,self.memory_weight)\n",
    "        return z_hat, wh_renorm"
   ]
  },
  {
   "cell_type": "code",
   "execution_count": 6,
   "metadata": {},
   "outputs": [],
   "source": [
    "class MemAE(keras.Model):\n",
    "    def __init__(self, **kwargs):\n",
    "        super(MemAE, self).__init__(**kwargs)\n",
    "        self.encoder = self.getEncoder()\n",
    "        self.decoder = self.getDecoder()\n",
    "        \n",
    "    def getEncoder(self):\n",
    "        encoder_inputs = keras.Input(shape=(28, 28))\n",
    "        x = keras.layers.Flatten()(encoder_inputs)\n",
    "        x = layers.Dense(150,activation=\"selu\")(x)\n",
    "        x = layers.Dense(60,activation=\"selu\")(x)\n",
    "        z_hat, wh_renorm = MemoryBank(30,60)(x)\n",
    "        encoder = keras.Model(encoder_inputs, [z_hat, wh_renorm], name=\"encoder\")\n",
    "        return encoder \n",
    "        \n",
    "    def getDecoder(self):\n",
    "        latent_inputs = keras.Input(shape=(60))\n",
    "        x = layers.Dense(60,activation=\"selu\")(latent_inputs)\n",
    "        x = layers.Dense(240,activation=\"selu\")(x)\n",
    "        x = layers.Dense(784,activation=\"sigmoid\")(x)\n",
    "        decoder_outputs = keras.layers.Reshape([28, 28])(x)\n",
    "        decoder = keras.Model(latent_inputs, decoder_outputs, name=\"decoder\")\n",
    "        return decoder\n",
    "        \n",
    "    def train_step(self, x):\n",
    "    \n",
    "        with tf.GradientTape() as tape:\n",
    "            z_hat, wh_renorm = self.encoder(x)\n",
    "            x_hat = self.decoder(z_hat)\n",
    "\n",
    "            mse = tf.reduce_sum(tf.square(x - x_hat))\n",
    "            mem_etrp = tf.reduce_sum((-wh_renorm) * tf.math.log(wh_renorm + 1e-12))\n",
    "            loss = tf.reduce_mean(mse + (0.0002 * mem_etrp))\n",
    "            \n",
    "        grads = tape.gradient(loss, self.trainable_weights)\n",
    "        self.optimizer.apply_gradients(zip(grads, self.trainable_weights))\n",
    "        return {\"loss\": loss}\n",
    "    \n",
    "    def test_step(self, data):\n",
    "        x, y = data[0],data[1]\n",
    "        z_hat, wh_renorm = self.encoder(x)\n",
    "        x_hat = self.decoder(z_hat)\n",
    "\n",
    "        mse = tf.reduce_sum(tf.square(x - x_hat))\n",
    "        mem_etrp = tf.reduce_sum((-wh_renorm) * tf.math.log(wh_renorm + 1e-12))\n",
    "        loss = tf.reduce_mean(mse + (0.0002 * mem_etrp))\n",
    "        return {\"loss\": loss}\n",
    "    \n",
    "    def call(self, inputs):\n",
    "        z_hat, w_hat = self.encoder(inputs)\n",
    "        x_hat = self.decoder(z_hat)\n",
    "        return x_hat, w_hat"
   ]
  },
  {
   "cell_type": "markdown",
   "metadata": {},
   "source": [
    "## Train model "
   ]
  },
  {
   "cell_type": "code",
   "execution_count": 7,
   "metadata": {},
   "outputs": [
    {
     "name": "stdout",
     "output_type": "stream",
     "text": [
      "Epoch 1/50\n",
      "1875/1875 [==============================] - 6s 3ms/step - loss: 1251.0300 - val_loss: 477.0425\n",
      "Epoch 2/50\n",
      "1875/1875 [==============================] - 4s 2ms/step - loss: 775.8394 - val_loss: 347.5378\n",
      "Epoch 3/50\n",
      "1875/1875 [==============================] - 4s 2ms/step - loss: 663.7952 - val_loss: 342.5687\n",
      "Epoch 4/50\n",
      "1875/1875 [==============================] - 4s 2ms/step - loss: 647.0506 - val_loss: 317.3023\n",
      "Epoch 5/50\n",
      "1875/1875 [==============================] - 3s 2ms/step - loss: 632.3334 - val_loss: 344.2504\n",
      "Epoch 6/50\n",
      "1875/1875 [==============================] - 3s 2ms/step - loss: 608.3414 - val_loss: 314.4004\n",
      "Epoch 7/50\n",
      "1875/1875 [==============================] - 3s 2ms/step - loss: 598.0290 - val_loss: 322.6079\n",
      "Epoch 8/50\n",
      "1875/1875 [==============================] - 3s 2ms/step - loss: 605.8072 - val_loss: 315.6419\n",
      "Epoch 9/50\n",
      "1875/1875 [==============================] - 3s 2ms/step - loss: 617.1091 - val_loss: 333.3849\n",
      "Epoch 10/50\n",
      "1875/1875 [==============================] - 3s 2ms/step - loss: 600.1695 - val_loss: 336.1378\n",
      "Epoch 11/50\n",
      "1875/1875 [==============================] - 4s 2ms/step - loss: 572.3647 - val_loss: 294.9659\n",
      "Epoch 12/50\n",
      "1875/1875 [==============================] - 4s 2ms/step - loss: 556.6025 - val_loss: 316.1464 - ETA: 0s - loss\n",
      "Epoch 13/50\n",
      "1875/1875 [==============================] - 5s 3ms/step - loss: 619.7650 - val_loss: 321.4299\n",
      "Epoch 14/50\n",
      "1875/1875 [==============================] - 4s 2ms/step - loss: 559.8158 - val_loss: 290.0230\n",
      "Epoch 15/50\n",
      "1875/1875 [==============================] - 5s 3ms/step - loss: 538.0884 - val_loss: 284.4424\n",
      "Epoch 16/50\n",
      "1875/1875 [==============================] - 4s 2ms/step - loss: 571.4175 - val_loss: 300.9985\n",
      "Epoch 17/50\n",
      "1875/1875 [==============================] - 5s 3ms/step - loss: 561.1517 - val_loss: 294.0109\n",
      "Epoch 18/50\n",
      "1875/1875 [==============================] - 4s 2ms/step - loss: 585.3563 - val_loss: 355.3302\n",
      "Epoch 19/50\n",
      "1875/1875 [==============================] - 4s 2ms/step - loss: 584.2855 - val_loss: 312.2907\n",
      "Epoch 20/50\n",
      "1875/1875 [==============================] - 3s 2ms/step - loss: 576.8910 - val_loss: 314.0438\n",
      "Epoch 21/50\n",
      "1875/1875 [==============================] - 4s 2ms/step - loss: 578.5247 - val_loss: 322.0637\n",
      "Epoch 22/50\n",
      "1875/1875 [==============================] - 4s 2ms/step - loss: 568.5144 - val_loss: 300.7208\n",
      "Epoch 23/50\n",
      "1875/1875 [==============================] - 4s 2ms/step - loss: 572.8901 - val_loss: 282.6361\n",
      "Epoch 24/50\n",
      "1875/1875 [==============================] - 4s 2ms/step - loss: 597.6530 - val_loss: 290.0019\n",
      "Epoch 25/50\n",
      "1875/1875 [==============================] - 4s 2ms/step - loss: 597.2524 - val_loss: 320.9381\n",
      "Epoch 26/50\n",
      "1875/1875 [==============================] - 4s 2ms/step - loss: 576.0755 - val_loss: 315.8408\n",
      "Epoch 27/50\n",
      "1875/1875 [==============================] - 4s 2ms/step - loss: 570.2492 - val_loss: 305.0999\n",
      "Epoch 28/50\n",
      "1875/1875 [==============================] - 3s 2ms/step - loss: 592.1058 - val_loss: 347.2058\n",
      "Epoch 29/50\n",
      "1875/1875 [==============================] - 3s 2ms/step - loss: 597.2132 - val_loss: 320.8003\n",
      "Epoch 30/50\n",
      "1875/1875 [==============================] - 3s 2ms/step - loss: 609.5448 - val_loss: 311.2854\n",
      "Epoch 31/50\n",
      "1875/1875 [==============================] - 3s 2ms/step - loss: 605.8257 - val_loss: 319.0575\n",
      "Epoch 32/50\n",
      "1875/1875 [==============================] - 4s 2ms/step - loss: 586.6270 - val_loss: 307.6738\n",
      "Epoch 33/50\n",
      "1875/1875 [==============================] - 3s 2ms/step - loss: 582.3644 - val_loss: 302.4879\n",
      "Epoch 34/50\n",
      "1875/1875 [==============================] - 4s 2ms/step - loss: 595.9150 - val_loss: 327.9087\n",
      "Epoch 35/50\n",
      "1875/1875 [==============================] - 4s 2ms/step - loss: 582.8055 - val_loss: 314.1150\n",
      "Epoch 36/50\n",
      "1875/1875 [==============================] - 3s 2ms/step - loss: 604.8204 - val_loss: 313.3512\n",
      "Epoch 37/50\n",
      "1875/1875 [==============================] - 3s 2ms/step - loss: 613.5117 - val_loss: 354.1906\n",
      "Epoch 38/50\n",
      "1875/1875 [==============================] - 3s 2ms/step - loss: 599.4720 - val_loss: 332.0009\n",
      "Epoch 39/50\n",
      "1875/1875 [==============================] - 3s 2ms/step - loss: 580.6845 - val_loss: 295.3677\n",
      "Epoch 40/50\n",
      "1875/1875 [==============================] - 3s 2ms/step - loss: 566.3103 - val_loss: 297.6895\n",
      "Epoch 41/50\n",
      "1875/1875 [==============================] - 4s 2ms/step - loss: 566.9251 - val_loss: 308.2582\n",
      "Epoch 42/50\n",
      "1875/1875 [==============================] - 4s 2ms/step - loss: 585.8892 - val_loss: 302.4550\n",
      "Epoch 43/50\n",
      "1875/1875 [==============================] - 4s 2ms/step - loss: 606.7049 - val_loss: 324.5440\n",
      "Epoch 44/50\n",
      "1875/1875 [==============================] - 3s 2ms/step - loss: 588.0290 - val_loss: 344.0559\n",
      "Epoch 45/50\n",
      "1875/1875 [==============================] - 4s 2ms/step - loss: 584.7482 - val_loss: 320.4971\n",
      "Epoch 46/50\n",
      "1875/1875 [==============================] - 3s 2ms/step - loss: 572.9374 - val_loss: 318.0507\n",
      "Epoch 47/50\n",
      "1875/1875 [==============================] - 4s 2ms/step - loss: 580.1396 - val_loss: 302.3319\n",
      "Epoch 48/50\n",
      "1875/1875 [==============================] - 3s 2ms/step - loss: 572.0020 - val_loss: 322.8629\n",
      "Epoch 49/50\n",
      "1875/1875 [==============================] - 3s 2ms/step - loss: 580.1999 - val_loss: 314.5565\n",
      "Epoch 50/50\n",
      "1875/1875 [==============================] - 3s 2ms/step - loss: 574.5417 - val_loss: 309.4345\n"
     ]
    },
    {
     "data": {
      "text/plain": [
       "<tensorflow.python.keras.callbacks.History at 0x7f9dfb7c97b8>"
      ]
     },
     "execution_count": 7,
     "metadata": {},
     "output_type": "execute_result"
    }
   ],
   "source": [
    "model = MemAE()\n",
    "#model.compile(optimizer=keras.optimizers.Adam(),run_eagerly=True)\n",
    "model.compile(optimizer=keras.optimizers.Adam())\n",
    "model.fit(X_train,validation_data=(X_valid,X_valid), epochs=50, batch_size=32)"
   ]
  },
  {
   "cell_type": "markdown",
   "metadata": {},
   "source": [
    "## Test model"
   ]
  },
  {
   "cell_type": "markdown",
   "metadata": {},
   "source": [
    "### In sample"
   ]
  },
  {
   "cell_type": "code",
   "execution_count": 8,
   "metadata": {},
   "outputs": [
    {
     "data": {
      "image/png": "[encoded data removed]",
      "text/plain": [
       "<Figure size 432x288 with 1 Axes>"
      ]
     },
     "metadata": {
      "needs_background": "light"
     },
     "output_type": "display_data"
    }
   ],
   "source": [
    "plt.imshow(X_train[8,:,:], cmap=\"gray\")\n",
    "plt.show()"
   ]
  },
  {
   "cell_type": "code",
   "execution_count": 9,
   "metadata": {},
   "outputs": [
    {
     "name": "stdout",
     "output_type": "stream",
     "text": [
      "(1, 28, 28)\n"
     ]
    },
    {
     "data": {
      "image/png": "[encoded data removed]",
      "text/plain": [
       "<Figure size 432x288 with 1 Axes>"
      ]
     },
     "metadata": {
      "needs_background": "light"
     },
     "output_type": "display_data"
    }
   ],
   "source": [
    "i = X_train[8,:,:].reshape(1,28,28)\n",
    "print(i.shape)\n",
    "xh, _ = model(i)\n",
    "plt.imshow(xh[0,:,:], cmap=\"gray\")\n",
    "plt.show()"
   ]
  },
  {
   "cell_type": "markdown",
   "metadata": {},
   "source": [
    "## Out of sample"
   ]
  },
  {
   "cell_type": "code",
   "execution_count": 10,
   "metadata": {},
   "outputs": [
    {
     "data": {
      "image/png": "[encoded data removed]",
      "text/plain": [
       "<Figure size 432x288 with 1 Axes>"
      ]
     },
     "metadata": {
      "needs_background": "light"
     },
     "output_type": "display_data"
    }
   ],
   "source": [
    "noise = np.random.rand(1,28,28)\n",
    "plt.imshow(noise[0,:,:], cmap=\"gray\")\n",
    "plt.show()"
   ]
  },
  {
   "cell_type": "code",
   "execution_count": 11,
   "metadata": {},
   "outputs": [
    {
     "data": {
      "image/png": "[encoded data removed]",
      "text/plain": [
       "<Figure size 432x288 with 1 Axes>"
      ]
     },
     "metadata": {
      "needs_background": "light"
     },
     "output_type": "display_data"
    }
   ],
   "source": [
    "xh_noise, _ = model(noise)\n",
    "plt.imshow(xh_noise[0,:,:], cmap=\"gray\")\n",
    "plt.show()"
   ]
  },
  {
   "cell_type": "code",
   "execution_count": null,
   "metadata": {},
   "outputs": [],
   "source": []
  },
  {
   "cell_type": "code",
   "execution_count": null,
   "metadata": {},
   "outputs": [],
   "source": []
  }
 ],
 "metadata": {
  "kernelspec": {
   "display_name": "tfp-env",
   "language": "python",
   "name": "anaconda-tfp_env"
  },
  "language_info": {
   "codemirror_mode": {
    "name": "ipython",
    "version": 3
   },
   "file_extension": ".py",
   "mimetype": "text/x-python",
   "name": "python",
   "nbconvert_exporter": "python",
   "pygments_lexer": "ipython3",
   "version": "3.6.12"
  }
 },
 "nbformat": 4,
 "nbformat_minor": 4
}
